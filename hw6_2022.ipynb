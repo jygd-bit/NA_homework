{
 "cells": [
  {
   "cell_type": "markdown",
   "id": "f5acfaaa-451d-40be-a346-bb3ea0080c6c",
   "metadata": {
    "nbgrader": {
     "grade": false,
     "grade_id": "cell-06d3e5bf55c941ae",
     "locked": true,
     "schema_version": 3,
     "solution": false,
     "task": false
    },
    "tags": []
   },
   "source": [
    "# Homework set 6"
   ]
  },
  {
   "cell_type": "markdown",
   "id": "d27a57bc-1ba5-4454-a9a8-aa40c52cdb14",
   "metadata": {
    "nbgrader": {
     "grade": false,
     "grade_id": "cell-736ff6bc3e0d0696",
     "locked": true,
     "schema_version": 3,
     "solution": false,
     "task": false
    }
   },
   "source": [
    "Before you turn this problem in, make sure everything runs as expected (in the menubar, select Kernel → Restart Kernel and Run All Cells...).\n",
    "\n",
    "Please **submit this Jupyter notebook through Canvas** no later than **Mon Dec. 12, 9:00**. **Submit the notebook file with your answers (as .ipynb file) and a pdf printout. The pdf version can be used by the teachers to provide feedback. A pdf version can be made using the save and export option in the Jupyter Lab file menu.**\n",
    "\n",
    "Homework is in **groups of two**, and you are expected to hand in original work. Work that is copied from another group will not be accepted."
   ]
  },
  {
   "cell_type": "markdown",
   "id": "f837b9e3-1b11-430f-860f-6f92d9bbd3b5",
   "metadata": {
    "nbgrader": {
     "grade": false,
     "grade_id": "cell-b13bc5ed16bce8e0",
     "locked": true,
     "schema_version": 3,
     "solution": false,
     "task": false
    }
   },
   "source": [
    "# Exercise 0\n",
    "Write down the names + student ID of the people in your group."
   ]
  },
  {
   "cell_type": "markdown",
   "id": "bb5b94ac-a716-4799-83e7-b9966f383ef8",
   "metadata": {
    "nbgrader": {
     "grade": true,
     "grade_id": "cell-fd464f55ba436b1c",
     "locked": false,
     "points": 0,
     "schema_version": 3,
     "solution": true,
     "task": false
    }
   },
   "source": [
    "Jade Dubbeld, 11692065\n",
    "\n",
    "Maickel Hartlief, 14015277"
   ]
  },
  {
   "cell_type": "code",
   "execution_count": 68,
   "id": "442ccdfc",
   "metadata": {},
   "outputs": [],
   "source": [
    "import numpy as np\n",
    "import matplotlib.pyplot as plt\n",
    "from scipy.integrate import quad"
   ]
  },
  {
   "cell_type": "markdown",
   "id": "82801a78-05be-4699-9d16-e748df43c3d0",
   "metadata": {},
   "source": [
    "----------------\n",
    "\n",
    "# Exercise 1 (4.5 points)\n",
    "\n",
    "A bacterial population $P$ grows according to the geometric progression\n",
    "\n",
    "$$P_t = rP_{t-1}$$\n",
    "\n",
    "Where r is the growth rate. The following population counts $P_1 ,\\ldots, P_8$ (in billions) are observed:"
   ]
  },
  {
   "cell_type": "code",
   "execution_count": 59,
   "id": "de680868-28c8-43dd-bfaa-0157ac3f16f7",
   "metadata": {},
   "outputs": [],
   "source": [
    "data = [0.19, 0.36, 0.69, 1.3, 2.5, 4.7, 8.5, 14]"
   ]
  },
  {
   "cell_type": "markdown",
   "id": "bb9c8d5d-b219-47b0-a6b6-f9adbe5cae62",
   "metadata": {},
   "source": [
    "# (a)\n",
    "Read chapter 6.6 on Nonlinear Least squares. Use the Gauss-Newton Method to fit the model function $f(t, x_1, x_2) = x_1\\!\\cdot x_2^t$ to the data. Find estimates for the initial population $P_0=x_1$ and the growth rate $r=x_2$.\n",
    "\n",
    "Plot the observed and modeled data and make a separate plot of the residuals."
   ]
  },
  {
   "cell_type": "code",
   "execution_count": 73,
   "id": "dc225946-bf1c-49a7-acf6-e6a84886d911",
   "metadata": {},
   "outputs": [
    {
     "name": "stdout",
     "output_type": "stream",
     "text": [
      "0.0\n"
     ]
    },
    {
     "ename": "NameError",
     "evalue": "name 'args' is not defined",
     "output_type": "error",
     "traceback": [
      "\u001b[0;31m---------------------------------------------------------------------------\u001b[0m",
      "\u001b[0;31mNameError\u001b[0m                                 Traceback (most recent call last)",
      "Input \u001b[0;32mIn [73]\u001b[0m, in \u001b[0;36m<cell line: 23>\u001b[0;34m()\u001b[0m\n\u001b[1;32m     20\u001b[0m y \u001b[38;5;241m=\u001b[39m func2(t[\u001b[38;5;241m0\u001b[39m],x)\n\u001b[1;32m     21\u001b[0m \u001b[38;5;28mprint\u001b[39m(y)\n\u001b[0;32m---> 23\u001b[0m popt, pcov \u001b[38;5;241m=\u001b[39m curve_fit(func, t, data, \u001b[43margs\u001b[49m(x))\n\u001b[1;32m     25\u001b[0m \u001b[38;5;28mprint\u001b[39m(popt,pcov)\n\u001b[1;32m     27\u001b[0m P \u001b[38;5;241m=\u001b[39m x[\u001b[38;5;241m0\u001b[39m]\n",
      "\u001b[0;31mNameError\u001b[0m: name 'args' is not defined"
     ]
    }
   ],
   "source": [
    "# YOUR CODE HERE\n",
    "from scipy.optimize import curve_fit\n",
    "\n",
    "def func2(t,x):\n",
    "    \"\"\"\n",
    "    Defining model function.\n",
    "    \n",
    "    Parameters:\n",
    "    - t (nd_array): Timepoints\n",
    "    - x (nd_array): x1 and x2 values\n",
    "    \n",
    "    Returns:\n",
    "    - f (nd_array): \n",
    "    \"\"\"\n",
    "    \n",
    "    return x[0] * x[1]**t\n",
    "\n",
    "x = np.array([0.0, 0.0], dtype=np.float32)\n",
    "t = np.arange(len(data))\n",
    "y = func2(t[0],x)\n",
    "print(y)\n",
    "\n",
    "popt, pcov = curve_fit(func, t, data, args(x))\n",
    "\n",
    "print(popt,pcov)\n",
    "\n",
    "P = x[0]\n",
    "r = x[1]\n",
    "\n",
    "# P[t] = r*P[t-1]"
   ]
  },
  {
   "cell_type": "markdown",
   "id": "94f03697-691e-4dfe-ace5-1ec18a344377",
   "metadata": {},
   "source": [
    "# (b) \n",
    "Let $f$ be a vector valued function $f = [ f_1, \\ldots, f_m ]^T$. In weighted least squares one aims to minimize the objective function\n",
    "$$\n",
    "  \\phi(x) = \\frac{1}{2} \\sum_{i=1}^m W_{ii} ( f_i(x) - y_i) ^2 , \\qquad\n",
    "  W_{ii} = \\frac{1}{\\sigma_i^2} , \n",
    "$$\n",
    "where $\\sigma_i$ is an estimate of the standard deviation in the data point $y_i$. This is equivalent to the standard least squares problem \n",
    "$$\n",
    "\\min_x \\frac{1}{2} \\| F(x) - Y \\|^2\n",
    "$$\n",
    "with $F(x) = T f(x)$  , $Y = T y$, where $T$ is the diagonal matrix with $\\frac{1}{\\sigma_i}$ on the diagonal. Assume that for each data point $y_i$ in the list above, the estimate for the standard deviation is given by\n",
    "$$\n",
    "  \\sigma_i = 0.05 y_i .\n",
    "$$ \n",
    "Perform a weighted least squares fit to obtain estimates for $P_0 = x_1$ and $r = x_2$.\n",
    "Plot the observed and modeled data and make a separate plot of the residuals.\n",
    "\n",
    "Are the results different from those of part (a)? Discuss and explain the differences.\n"
   ]
  },
  {
   "cell_type": "code",
   "execution_count": null,
   "id": "8674aaf7-083e-4c91-829c-d9d57a6a21d8",
   "metadata": {},
   "outputs": [],
   "source": [
    "# YOUR CODE HERE\n"
   ]
  },
  {
   "cell_type": "markdown",
   "id": "2fe9e6f1-cf8b-492d-8cd0-0a9ddac3d0c8",
   "metadata": {},
   "source": [
    "Your answer here"
   ]
  },
  {
   "cell_type": "markdown",
   "id": "6096efba-4248-47a2-b7dd-23775ea2d60c",
   "metadata": {},
   "source": [
    "----------------------\n",
    "# Exercise 2 (4.5 points)\n",
    "\n"
   ]
  },
  {
   "cell_type": "markdown",
   "id": "322d207e-794a-4cee-97a1-23df1e38a3b4",
   "metadata": {},
   "source": [
    "# (a) \n",
    "Let $f(x) = 1/x^2$ and $a=10^{-3}$ and $b=1$. Make a plot of the graph of $f$ on $[a,b]$. "
   ]
  },
  {
   "cell_type": "code",
   "execution_count": 41,
   "id": "2f997fc9-e6e3-4ee1-976e-10acb57b836d",
   "metadata": {},
   "outputs": [
    {
     "data": {
      "image/png": "[encoded data removed]",
      "text/plain": [
       "<Figure size 432x288 with 1 Axes>"
      ]
     },
     "metadata": {
      "needs_background": "light"
     },
     "output_type": "display_data"
    }
   ],
   "source": [
    "# Define function f(x) in Python function\n",
    "def func(x):\n",
    "    return 1/x**2\n",
    "\n",
    "# Set paramters\n",
    "a = (10**(-3))\n",
    "b = 1\n",
    "x = np.arange(a,b,a,dtype=float)\n",
    "f = func(x)\n",
    "\n",
    "# Plot graph of f(x) over interval [a,b]\n",
    "plt.plot(x,f)\n",
    "plt.xlabel('x')\n",
    "plt.ylabel('f(x)')\n",
    "plt.title('Graph of f(x) = 1/x^2 on interval [10^(-3), 1]')\n",
    "plt.show()"
   ]
  },
  {
   "cell_type": "markdown",
   "id": "3f19c170-f64d-43bb-9237-66a65c9e6379",
   "metadata": {},
   "source": [
    "# (b) \n",
    "Use scipy.integrate.quad to compute $\\int_a^b f(x) \\, dx$ with an absolute error less than 1e-4. Compare with the true value of the integral."
   ]
  },
  {
   "cell_type": "code",
   "execution_count": 69,
   "id": "89258a76-dafc-44be-b138-2ce7b7ff3fd4",
   "metadata": {},
   "outputs": [
    {
     "name": "stdout",
     "output_type": "stream",
     "text": [
      "Calculated integral using scipy.integrate.quad: 999.0000000000119\n",
      "Absolute error: 7.671666055295012e-05\n",
      "\n",
      "Absolute error tolerance set at 1e-4\n"
     ]
    }
   ],
   "source": [
    "# Compute integral of function f(x) using scipy.integrate.quad\n",
    "y, abserr = quad(func,a,b,epsabs=1.e-4)\n",
    "print(f\"Calculated integral using scipy.integrate.quad: {y}\")\n",
    "print(f\"Absolute error: {abserr}\")\n",
    "print(\"\\nAbsolute error tolerance set at 1e-4\")"
   ]
  },
  {
   "cell_type": "markdown",
   "id": "10f9a83c",
   "metadata": {},
   "source": [
    "The true value of the integral of function $f(x) = \\frac{1}{x^2}$ on interval $[a,b]$ with $a = 10^{-3}$ and $b = 1$ can be calculated as follows:\n",
    "\\\n",
    "$f(x) = \\frac{1}{x^2} = x^{-2}$\n",
    "\\\n",
    "$F(x) = -x^{-1}$\n",
    "\\\n",
    "\\\n",
    "Then,\n",
    "\\\n",
    "$\\int_a^b f(x) \\, dx = [F(x)]_a^b = [-x^{-1}]_{10^{-3}}^1 = - \\frac{1}{1} - -\\frac{1}{10^{-3}} = 999$\n"
   ]
  },
  {
   "cell_type": "markdown",
   "id": "ccb626d8-4c30-4895-9b74-7677af534d9d",
   "metadata": {},
   "source": [
    "# (c)\n",
    "scipy.integrate.quad is an adaptive integration routine (book section 8.3.6), that automatically chooses an appropriate subdivision of the interval in subintervals. Therefore in some parts of the interval $[0,1]$ the function $f$ will be evaluated more often than in other parts. Divide the interval $[0,1]$ into bins $B_i = [h * (i-1), h*i]$, with $h=0.01$. For each bin $B_i$, count the number of times $f(x)$ is evaluated with $x$ in $B_i$. Make a histogram plot of these data. In which region is there a large number of function evaluations? Can you explain this, taking into account how $f$ is defined?\n",
    "\n",
    "Hint: To know for which $x$ the function $f$ is evaluated, you can keep a global array `xVals` in which you store all values of $x$ for which the function $f$ is called. You can use a numpy array and use numpy.append to add new values to `xVals`.\n"
   ]
  },
  {
   "cell_type": "code",
   "execution_count": 70,
   "id": "24842952-1d70-4585-9dd0-841a9a4b9c61",
   "metadata": {},
   "outputs": [
    {
     "name": "stdout",
     "output_type": "stream",
     "text": [
      "0\n",
      "Calculated integral using scipy.integrate.quad with 100 bins: -100.0\n",
      "Absolute error: 5.820766091346741e-11\n",
      "1\n",
      "Calculated integral using scipy.integrate.quad with 100 bins: -100.0\n",
      "Absolute error: 5.820766091346741e-11\n",
      "2\n",
      "Calculated integral using scipy.integrate.quad with 100 bins: 50.0\n",
      "Absolute error: 5.551115123125783e-13\n",
      "3\n",
      "Calculated integral using scipy.integrate.quad with 100 bins: 16.66666666666666\n",
      "Absolute error: 1.8503717077085936e-13\n",
      "4\n",
      "Calculated integral using scipy.integrate.quad with 100 bins: 8.333333333333334\n",
      "Absolute error: 9.251858538542972e-14\n",
      "5\n",
      "Calculated integral using scipy.integrate.quad with 100 bins: 5.000000000000002\n",
      "Absolute error: 5.5511151231257846e-14\n",
      "6\n",
      "Calculated integral using scipy.integrate.quad with 100 bins: 3.3333333333333313\n",
      "Absolute error: 3.7007434154171864e-14\n",
      "7\n",
      "Calculated integral using scipy.integrate.quad with 100 bins: 2.3809523809523827\n",
      "Absolute error: 2.6433881538694223e-14\n",
      "8\n",
      "Calculated integral using scipy.integrate.quad with 100 bins: 1.785714285714284\n",
      "Absolute error: 1.9825411154020635e-14\n",
      "9\n",
      "Calculated integral using scipy.integrate.quad with 100 bins: 1.3888888888888884\n",
      "Absolute error: 1.5419764230904945e-14\n",
      "10\n",
      "Calculated integral using scipy.integrate.quad with 100 bins: 1.111111111111112\n",
      "Absolute error: 1.2335811384723971e-14\n",
      "11\n",
      "Calculated integral using scipy.integrate.quad with 100 bins: 0.9090909090909085\n",
      "Absolute error: 1.0092936587501416e-14\n",
      "12\n",
      "Calculated integral using scipy.integrate.quad with 100 bins: 0.7575757575757572\n",
      "Absolute error: 8.410780489584515e-15\n",
      "13\n",
      "Calculated integral using scipy.integrate.quad with 100 bins: 0.6410256410256416\n",
      "Absolute error: 7.116814260417676e-15\n",
      "14\n",
      "Calculated integral using scipy.integrate.quad with 100 bins: 0.5494505494505498\n",
      "Absolute error: 6.100126508929436e-15\n",
      "15\n",
      "Calculated integral using scipy.integrate.quad with 100 bins: 0.47619047619047516\n",
      "Absolute error: 5.286776307738829e-15\n",
      "16\n",
      "Calculated integral using scipy.integrate.quad with 100 bins: 0.41666666666666696\n",
      "Absolute error: 4.625929269271489e-15\n",
      "17\n",
      "Calculated integral using scipy.integrate.quad with 100 bins: 0.36764705882352977\n",
      "Absolute error: 4.081702296416021e-15\n",
      "18\n",
      "Calculated integral using scipy.integrate.quad with 100 bins: 0.3267973856209145\n",
      "Absolute error: 3.6281798190364535e-15\n",
      "19\n",
      "Calculated integral using scipy.integrate.quad with 100 bins: 0.2923976608187137\n",
      "Absolute error: 3.2462661538747295e-15\n",
      "20\n",
      "Calculated integral using scipy.integrate.quad with 100 bins: 0.2631578947368423\n",
      "Absolute error: 2.9216395384872562e-15\n",
      "21\n",
      "Calculated integral using scipy.integrate.quad with 100 bins: 0.2380952380952376\n",
      "Absolute error: 2.643388153869415e-15\n",
      "22\n",
      "Calculated integral using scipy.integrate.quad with 100 bins: 0.21645021645021667\n",
      "Absolute error: 2.4030801398812938e-15\n",
      "23\n",
      "Calculated integral using scipy.integrate.quad with 100 bins: 0.19762845849802393\n",
      "Absolute error: 2.1941166494568334e-15\n",
      "24\n",
      "Calculated integral using scipy.integrate.quad with 100 bins: 0.18115942028985477\n",
      "Absolute error: 2.011273595335425e-15\n",
      "25\n",
      "Calculated integral using scipy.integrate.quad with 100 bins: 0.16666666666666682\n",
      "Absolute error: 1.850371707708596e-15\n",
      "26\n",
      "Calculated integral using scipy.integrate.quad with 100 bins: 0.15384615384615397\n",
      "Absolute error: 1.7080354225002423e-15\n",
      "27\n",
      "Calculated integral using scipy.integrate.quad with 100 bins: 0.14245014245014256\n",
      "Absolute error: 1.581514280092817e-15\n",
      "28\n",
      "Calculated integral using scipy.integrate.quad with 100 bins: 0.13227513227513235\n",
      "Absolute error: 1.468548974371901e-15\n",
      "29\n",
      "Calculated integral using scipy.integrate.quad with 100 bins: 0.12315270935960532\n",
      "Absolute error: 1.3672697347600384e-15\n",
      "30\n",
      "Calculated integral using scipy.integrate.quad with 100 bins: 0.1149425287356323\n",
      "Absolute error: 1.2761184191093766e-15\n",
      "31\n",
      "Calculated integral using scipy.integrate.quad with 100 bins: 0.10752688172043019\n",
      "Absolute error: 1.1937881985216746e-15\n",
      "32\n",
      "Calculated integral using scipy.integrate.quad with 100 bins: 0.10080645161290333\n",
      "Absolute error: 1.1191764361140702e-15\n",
      "33\n",
      "Calculated integral using scipy.integrate.quad with 100 bins: 0.09469696969696978\n",
      "Absolute error: 1.0513475611980658e-15\n",
      "34\n",
      "Calculated integral using scipy.integrate.quad with 100 bins: 0.08912655971479508\n",
      "Absolute error: 9.895035870099442e-16\n",
      "35\n",
      "Calculated integral using scipy.integrate.quad with 100 bins: 0.08403361344537821\n",
      "Absolute error: 9.329605248950902e-16\n",
      "36\n",
      "Calculated integral using scipy.integrate.quad with 100 bins: 0.079365079365079\n",
      "Absolute error: 8.811293846231361e-16\n",
      "37\n",
      "Calculated integral using scipy.integrate.quad with 100 bins: 0.07507507507507515\n",
      "Absolute error: 8.335007692381063e-16\n",
      "38\n",
      "Calculated integral using scipy.integrate.quad with 100 bins: 0.07112375533428171\n",
      "Absolute error: 7.896323076992585e-16\n",
      "39\n",
      "Calculated integral using scipy.integrate.quad with 100 bins: 0.067476383265857\n",
      "Absolute error: 7.491383432018606e-16\n",
      "40\n",
      "Calculated integral using scipy.integrate.quad with 100 bins: 0.06410256410256415\n",
      "Absolute error: 7.116814260417675e-16\n",
      "41\n",
      "Calculated integral using scipy.integrate.quad with 100 bins: 0.06097560975609761\n",
      "Absolute error: 6.769652589177789e-16\n",
      "42\n",
      "Calculated integral using scipy.integrate.quad with 100 bins: 0.05807200929152121\n",
      "Absolute error: 6.447288180169288e-16\n",
      "43\n",
      "Calculated integral using scipy.integrate.quad with 100 bins: 0.055370985603543796\n",
      "Absolute error: 6.147414311324239e-16\n",
      "44\n",
      "Calculated integral using scipy.integrate.quad with 100 bins: 0.05285412262156453\n",
      "Absolute error: 5.867986388082228e-16\n",
      "45\n",
      "Calculated integral using scipy.integrate.quad with 100 bins: 0.050505050505050546\n",
      "Absolute error: 5.607186993056351e-16\n",
      "46\n",
      "Calculated integral using scipy.integrate.quad with 100 bins: 0.04830917874396139\n",
      "Absolute error: 5.363396254227813e-16\n",
      "47\n",
      "Calculated integral using scipy.integrate.quad with 100 bins: 0.046253469010175796\n",
      "Absolute error: 5.135166626388331e-16\n",
      "48\n",
      "Calculated integral using scipy.integrate.quad with 100 bins: 0.04432624113475157\n",
      "Absolute error: 4.921201350288792e-16\n",
      "49\n",
      "Calculated integral using scipy.integrate.quad with 100 bins: 0.04251700680272113\n",
      "Absolute error: 4.720335989052541e-16\n",
      "50\n",
      "Calculated integral using scipy.integrate.quad with 100 bins: 0.04081632653061228\n",
      "Absolute error: 4.531522549490439e-16\n",
      "51\n",
      "Calculated integral using scipy.integrate.quad with 100 bins: 0.03921568627450984\n",
      "Absolute error: 4.353815782843755e-16\n",
      "52\n",
      "Calculated integral using scipy.integrate.quad with 100 bins: 0.03770739064856715\n",
      "Absolute error: 4.186361329657457e-16\n",
      "53\n",
      "Calculated integral using scipy.integrate.quad with 100 bins: 0.03628447024673443\n",
      "Absolute error: 4.0283854304251e-16\n",
      "54\n",
      "Calculated integral using scipy.integrate.quad with 100 bins: 0.03494060097833685\n",
      "Absolute error: 3.8791859700389845e-16\n",
      "55\n",
      "Calculated integral using scipy.integrate.quad with 100 bins: 0.0336700336700337\n",
      "Absolute error: 3.7381246620375673e-16\n",
      "56\n",
      "Calculated integral using scipy.integrate.quad with 100 bins: 0.03246753246753249\n",
      "Absolute error: 3.6046202098219397e-16\n",
      "57\n",
      "Calculated integral using scipy.integrate.quad with 100 bins: 0.03132832080200503\n",
      "Absolute error: 3.4781423077229236e-16\n",
      "58\n",
      "Calculated integral using scipy.integrate.quad with 100 bins: 0.030248033877797634\n",
      "Absolute error: 3.358206366077269e-16\n",
      "59\n",
      "Calculated integral using scipy.integrate.quad with 100 bins: 0.029222676797194654\n",
      "Absolute error: 3.244368862142483e-16\n",
      "60\n",
      "Calculated integral using scipy.integrate.quad with 100 bins: 0.0282485875706215\n",
      "Absolute error: 3.1362232334044006e-16\n",
      "61\n",
      "Calculated integral using scipy.integrate.quad with 100 bins: 0.027322404371584723\n",
      "Absolute error: 3.033396242145239e-16\n",
      "62\n",
      "Calculated integral using scipy.integrate.quad with 100 bins: 0.02644103648863038\n",
      "Absolute error: 2.9355447504631347e-16\n",
      "63\n",
      "Calculated integral using scipy.integrate.quad with 100 bins: 0.02560163850486433\n",
      "Absolute error: 2.8423528536230347e-16\n",
      "64\n",
      "Calculated integral using scipy.integrate.quad with 100 bins: 0.02480158730158732\n",
      "Absolute error: 2.753529326947315e-16\n",
      "65\n",
      "Calculated integral using scipy.integrate.quad with 100 bins: 0.024038461538461557\n",
      "Absolute error: 2.668805347656628e-16\n",
      "66\n",
      "Calculated integral using scipy.integrate.quad with 100 bins: 0.023310023310023333\n",
      "Absolute error: 2.587932458333701e-16\n",
      "67\n",
      "Calculated integral using scipy.integrate.quad with 100 bins: 0.02261420171867935\n",
      "Absolute error: 2.51068074315956e-16\n",
      "68\n",
      "Calculated integral using scipy.integrate.quad with 100 bins: 0.02194907813871819\n",
      "Absolute error: 2.436837191890161e-16\n",
      "69\n",
      "Calculated integral using scipy.integrate.quad with 100 bins: 0.02131287297527708\n",
      "Absolute error: 2.366204229806388e-16\n",
      "70\n",
      "Calculated integral using scipy.integrate.quad with 100 bins: 0.020703933747412022\n",
      "Absolute error: 2.2985983946690627e-16\n",
      "71\n",
      "Calculated integral using scipy.integrate.quad with 100 bins: 0.02012072434607625\n",
      "Absolute error: 2.23384914411498e-16\n",
      "72\n",
      "Calculated integral using scipy.integrate.quad with 100 bins: 0.019561815336463242\n",
      "Absolute error: 2.1717977790006995e-16\n",
      "73\n",
      "Calculated integral using scipy.integrate.quad with 100 bins: 0.019025875190258768\n",
      "Absolute error: 2.1122964699869815e-16\n",
      "74\n",
      "Calculated integral using scipy.integrate.quad with 100 bins: 0.0185116623472788\n",
      "Absolute error: 2.0552073762035496e-16\n",
      "75\n",
      "Calculated integral using scipy.integrate.quad with 100 bins: 0.018018018018018032\n",
      "Absolute error: 2.0004018461714547e-16\n",
      "76\n",
      "Calculated integral using scipy.integrate.quad with 100 bins: 0.01754385964912282\n",
      "Absolute error: 1.9477596923248374e-16\n",
      "77\n",
      "Calculated integral using scipy.integrate.quad with 100 bins: 0.01708817498291184\n",
      "Absolute error: 1.8971685314852315e-16\n",
      "78\n",
      "Calculated integral using scipy.integrate.quad with 100 bins: 0.016650016650016662\n",
      "Absolute error: 1.8485231845240714e-16\n",
      "79\n",
      "Calculated integral using scipy.integrate.quad with 100 bins: 0.016228497241155482\n",
      "Absolute error: 1.8017251292196647e-16\n",
      "80\n",
      "Calculated integral using scipy.integrate.quad with 100 bins: 0.015822784810126597\n",
      "Absolute error: 1.7566820009891735e-16\n",
      "81\n",
      "Calculated integral using scipy.integrate.quad with 100 bins: 0.01543209876543211\n",
      "Absolute error: 1.713307136767218e-16\n",
      "82\n",
      "Calculated integral using scipy.integrate.quad with 100 bins: 0.015055706112616696\n",
      "Absolute error: 1.6715191578216766e-16\n",
      "83\n",
      "Calculated integral using scipy.integrate.quad with 100 bins: 0.014692918013517497\n",
      "Absolute error: 1.6312415877536843e-16\n",
      "84\n",
      "Calculated integral using scipy.integrate.quad with 100 bins: 0.014343086632243112\n",
      "Absolute error: 1.5924025023309598e-16\n",
      "85\n",
      "Calculated integral using scipy.integrate.quad with 100 bins: 0.01400560224089637\n",
      "Absolute error: 1.5549342081584837e-16\n",
      "86\n",
      "Calculated integral using scipy.integrate.quad with 100 bins: 0.013679890560875523\n",
      "Absolute error: 1.5187729475036352e-16\n",
      "87\n",
      "Calculated integral using scipy.integrate.quad with 100 bins: 0.013365410318096776\n",
      "Absolute error: 1.4838586268713678e-16\n",
      "88\n",
      "Calculated integral using scipy.integrate.quad with 100 bins: 0.013061650992685489\n",
      "Absolute error: 1.4501345671697463e-16\n",
      "89\n",
      "Calculated integral using scipy.integrate.quad with 100 bins: 0.012768130745658848\n",
      "Absolute error: 1.4175472735254821e-16\n",
      "90\n",
      "Calculated integral using scipy.integrate.quad with 100 bins: 0.012484394506866427\n",
      "Absolute error: 1.3860462230026935e-16\n",
      "91\n",
      "Calculated integral using scipy.integrate.quad with 100 bins: 0.01221001221001222\n",
      "Absolute error: 1.355583668650986e-16\n",
      "92\n",
      "Calculated integral using scipy.integrate.quad with 100 bins: 0.011944577161968476\n",
      "Absolute error: 1.326114458462921e-16\n",
      "93\n",
      "Calculated integral using scipy.integrate.quad with 100 bins: 0.011687704534829368\n",
      "Absolute error: 1.297595867958342e-16\n",
      "94\n",
      "Calculated integral using scipy.integrate.quad with 100 bins: 0.011439029970258531\n",
      "Absolute error: 1.2699874452358242e-16\n",
      "95\n",
      "Calculated integral using scipy.integrate.quad with 100 bins: 0.011198208286674139\n",
      "Absolute error: 1.2432508674413854e-16\n",
      "96\n",
      "Calculated integral using scipy.integrate.quad with 100 bins: 0.01096491228070164\n",
      "Absolute error: 1.2173498077030098e-16\n",
      "97\n",
      "Calculated integral using scipy.integrate.quad with 100 bins: 0.010738831615120287\n",
      "Absolute error: 1.19224981166791e-16\n",
      "98\n",
      "Calculated integral using scipy.integrate.quad with 100 bins: 0.010519671786240279\n",
      "Absolute error: 1.1679181828583606e-16\n",
      "99\n",
      "Calculated integral using scipy.integrate.quad with 100 bins: 0.010307153164296031\n",
      "Absolute error: 1.1443238761339492e-16\n"
     ]
    },
    {
     "name": "stderr",
     "output_type": "stream",
     "text": [
      "/var/folders/zb/qwtwsp1d539dg2nj7t84r7mc0000gn/T/ipykernel_31345/2408998625.py:20: IntegrationWarning: The integral is probably divergent, or slowly convergent.\n",
      "  y, abserr = quad(func,bin[0],bin[1])\n"
     ]
    }
   ],
   "source": [
    "# YOUR CODE HERE\n",
    "\"\"\"\n",
    "TODO: ik snap eigenlijk niet echt hoe die scipy.integrate.quad meerdere keren een function f kan evaluaten\n",
    "en\n",
    "hoe je dat resultaat dan kan returnen uit de method\n",
    "\n",
    "Ik denk dat ik de bins goed heb gemaakt\n",
    "\"\"\"\n",
    "\n",
    "h = 0.01\n",
    "interval = np.arange(a,b,h)\n",
    "\n",
    "bins = []\n",
    "for i in range(100):\n",
    "    bins.append((h*(i-1),h*i))\n",
    "    \n",
    "# print(bins)\n",
    "\n",
    "for index,bin in enumerate(bins):\n",
    "    y, abserr = quad(func,bin[0],bin[1])\n",
    "    \n",
    "    print(index)\n",
    "    print(f\"Calculated integral using scipy.integrate.quad with 100 bins: {y}\")\n",
    "    print(f\"Absolute error: {abserr}\")"
   ]
  },
  {
   "cell_type": "markdown",
   "id": "ee5ee155-8705-490a-9fed-0282e89a7e44",
   "metadata": {},
   "source": [
    "Your answer here."
   ]
  }
 ],
 "metadata": {
  "kernelspec": {
   "display_name": "Python 3 (ipykernel)",
   "language": "python",
   "name": "python3"
  },
  "language_info": {
   "codemirror_mode": {
    "name": "ipython",
    "version": 3
   },
   "file_extension": ".py",
   "mimetype": "text/x-python",
   "name": "python",
   "nbconvert_exporter": "python",
   "pygments_lexer": "ipython3",
   "version": "3.9.12"
  }
 },
 "nbformat": 4,
 "nbformat_minor": 5
}
