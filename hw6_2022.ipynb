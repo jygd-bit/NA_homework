{
 "cells": [
  {
   "cell_type": "markdown",
   "id": "f5acfaaa-451d-40be-a346-bb3ea0080c6c",
   "metadata": {
    "nbgrader": {
     "grade": false,
     "grade_id": "cell-06d3e5bf55c941ae",
     "locked": true,
     "schema_version": 3,
     "solution": false,
     "task": false
    },
    "tags": []
   },
   "source": [
    "# Homework set 6"
   ]
  },
  {
   "cell_type": "markdown",
   "id": "d27a57bc-1ba5-4454-a9a8-aa40c52cdb14",
   "metadata": {
    "nbgrader": {
     "grade": false,
     "grade_id": "cell-736ff6bc3e0d0696",
     "locked": true,
     "schema_version": 3,
     "solution": false,
     "task": false
    }
   },
   "source": [
    "Before you turn this problem in, make sure everything runs as expected (in the menubar, select Kernel → Restart Kernel and Run All Cells...).\n",
    "\n",
    "Please **submit this Jupyter notebook through Canvas** no later than **Mon Dec. 12, 9:00**. **Submit the notebook file with your answers (as .ipynb file) and a pdf printout. The pdf version can be used by the teachers to provide feedback. A pdf version can be made using the save and export option in the Jupyter Lab file menu.**\n",
    "\n",
    "Homework is in **groups of two**, and you are expected to hand in original work. Work that is copied from another group will not be accepted."
   ]
  },
  {
   "cell_type": "markdown",
   "id": "f837b9e3-1b11-430f-860f-6f92d9bbd3b5",
   "metadata": {
    "nbgrader": {
     "grade": false,
     "grade_id": "cell-b13bc5ed16bce8e0",
     "locked": true,
     "schema_version": 3,
     "solution": false,
     "task": false
    }
   },
   "source": [
    "# Exercise 0\n",
    "Write down the names + student ID of the people in your group."
   ]
  },
  {
   "cell_type": "markdown",
   "id": "bb5b94ac-a716-4799-83e7-b9966f383ef8",
   "metadata": {
    "nbgrader": {
     "grade": true,
     "grade_id": "cell-fd464f55ba436b1c",
     "locked": false,
     "points": 0,
     "schema_version": 3,
     "solution": true,
     "task": false
    }
   },
   "source": [
    "Jade Dubbeld, 11692065\n",
    "\n",
    "Maickel Hartlief, 14015277"
   ]
  },
  {
   "cell_type": "code",
   "execution_count": 1,
   "id": "442ccdfc",
   "metadata": {},
   "outputs": [
    {
     "name": "stderr",
     "output_type": "stream",
     "text": [
      "In /home/makkol/anaconda3/lib/python3.7/site-packages/matplotlib/mpl-data/stylelib/_classic_test.mplstyle: \n",
      "The text.latex.preview rcparam was deprecated in Matplotlib 3.3 and will be removed two minor releases later.\n",
      "In /home/makkol/anaconda3/lib/python3.7/site-packages/matplotlib/mpl-data/stylelib/_classic_test.mplstyle: \n",
      "The mathtext.fallback_to_cm rcparam was deprecated in Matplotlib 3.3 and will be removed two minor releases later.\n",
      "In /home/makkol/anaconda3/lib/python3.7/site-packages/matplotlib/mpl-data/stylelib/_classic_test.mplstyle: Support for setting the 'mathtext.fallback_to_cm' rcParam is deprecated since 3.3 and will be removed two minor releases later; use 'mathtext.fallback : 'cm' instead.\n",
      "In /home/makkol/anaconda3/lib/python3.7/site-packages/matplotlib/mpl-data/stylelib/_classic_test.mplstyle: \n",
      "The validate_bool_maybe_none function was deprecated in Matplotlib 3.3 and will be removed two minor releases later.\n",
      "In /home/makkol/anaconda3/lib/python3.7/site-packages/matplotlib/mpl-data/stylelib/_classic_test.mplstyle: \n",
      "The savefig.jpeg_quality rcparam was deprecated in Matplotlib 3.3 and will be removed two minor releases later.\n",
      "In /home/makkol/anaconda3/lib/python3.7/site-packages/matplotlib/mpl-data/stylelib/_classic_test.mplstyle: \n",
      "The keymap.all_axes rcparam was deprecated in Matplotlib 3.3 and will be removed two minor releases later.\n",
      "In /home/makkol/anaconda3/lib/python3.7/site-packages/matplotlib/mpl-data/stylelib/_classic_test.mplstyle: \n",
      "The animation.avconv_path rcparam was deprecated in Matplotlib 3.3 and will be removed two minor releases later.\n",
      "In /home/makkol/anaconda3/lib/python3.7/site-packages/matplotlib/mpl-data/stylelib/_classic_test.mplstyle: \n",
      "The animation.avconv_args rcparam was deprecated in Matplotlib 3.3 and will be removed two minor releases later.\n"
     ]
    }
   ],
   "source": [
    "import numpy as np\n",
    "import matplotlib.pyplot as plt\n",
    "from scipy.integrate import quad\n",
    "from scipy.optimize import curve_fit, minimize"
   ]
  },
  {
   "cell_type": "markdown",
   "id": "82801a78-05be-4699-9d16-e748df43c3d0",
   "metadata": {},
   "source": [
    "----------------\n",
    "\n",
    "# Exercise 1 (4.5 points)\n",
    "\n",
    "A bacterial population $P$ grows according to the geometric progression\n",
    "\n",
    "$$P_t = rP_{t-1}$$\n",
    "\n",
    "Where r is the growth rate. The following population counts $P_1 ,\\ldots, P_8$ (in billions) are observed:"
   ]
  },
  {
   "cell_type": "code",
   "execution_count": 2,
   "id": "de680868-28c8-43dd-bfaa-0157ac3f16f7",
   "metadata": {},
   "outputs": [],
   "source": [
    "data = [0.19, 0.36, 0.69, 1.3, 2.5, 4.7, 8.5, 14]"
   ]
  },
  {
   "cell_type": "markdown",
   "id": "bb9c8d5d-b219-47b0-a6b6-f9adbe5cae62",
   "metadata": {},
   "source": [
    "# (a)\n",
    "Read chapter 6.6 on Nonlinear Least squares. Use the Gauss-Newton Method to fit the model function $f(t, x_1, x_2) = x_1\\!\\cdot x_2^t$ to the data. Find estimates for the initial population $P_0=x_1$ and the growth rate $r=x_2$.\n",
    "\n",
    "Plot the observed and modeled data and make a separate plot of the residuals."
   ]
  },
  {
   "cell_type": "code",
   "execution_count": 3,
   "id": "dc225946-bf1c-49a7-acf6-e6a84886d911",
   "metadata": {},
   "outputs": [
    {
     "ename": "NameError",
     "evalue": "name 'x' is not defined",
     "output_type": "error",
     "traceback": [
      "\u001b[0;31m---------------------------------------------------------------------------\u001b[0m",
      "\u001b[0;31mNameError\u001b[0m                                 Traceback (most recent call last)",
      "\u001b[0;32m/tmp/ipykernel_9190/3393241801.py\u001b[0m in \u001b[0;36m<module>\u001b[0;34m\u001b[0m\n\u001b[1;32m     36\u001b[0m     \u001b[0;32mreturn\u001b[0m \u001b[0my_approx\u001b[0m\u001b[0;34m,\u001b[0m \u001b[0mx\u001b[0m\u001b[0;34m,\u001b[0m \u001b[0mresiduals\u001b[0m\u001b[0;34m[\u001b[0m\u001b[0;36m0\u001b[0m\u001b[0;34m]\u001b[0m\u001b[0;34m\u001b[0m\u001b[0;34m\u001b[0m\u001b[0m\n\u001b[1;32m     37\u001b[0m \u001b[0;34m\u001b[0m\u001b[0m\n\u001b[0;32m---> 38\u001b[0;31m \u001b[0my_approx\u001b[0m\u001b[0;34m,\u001b[0m \u001b[0mx\u001b[0m\u001b[0;34m,\u001b[0m \u001b[0mresiduals\u001b[0m \u001b[0;34m=\u001b[0m \u001b[0mgn\u001b[0m\u001b[0;34m(\u001b[0m\u001b[0mx\u001b[0m\u001b[0;34m,\u001b[0m \u001b[0mdata\u001b[0m\u001b[0;34m)\u001b[0m\u001b[0;34m\u001b[0m\u001b[0;34m\u001b[0m\u001b[0m\n\u001b[0m\u001b[1;32m     39\u001b[0m \u001b[0;34m\u001b[0m\u001b[0m\n\u001b[1;32m     40\u001b[0m \u001b[0mprint\u001b[0m\u001b[0;34m(\u001b[0m\u001b[0;34mf\"Optimal values: P0 = {x[0]} and r = {x[1]}\"\u001b[0m\u001b[0;34m)\u001b[0m\u001b[0;34m\u001b[0m\u001b[0;34m\u001b[0m\u001b[0m\n",
      "\u001b[0;31mNameError\u001b[0m: name 'x' is not defined"
     ]
    }
   ],
   "source": [
    "def func(t, x1, x2):\n",
    "    \"\"\"\n",
    "    Defining model function.\n",
    "    \n",
    "    Parameters:\n",
    "    - t (nd_array): Timepoints\n",
    "    - x (nd_array): x1 and x2 values\n",
    "    \n",
    "    Returns:\n",
    "    - f (nd_array): \n",
    "    \"\"\"\n",
    "    \n",
    "    return x1 * x2**t\n",
    "\n",
    "t = np.arange(len(data))\n",
    "\n",
    "residuals = []\n",
    "\n",
    "def gn(x, y = [0.19, 0.36, 0.69, 1.3, 2.5, 4.7, 8.5, 14]):\n",
    "    n = len(y)\n",
    "    jacobian = np.empty((n, 2))\n",
    "    summed_res = 100\n",
    "    k = 0\n",
    "    global residuals\n",
    "    residuals = []\n",
    "    while k < 1000 and summed_res > .75:\n",
    "        k += 1\n",
    "        y_approx = [func(t, x[0], x[1]) for t in range(n)]\n",
    "        residuals.append(np.array(y_approx) - np.array(y))\n",
    "        summed_res = np.linalg.norm(residuals[-1])\n",
    "        for t in range(n):\n",
    "            jacobian[t, 0] = -x[1] ** t\n",
    "            jacobian[t, 1] = -x[0] * t * x[1] ** (t - 1)\n",
    "        s = np.linalg.lstsq(jacobian, -residuals[-1], None)[0]\n",
    "        x = x - s\n",
    "    return y_approx, x, residuals[0]\n",
    "\n",
    "y_approx, x, residuals = gn([], data)\n",
    "\n",
    "print(f\"Optimal values: P0 = {x[0]} and r = {x[1]}\")\n",
    "\n",
    "plt.plot(data, 'g', label = 'Original data')\n",
    "plt.plot(data, 'go',label = 'Data points')\n",
    "plt.plot(func(t, x[0], x[1]), 'r--', label = 'Modelled data')\n",
    "plt.xlabel('Timepoints')\n",
    "plt.ylabel('Data')\n",
    "plt.title('Plot of original data vs modelled data')\n",
    "plt.legend()\n",
    "plt.show()\n",
    "\n",
    "print(residuals)\n",
    "plt.plot(residuals)\n",
    "plt.xlabel('Timepoints')\n",
    "plt.ylabel('Residuals')\n",
    "plt.title('Plot of residuals over iterations (observed - modelled)')\n",
    "plt.show()"
   ]
  },
  {
   "cell_type": "markdown",
   "id": "94f03697-691e-4dfe-ace5-1ec18a344377",
   "metadata": {},
   "source": [
    "# (b) \n",
    "Let $f$ be a vector valued function $f = [ f_1, \\ldots, f_m ]^T$. In weighted least squares one aims to minimize the objective function\n",
    "$$\n",
    "  \\phi(x) = \\frac{1}{2} \\sum_{i=1}^m W_{ii} ( f_i(x) - y_i) ^2 , \\qquad\n",
    "  W_{ii} = \\frac{1}{\\sigma_i^2} , \n",
    "$$\n",
    "where $\\sigma_i$ is an estimate of the standard deviation in the data point $y_i$. This is equivalent to the standard least squares problem \n",
    "$$\n",
    "\\min_x \\frac{1}{2} \\| F(x) - Y \\|^2\n",
    "$$\n",
    "with $F(x) = T f(x)$  , $Y = T y$, where $T$ is the diagonal matrix with $\\frac{1}{\\sigma_i}$ on the diagonal. Assume that for each data point $y_i$ in the list above, the estimate for the standard deviation is given by\n",
    "$$\n",
    "  \\sigma_i = 0.05 y_i .\n",
    "$$ \n",
    "Perform a weighted least squares fit to obtain estimates for $P_0 = x_1$ and $r = x_2$.\n",
    "Plot the observed and modeled data and make a separate plot of the residuals.\n",
    "\n",
    "Are the results different from those of part (a)? Discuss and explain the differences.\n"
   ]
  },
  {
   "cell_type": "code",
   "execution_count": null,
   "id": "8674aaf7-083e-4c91-829c-d9d57a6a21d8",
   "metadata": {},
   "outputs": [],
   "source": [
    "def wls(x, y = [0.19, 0.36, 0.69, 1.3, 2.5, 4.7, 8.5, 14]):\n",
    "    n = len(y)\n",
    "    sigmas = [.05 * x for x in y]\n",
    "    I = np.eye(n)\n",
    "    T = sigmas * I\n",
    "    y_approx = [func(t, x[0], x[1]) for t in range(n)]\n",
    "    F = T @ y_approx\n",
    "    Y = T @ y\n",
    "    residual = np.linalg.norm(F - Y)\n",
    "    \n",
    "    global residuals\n",
    "    residuals.append(residual)\n",
    "\n",
    "    return .5 * residual\n",
    "    \n",
    "residuals = []  \n",
    "results = minimize(fun = wls,\n",
    "                   x0 = [.5, 1.5],\n",
    "                   args = data)    \n",
    "x = results['x']\n",
    "\n",
    "y_approx = [func(t, x[0], x[1]) for t in range(len(data))]\n",
    "\n",
    "\n",
    "print(f\"Optimal values: P0 = {x1} and r = {x2}\")\n",
    "\n",
    "plt.plot(data, 'g', label = 'Original data')\n",
    "plt.plot(data, 'go',label = 'Data points')\n",
    "plt.plot(func(t, x[0], x[1]),'r--', label = 'Modelled data')\n",
    "plt.xlabel('Timepoints')\n",
    "plt.ylabel('Data')\n",
    "plt.title('Plot of original data vs modelled data')\n",
    "plt.legend()\n",
    "plt.show()\n",
    "\n",
    "plt.plot(residuals)\n",
    "plt.plot([0] * t, 'k--')\n",
    "plt.xlabel('Timepoints')\n",
    "plt.ylabel('Residuals')\n",
    "plt.title('Plot of residuals over iterations (observed - modelled)')\n",
    "plt.show()"
   ]
  },
  {
   "cell_type": "markdown",
   "id": "2fe9e6f1-cf8b-492d-8cd0-0a9ddac3d0c8",
   "metadata": {},
   "source": [
    "Your answer here"
   ]
  },
  {
   "cell_type": "markdown",
   "id": "6096efba-4248-47a2-b7dd-23775ea2d60c",
   "metadata": {},
   "source": [
    "----------------------\n",
    "# Exercise 2 (4.5 points)\n",
    "\n"
   ]
  },
  {
   "cell_type": "markdown",
   "id": "322d207e-794a-4cee-97a1-23df1e38a3b4",
   "metadata": {},
   "source": [
    "# (a) \n",
    "Let $f(x) = 1/x^2$ and $a=10^{-3}$ and $b=1$. Make a plot of the graph of $f$ on $[a,b]$. "
   ]
  },
  {
   "cell_type": "code",
   "execution_count": null,
   "id": "83cbfd25",
   "metadata": {},
   "outputs": [],
   "source": [
    "global xVals\n",
    "xVals = []"
   ]
  },
  {
   "cell_type": "code",
   "execution_count": null,
   "id": "6e870292",
   "metadata": {},
   "outputs": [],
   "source": [
    "# Define function f(x) in Python function\n",
    "def func2(x):\n",
    "    xVals.append(x)\n",
    "    return 1/(x**2)"
   ]
  },
  {
   "cell_type": "code",
   "execution_count": null,
   "id": "2f997fc9-e6e3-4ee1-976e-10acb57b836d",
   "metadata": {},
   "outputs": [],
   "source": [
    "# Set paramters\n",
    "a = (10**(-3))\n",
    "b = 1\n",
    "x = np.arange(a,b,a,dtype=float)\n",
    "f = func2(x)\n",
    "\n",
    "# Plot graph of f(x) over interval [a,b]\n",
    "plt.plot(x,f)\n",
    "plt.xlabel('x')\n",
    "plt.ylabel('f(x)')\n",
    "plt.title('Graph of f(x) = 1/x^2 on interval [10^(-3), 1]')\n",
    "plt.show()"
   ]
  },
  {
   "cell_type": "markdown",
   "id": "3f19c170-f64d-43bb-9237-66a65c9e6379",
   "metadata": {},
   "source": [
    "# (b) \n",
    "Use scipy.integrate.quad to compute $\\int_a^b f(x) \\, dx$ with an absolute error less than 1e-4. Compare with the true value of the integral."
   ]
  },
  {
   "cell_type": "code",
   "execution_count": null,
   "id": "89258a76-dafc-44be-b138-2ce7b7ff3fd4",
   "metadata": {},
   "outputs": [],
   "source": [
    "# Compute integral of function f(x) using scipy.integrate.quad\n",
    "y, abserr = quad(func2,a,b,epsabs=1.e-4)\n",
    "print(f\"Calculated integral using scipy.integrate.quad: {y}\")\n",
    "print(f\"Absolute error: {abserr}\")\n",
    "print(\"\\nAbsolute error tolerance set at 1e-4\")"
   ]
  },
  {
   "cell_type": "markdown",
   "id": "10f9a83c",
   "metadata": {},
   "source": [
    "The true value of the integral of function $f(x) = \\frac{1}{x^2}$ on interval $[a,b]$ with $a = 10^{-3}$ and $b = 1$ can be calculated as follows:\n",
    "\\\n",
    "$f(x) = \\frac{1}{x^2} = x^{-2}$\n",
    "\\\n",
    "$F(x) = -x^{-1}$\n",
    "\\\n",
    "\\\n",
    "Then,\n",
    "\\\n",
    "$\\int_a^b f(x) \\, dx = [F(x)]_a^b = [-x^{-1}]_{10^{-3}}^1 = - \\frac{1}{1} - -\\frac{1}{10^{-3}} = 999$\n"
   ]
  },
  {
   "cell_type": "markdown",
   "id": "ccb626d8-4c30-4895-9b74-7677af534d9d",
   "metadata": {},
   "source": [
    "# (c)\n",
    "scipy.integrate.quad is an adaptive integration routine (book section 8.3.6), that automatically chooses an appropriate subdivision of the interval in subintervals. Therefore in some parts of the interval $[0,1]$ the function $f$ will be evaluated more often than in other parts. Divide the interval $[0,1]$ into bins $B_i = [h * (i-1), h*i]$, with $h=0.01$. For each bin $B_i$, count the number of times $f(x)$ is evaluated with $x$ in $B_i$. Make a histogram plot of these data. In which region is there a large number of function evaluations? Can you explain this, taking into account how $f$ is defined?\n",
    "\n",
    "Hint: To know for which $x$ the function $f$ is evaluated, you can keep a global array `xVals` in which you store all values of $x$ for which the function $f$ is called. You can use a numpy array and use numpy.append to add new values to `xVals`.\n"
   ]
  },
  {
   "cell_type": "code",
   "execution_count": null,
   "id": "91dc8f5e",
   "metadata": {},
   "outputs": [],
   "source": [
    "a = 0\n",
    "b = 1\n",
    "\n",
    "h = 0.01\n",
    "\n",
    "values = np.random.random_sample(1000)\n",
    "values = np.sort(values)\n",
    "\n",
    "# 100 bins for interval [0,1] with h = 0.01\n",
    "bins = []\n",
    "for i in range(1,101):\n",
    "    bins.append((h*(i-1),h*i))\n",
    "\n",
    "y, abserr = quad(func2,a,b)\n",
    "\n",
    "bin_counts = [0]*len(bins)\n",
    "\n",
    "xVals = xVals[1:-1]\n",
    "print(len(xVals))\n",
    "\n",
    "for x in xVals:\n",
    "    for index,bin_borders in enumerate(bins):\n",
    "        if x > bin_borders[0] and x < bin_borders[1]:\n",
    "            bin_counts[index] += 1\n",
    "            \n",
    "plt.hist(bin_counts,range(len(bin_counts)))\n",
    "plt.xlabel(\"Bins\")\n",
    "plt.ylabel(\"Frequency of x-values within corresponding bin\")\n",
    "plt.title(\"Distribution of function evalutions with given x-values per bin\")\n",
    "plt.show()"
   ]
  },
  {
   "cell_type": "markdown",
   "id": "ee5ee155-8705-490a-9fed-0282e89a7e44",
   "metadata": {},
   "source": [
    "Your answer here."
   ]
  }
 ],
 "metadata": {
  "kernelspec": {
   "display_name": "Python 3 (ipykernel)",
   "language": "python",
   "name": "python3"
  },
  "language_info": {
   "codemirror_mode": {
    "name": "ipython",
    "version": 3
   },
   "file_extension": ".py",
   "mimetype": "text/x-python",
   "name": "python",
   "nbconvert_exporter": "python",
   "pygments_lexer": "ipython3",
   "version": "3.7.3"
  }
 },
 "nbformat": 4,
 "nbformat_minor": 5
}
