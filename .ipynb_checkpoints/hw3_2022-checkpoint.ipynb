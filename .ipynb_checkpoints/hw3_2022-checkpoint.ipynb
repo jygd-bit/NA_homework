{
 "cells": [
  {
   "cell_type": "markdown",
   "id": "8adb98fb-0d56-485e-986c-8a04c70b6020",
   "metadata": {
    "nbgrader": {
     "grade": false,
     "grade_id": "cell-06d3e5bf55c941ae",
     "locked": true,
     "schema_version": 3,
     "solution": false,
     "task": false
    },
    "tags": []
   },
   "source": [
    "# Homework set 3"
   ]
  },
  {
   "cell_type": "markdown",
   "id": "f4d542f2-53a5-4571-996a-63307f888ed9",
   "metadata": {
    "nbgrader": {
     "grade": false,
     "grade_id": "cell-736ff6bc3e0d0696",
     "locked": true,
     "schema_version": 3,
     "solution": false,
     "task": false
    }
   },
   "source": [
    "Please **submit this Jupyter notebook through Canvas** no later than **Mon Nov. 21, 9:00**. **Submit the notebook file with your answers (as .ipynb file) and a pdf printout. The pdf version can be used by the teachers to provide feedback. A pdf version can be made using the save and export option in the Jupyter Lab file menu.**\n",
    "\n",
    "Homework is in **groups of two**, and you are expected to hand in original work. Work that is copied from another group will not be accepted."
   ]
  },
  {
   "cell_type": "markdown",
   "id": "5481631d-7c59-4b2f-be95-4a73568ad33c",
   "metadata": {
    "nbgrader": {
     "grade": false,
     "grade_id": "cell-b13bc5ed16bce8e0",
     "locked": true,
     "schema_version": 3,
     "solution": false,
     "task": false
    }
   },
   "source": [
    "# Exercise 0\n",
    "Write down the names + student ID of the people in your group."
   ]
  },
  {
   "cell_type": "markdown",
   "id": "0b45e561",
   "metadata": {},
   "source": [
    "Jade Dubbeld, 11692065\n",
    "\n",
    "Maickel Hartlief, 14015277"
   ]
  },
  {
   "cell_type": "markdown",
   "id": "423fae09-7e59-46ff-b4f6-0a4395438b2d",
   "metadata": {
    "nbgrader": {
     "grade": true,
     "grade_id": "cell-fd464f55ba436b1c",
     "locked": false,
     "points": 0,
     "schema_version": 3,
     "solution": true,
     "task": false
    }
   },
   "source": []
  },
  {
   "cell_type": "markdown",
   "id": "de187452-d370-4a1c-bfc9-2bad40f45833",
   "metadata": {
    "nbgrader": {
     "grade": false,
     "grade_id": "cell-b5a7855ecca9f6be",
     "locked": true,
     "schema_version": 3,
     "solution": false,
     "task": false
    }
   },
   "source": [
    "Run the following cell to import NumPy and Pyplot."
   ]
  },
  {
   "cell_type": "code",
   "execution_count": 1,
   "id": "1599c119-77a5-42e3-936a-6f6515e88e35",
   "metadata": {},
   "outputs": [],
   "source": [
    "import numpy as np\n",
    "import matplotlib.pyplot as plt"
   ]
  },
  {
   "cell_type": "markdown",
   "id": "33de5356-90ed-4fea-b7e5-396c316d1d4c",
   "metadata": {},
   "source": [
    "# Exercise 1"
   ]
  },
  {
   "cell_type": "markdown",
   "id": "73f6eb1d-666c-4aa7-8969-f30895ec0c76",
   "metadata": {},
   "source": [
    "In this exercise you will study the accuracy of several methods for computing the QR decomposition. You are asked to implement these methods yourself. (However, when testing your implementation you may compare with an external implementation.)\n"
   ]
  },
  {
   "cell_type": "markdown",
   "id": "0880f0a3-e3ed-4dbd-bdc5-40ccfb753978",
   "metadata": {},
   "source": [
    "## (a) \n",
    "Implement the classical and modified Gram-Schmidt procedures for computing the QR decomposition.\n",
    "\n",
    "Include a short documentation using triple quotes: describe at least the input and the output, and whether the code modifies the input matrix.\n"
   ]
  },
  {
   "cell_type": "code",
   "execution_count": null,
   "id": "26f5a07a-b579-46bd-af9d-3db3146a782e",
   "metadata": {},
   "outputs": [],
   "source": [
    "def classical_gram_schmidt(A):\n",
    "    # YOUR CODE HERE\n",
    "    \n",
    "\n",
    "def modified_gram_schmidt(A):\n",
    "    # YOUR CODE HERE"
   ]
  },
  {
   "cell_type": "markdown",
   "id": "a337d211-e9b2-4157-9d85-a3635efb3431",
   "metadata": {},
   "source": [
    "## (b) (a+b 3.5 pts)\n",
    "Let $H$ be a Hilbert matrix of size $n$ (see Computer Problem 2.6). Study the quality of the QR decompositions obtained using the two methods of part (a), specifically the loss of orthogonality. In order to do so, plot the quantity $\\| I - Q^T Q \\|$ as a function of $n$ on a log scale. Vary $n$ from $2$ to $12$.\n",
    "\n"
   ]
  },
  {
   "cell_type": "code",
   "execution_count": null,
   "id": "cff553c1-4044-4683-9555-f8a0f741f66e",
   "metadata": {},
   "outputs": [],
   "source": [
    "# YOUR CODE HERE"
   ]
  },
  {
   "cell_type": "markdown",
   "id": "f2d6cf46-3796-405b-ab46-bc9575a5f648",
   "metadata": {},
   "source": [
    "## (c) (1.5 pts)\n",
    "Try applying the classical procedure twice. Plot again the loss of orthogonality when computing the QR decomposition of the Hilbert matrix of size $n$ as in (b).\n"
   ]
  },
  {
   "cell_type": "code",
   "execution_count": null,
   "id": "b4574283-5b0e-4f54-a0e4-727a9246db7e",
   "metadata": {},
   "outputs": [],
   "source": [
    "# YOUR CODE HERE"
   ]
  },
  {
   "cell_type": "markdown",
   "id": "d61d724c-3216-4742-9c8c-f411ad437193",
   "metadata": {},
   "source": [
    "## (d) (2 pts)\n",
    "Implement the Householder method for computing the QR decomposition. Remember to include a short documentation."
   ]
  },
  {
   "cell_type": "code",
   "execution_count": 2,
   "id": "a5fa9b4f-4a69-4dcf-bee4-23e67746ed06",
   "metadata": {},
   "outputs": [],
   "source": [
    "def householder_qr(A):\n",
    "    \"\"\"\n",
    "    Applying Householder QR decomposition to input matrix A. Returning matrix R and Q.\n",
    "\n",
    "            Parameters:\n",
    "                    A (numpy.ndarray): Any matrix of size m x n\n",
    "\n",
    "            Returns:\n",
    "                    R (numpy.ndarray): Resulting upper triangular matrix R of size m x n after \n",
    "                                         Householder QR decomposition\n",
    "                    Q (numpy.ndarray): Resulting orthogonal matrix Q of size n x n after \n",
    "                                         Householder QR decomposition\n",
    "    \"\"\"\n",
    "\n",
    "    A_original = A\n",
    "    list_of_Hs = []\n",
    "    origA_rows = A.shape[0]\n",
    "    origA_cols = A.shape[1]\n",
    "    \n",
    "    # run Householder QR decomposition for all columns in original matrix A\n",
    "    for i in range(origA_cols):\n",
    "        rows = A.shape[0]\n",
    "        cols = A.shape[1]\n",
    "        \n",
    "        # get vector a (first column) from current matrix A\n",
    "        a = np.zeros((rows,1))  \n",
    "        \n",
    "        for row in range(len(A)):\n",
    "            a[row]=(A[row][0])\n",
    "        \n",
    "        # calculate length of vector a\n",
    "        length_a = np.linalg.norm(a,ord=2)\n",
    "        \n",
    "        # create vector e with n times 0s and 1 at the top\n",
    "        e = np.zeros((rows,1))\n",
    "        e[0] = 1\n",
    "        \n",
    "        # compute vector v\n",
    "        v = a + length_a*e\n",
    "        \n",
    "        # compute denominator in formula for H (vT*v)\n",
    "        denom = 0\n",
    "        \n",
    "        for row in range(len(v)):\n",
    "            denom += v[row]**2\n",
    "\n",
    "        # calculate values for Householder matrix and append to list\n",
    "        I = np.identity(len(a))\n",
    "        H = I - 2/denom * (v*v.T)\n",
    "\n",
    "        list_of_Hs.append(H)\n",
    "        \n",
    "        # multiply Householder matrix with matrix A\n",
    "        HA = H @ A\n",
    "        HA = HA.round(decimals=2)\n",
    "\n",
    "        # generate next matrix A (cut off first column and first row)\n",
    "        A = np.zeros((rows-1,cols-1))\n",
    "\n",
    "        for row in range(len(A)):\n",
    "            A[row]=(HA[row+1][1:])\n",
    "            \n",
    "    # broaden Householder matrices to matrix shape of original matrix A with identity matrix\n",
    "    for i in reversed(range(len(list_of_Hs))):\n",
    "        H = np.identity(origA_rows)\n",
    "        H[i: , i: ] = list_of_Hs[i]\n",
    "        list_of_Hs[i] = H\n",
    "\n",
    "    # compute upper triangular matrix R\n",
    "    R = list_of_Hs[-1]\n",
    "    \n",
    "    for i in reversed(range(len(list_of_Hs)-1)):\n",
    "        R = R @ list_of_Hs[i]\n",
    "\n",
    "    R = R @ A_original\n",
    "    R = R.round(decimals=2)\n",
    "    R[R==-0] = 0\n",
    "\n",
    "    # compute orthogonal matrix Q\n",
    "    Q = list_of_Hs[0]\n",
    "    \n",
    "    for i in range(1,len(list_of_Hs)):\n",
    "        Q = Q @ list_of_Hs[i]\n",
    "        \n",
    "    Q = Q.round(decimals=2)\n",
    "    Q[Q==-0] = 0\n",
    "    \n",
    "    return R,Q"
   ]
  },
  {
   "cell_type": "code",
   "execution_count": 3,
   "id": "41b19226",
   "metadata": {},
   "outputs": [
    {
     "name": "stdout",
     "output_type": "stream",
     "text": [
      "matrix R:\n",
      "[[-2. -3. -2.]\n",
      " [ 0. -5.  2.]\n",
      " [ 0.  0. -4.]\n",
      " [ 0.  0.  0.]]\n",
      "\n",
      "matrix Q:\n",
      "[[-0.5  0.5 -0.5 -0.5]\n",
      " [-0.5 -0.5  0.5 -0.5]\n",
      " [-0.5 -0.5 -0.5  0.5]\n",
      " [-0.5  0.5  0.5  0.5]]\n"
     ]
    }
   ],
   "source": [
    "A = np.array([[1, -1, 4],[1, 4, -2],[1, 4, 2],[1, -1, 0]])\n",
    "\n",
    "R, Q = householder_qr(A)\n",
    "print(f\"matrix R:\\n{R}\")\n",
    "print()\n",
    "print(f\"matrix Q:\\n{Q}\")"
   ]
  },
  {
   "cell_type": "markdown",
   "id": "35df642d-7348-407a-9755-b8ac03045541",
   "metadata": {},
   "source": [
    "## (e) (2 pts)\n",
    "Perform the analysis of (b) for the Householder method. Discuss the differences between all the methods you have tested so far. Look online and/or in books for information about the accuracy of the different methods and include this in your explanations (with reference).\n"
   ]
  },
  {
   "cell_type": "markdown",
   "id": "3e19e077",
   "metadata": {},
   "source": [
    "**Copy of exercise (b):**\n",
    "\\\n",
    "Let $H$ be a Hilbert matrix of size $n$ (see Computer Problem 2.6). Study the quality of the QR decompositions obtained using the two methods of part (a), specifically the loss of orthogonality. In order to do so, plot the quantity $\\| I - Q^T Q \\|$ as a function of $n$ on a log scale. Vary $n$ from $2$ to $12$."
   ]
  },
  {
   "cell_type": "code",
   "execution_count": 4,
   "id": "eb790bfb-2f80-4630-aeb6-30ff0b604cc7",
   "metadata": {},
   "outputs": [],
   "source": [
    "def generate_Hilbert(n):\n",
    "    \"\"\"\n",
    "    Create Hilbert matrix as in Computer Problem 2.6\n",
    "\n",
    "            Parameters:\n",
    "                    n (int): number of rows/columns of square Hilbert matrix\n",
    "\n",
    "            Returns:\n",
    "                    H (numpy.ndarray): Hilbert matrix\n",
    "    \"\"\"\n",
    "    H = np.ones((n,n))\n",
    "\n",
    "    num_i = 0\n",
    "    for i in range(n):\n",
    "        for j in range(n):\n",
    "            if i == 0 and j == 0:\n",
    "                H[i,j] = 1\n",
    "            else:\n",
    "                H[i,j] = 1/(num_i+j+1)\n",
    "        num_i += 1\n",
    "    return H"
   ]
  },
  {
   "cell_type": "code",
   "execution_count": 5,
   "id": "3d0781a7",
   "metadata": {},
   "outputs": [
    {
     "name": "stdout",
     "output_type": "stream",
     "text": [
      "[[1.         0.5        0.33333333 0.25      ]\n",
      " [0.5        0.33333333 0.25       0.2       ]\n",
      " [0.33333333 0.25       0.2        0.16666667]\n",
      " [0.25       0.2        0.16666667 0.14285714]]\n"
     ]
    }
   ],
   "source": [
    "Hilbert = generate_Hilbert(4)\n",
    "print(Hilbert)"
   ]
  },
  {
   "cell_type": "code",
   "execution_count": 6,
   "id": "9b7a379b",
   "metadata": {
    "scrolled": false
   },
   "outputs": [
    {
     "name": "stdout",
     "output_type": "stream",
     "text": [
      "matrix R:\n",
      "[[-1.12 -0.6 ]\n",
      " [ 0.   -0.07]]\n",
      "\n",
      "matrix Q:\n",
      "[[-0.89  0.45]\n",
      " [-0.45 -0.89]]\n",
      "\n",
      "norm: 0.007636753236814657\n",
      "\n",
      "\n",
      "matrix R:\n",
      "[[-1.17 -0.64 -0.45]\n",
      " [ 0.   -0.1  -0.11]\n",
      " [ 0.    0.   -0.01]]\n",
      "\n",
      "matrix Q:\n",
      "[[-0.86  0.51 -0.1 ]\n",
      " [-0.43 -0.59  0.68]\n",
      " [-0.29 -0.63 -0.72]]\n",
      "\n",
      "norm: 0.014482057864820092\n",
      "\n",
      "\n",
      "matrix R:\n",
      "[[-1.19 -0.67 -0.47 -0.37]\n",
      " [ 0.   -0.12 -0.13 -0.12]\n",
      " [ 0.    0.   -0.01 -0.01]\n",
      " [ 0.    0.    0.   -0.01]]\n",
      "\n",
      "matrix Q:\n",
      "[[-0.84  0.52 -0.07 -0.14]\n",
      " [-0.42 -0.46  0.56  0.55]\n",
      " [-0.28 -0.5  -0.8   0.19]\n",
      " [-0.21 -0.52  0.2  -0.8 ]]\n",
      "\n",
      "norm: 0.01679940475135949\n",
      "\n",
      "\n",
      "matrix R:\n",
      "[[-1.21 -0.69 -0.49 -0.39 -0.32]\n",
      " [ 0.   -0.13 -0.14 -0.13 -0.12]\n",
      " [ 0.    0.    0.   -0.01 -0.01]\n",
      " [ 0.    0.    0.    0.   -0.01]\n",
      " [  nan   nan   nan   nan   nan]]\n",
      "\n",
      "matrix Q:\n",
      "[[-0.83  0.53 -0.14 -0.04   nan]\n",
      " [-0.41 -0.34  0.67 -0.06   nan]\n",
      " [-0.28 -0.46 -0.47  0.68   nan]\n",
      " [-0.21 -0.48  0.24 -0.02   nan]\n",
      " [-0.17 -0.41 -0.5  -0.73   nan]]\n",
      "\n",
      "norm: nan\n",
      "\n",
      "\n",
      "matrix R:\n",
      "[[nan nan nan nan nan nan]\n",
      " [nan nan nan nan nan nan]\n",
      " [nan nan nan nan nan nan]\n",
      " [nan nan nan nan nan nan]\n",
      " [nan nan nan nan nan nan]\n",
      " [nan nan nan nan nan nan]]\n",
      "\n",
      "matrix Q:\n",
      "[[nan nan nan nan nan nan]\n",
      " [nan nan nan nan nan nan]\n",
      " [nan nan nan nan nan nan]\n",
      " [nan nan nan nan nan nan]\n",
      " [nan nan nan nan nan nan]\n",
      " [nan nan nan nan nan nan]]\n",
      "\n",
      "norm: nan\n",
      "\n",
      "\n",
      "matrix R:\n",
      "[[nan nan nan nan nan nan nan]\n",
      " [nan nan nan nan nan nan nan]\n",
      " [nan nan nan nan nan nan nan]\n",
      " [nan nan nan nan nan nan nan]\n",
      " [nan nan nan nan nan nan nan]\n",
      " [nan nan nan nan nan nan nan]\n",
      " [nan nan nan nan nan nan nan]]\n",
      "\n",
      "matrix Q:\n",
      "[[nan nan nan nan nan nan nan]\n",
      " [nan nan nan nan nan nan nan]\n",
      " [nan nan nan nan nan nan nan]\n",
      " [nan nan nan nan nan nan nan]\n",
      " [nan nan nan nan nan nan nan]\n",
      " [nan nan nan nan nan nan nan]\n",
      " [nan nan nan nan nan nan nan]]\n",
      "\n",
      "norm: nan\n",
      "\n",
      "\n",
      "matrix R:\n",
      "[[nan nan nan nan nan nan nan nan]\n",
      " [nan nan nan nan nan nan nan nan]\n",
      " [nan nan nan nan nan nan nan nan]\n",
      " [nan nan nan nan nan nan nan nan]\n",
      " [nan nan nan nan nan nan nan nan]\n",
      " [nan nan nan nan nan nan nan nan]\n",
      " [nan nan nan nan nan nan nan nan]\n",
      " [nan nan nan nan nan nan nan nan]]\n",
      "\n",
      "matrix Q:\n",
      "[[nan nan nan nan nan nan nan nan]\n",
      " [nan nan nan nan nan nan nan nan]\n",
      " [nan nan nan nan nan nan nan nan]\n",
      " [nan nan nan nan nan nan nan nan]\n",
      " [nan nan nan nan nan nan nan nan]\n",
      " [nan nan nan nan nan nan nan nan]\n",
      " [nan nan nan nan nan nan nan nan]\n",
      " [nan nan nan nan nan nan nan nan]]\n",
      "\n",
      "norm: nan\n",
      "\n",
      "\n",
      "matrix R:\n",
      "[[nan nan nan nan nan nan nan nan nan]\n",
      " [nan nan nan nan nan nan nan nan nan]\n",
      " [nan nan nan nan nan nan nan nan nan]\n",
      " [nan nan nan nan nan nan nan nan nan]\n",
      " [nan nan nan nan nan nan nan nan nan]\n",
      " [nan nan nan nan nan nan nan nan nan]\n",
      " [nan nan nan nan nan nan nan nan nan]\n",
      " [nan nan nan nan nan nan nan nan nan]\n",
      " [nan nan nan nan nan nan nan nan nan]]\n",
      "\n",
      "matrix Q:\n",
      "[[nan nan nan nan nan nan nan nan nan]\n",
      " [nan nan nan nan nan nan nan nan nan]\n",
      " [nan nan nan nan nan nan nan nan nan]\n",
      " [nan nan nan nan nan nan nan nan nan]\n",
      " [nan nan nan nan nan nan nan nan nan]\n",
      " [nan nan nan nan nan nan nan nan nan]\n",
      " [nan nan nan nan nan nan nan nan nan]\n",
      " [nan nan nan nan nan nan nan nan nan]\n",
      " [nan nan nan nan nan nan nan nan nan]]\n",
      "\n",
      "norm: nan\n",
      "\n",
      "\n",
      "matrix R:\n",
      "[[nan nan nan nan nan nan nan nan nan nan]\n",
      " [nan nan nan nan nan nan nan nan nan nan]\n",
      " [nan nan nan nan nan nan nan nan nan nan]\n",
      " [nan nan nan nan nan nan nan nan nan nan]\n",
      " [nan nan nan nan nan nan nan nan nan nan]\n",
      " [nan nan nan nan nan nan nan nan nan nan]\n",
      " [nan nan nan nan nan nan nan nan nan nan]\n",
      " [nan nan nan nan nan nan nan nan nan nan]\n",
      " [nan nan nan nan nan nan nan nan nan nan]\n",
      " [nan nan nan nan nan nan nan nan nan nan]]\n",
      "\n",
      "matrix Q:\n",
      "[[nan nan nan nan nan nan nan nan nan nan]\n",
      " [nan nan nan nan nan nan nan nan nan nan]\n",
      " [nan nan nan nan nan nan nan nan nan nan]\n",
      " [nan nan nan nan nan nan nan nan nan nan]\n",
      " [nan nan nan nan nan nan nan nan nan nan]\n",
      " [nan nan nan nan nan nan nan nan nan nan]\n",
      " [nan nan nan nan nan nan nan nan nan nan]\n",
      " [nan nan nan nan nan nan nan nan nan nan]\n",
      " [nan nan nan nan nan nan nan nan nan nan]\n",
      " [nan nan nan nan nan nan nan nan nan nan]]\n",
      "\n",
      "norm: nan\n",
      "\n",
      "\n",
      "matrix R:\n",
      "[[nan nan nan nan nan nan nan nan nan nan nan]\n",
      " [nan nan nan nan nan nan nan nan nan nan nan]\n",
      " [nan nan nan nan nan nan nan nan nan nan nan]\n",
      " [nan nan nan nan nan nan nan nan nan nan nan]\n",
      " [nan nan nan nan nan nan nan nan nan nan nan]\n",
      " [nan nan nan nan nan nan nan nan nan nan nan]\n",
      " [nan nan nan nan nan nan nan nan nan nan nan]\n",
      " [nan nan nan nan nan nan nan nan nan nan nan]\n",
      " [nan nan nan nan nan nan nan nan nan nan nan]\n",
      " [nan nan nan nan nan nan nan nan nan nan nan]\n",
      " [nan nan nan nan nan nan nan nan nan nan nan]]\n",
      "\n",
      "matrix Q:\n",
      "[[nan nan nan nan nan nan nan nan nan nan nan]\n",
      " [nan nan nan nan nan nan nan nan nan nan nan]\n",
      " [nan nan nan nan nan nan nan nan nan nan nan]\n",
      " [nan nan nan nan nan nan nan nan nan nan nan]\n",
      " [nan nan nan nan nan nan nan nan nan nan nan]\n",
      " [nan nan nan nan nan nan nan nan nan nan nan]\n",
      " [nan nan nan nan nan nan nan nan nan nan nan]\n",
      " [nan nan nan nan nan nan nan nan nan nan nan]\n",
      " [nan nan nan nan nan nan nan nan nan nan nan]\n",
      " [nan nan nan nan nan nan nan nan nan nan nan]\n",
      " [nan nan nan nan nan nan nan nan nan nan nan]]\n",
      "\n",
      "norm: nan\n",
      "\n",
      "\n",
      "matrix R:\n",
      "[[nan nan nan nan nan nan nan nan nan nan nan nan]\n",
      " [nan nan nan nan nan nan nan nan nan nan nan nan]\n",
      " [nan nan nan nan nan nan nan nan nan nan nan nan]\n",
      " [nan nan nan nan nan nan nan nan nan nan nan nan]\n",
      " [nan nan nan nan nan nan nan nan nan nan nan nan]\n",
      " [nan nan nan nan nan nan nan nan nan nan nan nan]\n",
      " [nan nan nan nan nan nan nan nan nan nan nan nan]\n",
      " [nan nan nan nan nan nan nan nan nan nan nan nan]\n",
      " [nan nan nan nan nan nan nan nan nan nan nan nan]\n",
      " [nan nan nan nan nan nan nan nan nan nan nan nan]\n",
      " [nan nan nan nan nan nan nan nan nan nan nan nan]\n",
      " [nan nan nan nan nan nan nan nan nan nan nan nan]]\n",
      "\n",
      "matrix Q:\n",
      "[[nan nan nan nan nan nan nan nan nan nan nan nan]\n",
      " [nan nan nan nan nan nan nan nan nan nan nan nan]\n",
      " [nan nan nan nan nan nan nan nan nan nan nan nan]\n",
      " [nan nan nan nan nan nan nan nan nan nan nan nan]\n",
      " [nan nan nan nan nan nan nan nan nan nan nan nan]\n",
      " [nan nan nan nan nan nan nan nan nan nan nan nan]\n",
      " [nan nan nan nan nan nan nan nan nan nan nan nan]\n",
      " [nan nan nan nan nan nan nan nan nan nan nan nan]\n",
      " [nan nan nan nan nan nan nan nan nan nan nan nan]\n",
      " [nan nan nan nan nan nan nan nan nan nan nan nan]\n",
      " [nan nan nan nan nan nan nan nan nan nan nan nan]\n",
      " [nan nan nan nan nan nan nan nan nan nan nan nan]]\n",
      "\n",
      "norm: nan\n",
      "\n",
      "\n"
     ]
    },
    {
     "name": "stderr",
     "output_type": "stream",
     "text": [
      "/var/folders/zb/qwtwsp1d539dg2nj7t84r7mc0000gn/T/ipykernel_72735/4229765921.py:58: RuntimeWarning: divide by zero encountered in true_divide\n",
      "  H = I - 2/denom * (v*v.T)\n",
      "/var/folders/zb/qwtwsp1d539dg2nj7t84r7mc0000gn/T/ipykernel_72735/4229765921.py:58: RuntimeWarning: invalid value encountered in multiply\n",
      "  H = I - 2/denom * (v*v.T)\n"
     ]
    }
   ],
   "source": [
    "n = np.arange(2,13)\n",
    "\n",
    "for i in n:\n",
    "    Hilbert = generate_Hilbert(i)\n",
    "    R, Q = householder_qr(Hilbert)\n",
    "    print(f\"matrix R:\\n{R}\\n\")\n",
    "    print(f\"matrix Q:\\n{Q}\\n\")\n",
    "\n",
    "    I = np.identity(i)\n",
    "    norm = np.linalg.norm(I - Q.T @ Q)\n",
    "    print(f\"norm: {norm}\\n\\n\")"
   ]
  },
  {
   "cell_type": "markdown",
   "id": "b59a127c-1f5f-4122-927c-20b0e90c5cb4",
   "metadata": {},
   "source": []
  },
  {
   "cell_type": "code",
   "execution_count": null,
   "id": "93b0db7a-3c04-4312-8125-58d10d80a8d5",
   "metadata": {},
   "outputs": [],
   "source": []
  }
 ],
 "metadata": {
  "kernelspec": {
   "display_name": "Python 3 (ipykernel)",
   "language": "python",
   "name": "python3"
  },
  "language_info": {
   "codemirror_mode": {
    "name": "ipython",
    "version": 3
   },
   "file_extension": ".py",
   "mimetype": "text/x-python",
   "name": "python",
   "nbconvert_exporter": "python",
   "pygments_lexer": "ipython3",
   "version": "3.9.12"
  }
 },
 "nbformat": 4,
 "nbformat_minor": 5
}
