{
 "cells": [
  {
   "cell_type": "markdown",
   "id": "8adb98fb-0d56-485e-986c-8a04c70b6020",
   "metadata": {
    "nbgrader": {
     "grade": false,
     "grade_id": "cell-06d3e5bf55c941ae",
     "locked": true,
     "schema_version": 3,
     "solution": false,
     "task": false
    },
    "tags": []
   },
   "source": [
    "# Homework set 3"
   ]
  },
  {
   "cell_type": "markdown",
   "id": "f4d542f2-53a5-4571-996a-63307f888ed9",
   "metadata": {
    "nbgrader": {
     "grade": false,
     "grade_id": "cell-736ff6bc3e0d0696",
     "locked": true,
     "schema_version": 3,
     "solution": false,
     "task": false
    }
   },
   "source": [
    "Please **submit this Jupyter notebook through Canvas** no later than **Mon Nov. 21, 9:00**. **Submit the notebook file with your answers (as .ipynb file) and a pdf printout. The pdf version can be used by the teachers to provide feedback. A pdf version can be made using the save and export option in the Jupyter Lab file menu.**\n",
    "\n",
    "Homework is in **groups of two**, and you are expected to hand in original work. Work that is copied from another group will not be accepted."
   ]
  },
  {
   "cell_type": "markdown",
   "id": "5481631d-7c59-4b2f-be95-4a73568ad33c",
   "metadata": {
    "nbgrader": {
     "grade": false,
     "grade_id": "cell-b13bc5ed16bce8e0",
     "locked": true,
     "schema_version": 3,
     "solution": false,
     "task": false
    }
   },
   "source": [
    "# Exercise 0\n",
    "Write down the names + student ID of the people in your group."
   ]
  },
  {
   "cell_type": "markdown",
   "id": "0b45e561",
   "metadata": {},
   "source": [
    "Jade Dubbeld, 11692065\n",
    "\n",
    "Maickel Hartlief, 14015277"
   ]
  },
  {
   "cell_type": "markdown",
   "id": "de187452-d370-4a1c-bfc9-2bad40f45833",
   "metadata": {
    "nbgrader": {
     "grade": false,
     "grade_id": "cell-b5a7855ecca9f6be",
     "locked": true,
     "schema_version": 3,
     "solution": false,
     "task": false
    }
   },
   "source": [
    "Run the following cell to import NumPy and Pyplot."
   ]
  },
  {
   "cell_type": "code",
   "execution_count": 1,
   "id": "1599c119-77a5-42e3-936a-6f6515e88e35",
   "metadata": {},
   "outputs": [
    {
     "name": "stderr",
     "output_type": "stream",
     "text": [
      "In /home/makkol/anaconda3/lib/python3.7/site-packages/matplotlib/mpl-data/stylelib/_classic_test.mplstyle: \n",
      "The text.latex.preview rcparam was deprecated in Matplotlib 3.3 and will be removed two minor releases later.\n",
      "In /home/makkol/anaconda3/lib/python3.7/site-packages/matplotlib/mpl-data/stylelib/_classic_test.mplstyle: \n",
      "The mathtext.fallback_to_cm rcparam was deprecated in Matplotlib 3.3 and will be removed two minor releases later.\n",
      "In /home/makkol/anaconda3/lib/python3.7/site-packages/matplotlib/mpl-data/stylelib/_classic_test.mplstyle: Support for setting the 'mathtext.fallback_to_cm' rcParam is deprecated since 3.3 and will be removed two minor releases later; use 'mathtext.fallback : 'cm' instead.\n",
      "In /home/makkol/anaconda3/lib/python3.7/site-packages/matplotlib/mpl-data/stylelib/_classic_test.mplstyle: \n",
      "The validate_bool_maybe_none function was deprecated in Matplotlib 3.3 and will be removed two minor releases later.\n",
      "In /home/makkol/anaconda3/lib/python3.7/site-packages/matplotlib/mpl-data/stylelib/_classic_test.mplstyle: \n",
      "The savefig.jpeg_quality rcparam was deprecated in Matplotlib 3.3 and will be removed two minor releases later.\n",
      "In /home/makkol/anaconda3/lib/python3.7/site-packages/matplotlib/mpl-data/stylelib/_classic_test.mplstyle: \n",
      "The keymap.all_axes rcparam was deprecated in Matplotlib 3.3 and will be removed two minor releases later.\n",
      "In /home/makkol/anaconda3/lib/python3.7/site-packages/matplotlib/mpl-data/stylelib/_classic_test.mplstyle: \n",
      "The animation.avconv_path rcparam was deprecated in Matplotlib 3.3 and will be removed two minor releases later.\n",
      "In /home/makkol/anaconda3/lib/python3.7/site-packages/matplotlib/mpl-data/stylelib/_classic_test.mplstyle: \n",
      "The animation.avconv_args rcparam was deprecated in Matplotlib 3.3 and will be removed two minor releases later.\n"
     ]
    }
   ],
   "source": [
    "import numpy as np\n",
    "import matplotlib.pyplot as plt"
   ]
  },
  {
   "cell_type": "markdown",
   "id": "33de5356-90ed-4fea-b7e5-396c316d1d4c",
   "metadata": {},
   "source": [
    "# Exercise 1"
   ]
  },
  {
   "cell_type": "markdown",
   "id": "73f6eb1d-666c-4aa7-8969-f30895ec0c76",
   "metadata": {},
   "source": [
    "In this exercise you will study the accuracy of several methods for computing the QR decomposition. You are asked to implement these methods yourself. (However, when testing your implementation you may compare with an external implementation.)\n"
   ]
  },
  {
   "cell_type": "markdown",
   "id": "0880f0a3-e3ed-4dbd-bdc5-40ccfb753978",
   "metadata": {},
   "source": [
    "## (a) \n",
    "Implement the classical and modified Gram-Schmidt procedures for computing the QR decomposition.\n",
    "\n",
    "Include a short documentation using triple quotes: describe at least the input and the output, and whether the code modifies the input matrix.\n"
   ]
  },
  {
   "cell_type": "code",
   "execution_count": 2,
   "id": "26f5a07a-b579-46bd-af9d-3db3146a782e",
   "metadata": {},
   "outputs": [],
   "source": [
    "def classical_gram_schmidt(A):\n",
    "    '''\n",
    "    input: \n",
    "        (n x m) matrix A\n",
    "    \n",
    "    output / result: \n",
    "        (n x m) matrix Q\n",
    "        (m x m) matrix R\n",
    "        \n",
    "    description: \n",
    "        Applies Gram-Schmid QR decomposition to matrix A, not changing A and returning new matrices Q and R\n",
    "    '''\n",
    "    \n",
    "    m, n = A.shape\n",
    "    R = np.zeros((n, n))\n",
    "    Q = np.zeros((m, n))\n",
    "    \n",
    "    #NEW\n",
    "    for i in range(n):\n",
    "        q = A[:, i]\n",
    "        for j in range(i):\n",
    "            R[j, i] = Q[:, j] @ A[:, i]\n",
    "            q = q - np.dot(R[j, i], Q[:, j])\n",
    "        R[i, i] = np.linalg.norm(q)\n",
    "        if R[i, i] == 0:\n",
    "            break\n",
    "        else:\n",
    "            Q[:, i] = q / R[i, i]\n",
    "    \n",
    "    return Q, R"
   ]
  },
  {
   "cell_type": "code",
   "execution_count": 3,
   "id": "81a4c702",
   "metadata": {},
   "outputs": [],
   "source": [
    "def modified_gram_schmidt(A):\n",
    "    '''\n",
    "    input: \n",
    "        (n x m) matrix A\n",
    "    \n",
    "    output / result: \n",
    "        (n x m) matrix Q\n",
    "        (m x m) matrix R\n",
    "        \n",
    "    description: \n",
    "        Applies Gram-Schmid QR decomposition to matrix A, not changing A and returning new matrices Q and R\n",
    "    '''\n",
    "    \n",
    "    # ensure intput matrix is not modified\n",
    "    A = np.copy(A) \n",
    "    \n",
    "    # initialize output matrices\n",
    "    m = A.shape[1]\n",
    "    Q = np.array(A)\n",
    "    R = np.zeros((m, m))\n",
    "    \n",
    "    # perform gramm-schmidt QR decomposition\n",
    "    for i in range(m):\n",
    "        a_i = Q[..., i]\n",
    "        R[i, i] = np.linalg.norm(a_i)\n",
    "        a_i /= R[i, i]\n",
    "        \n",
    "        for j in range(i + 1, m):\n",
    "            a_j = Q[..., j]\n",
    "            R[i,j] = np.transpose(a_i) @ a_j\n",
    "            a_j -= R[i, j] * a_i\n",
    "            \n",
    "    return Q, R"
   ]
  },
  {
   "cell_type": "markdown",
   "id": "a337d211-e9b2-4157-9d85-a3635efb3431",
   "metadata": {},
   "source": [
    "## (b) (a+b 3.5 pts)\n",
    "Let $H$ be a Hilbert matrix of size $n$ (see Computer Problem 2.6). Study the quality of the QR decompositions obtained using the two methods of part (a), specifically the loss of orthogonality. In order to do so, plot the quantity $\\| I - Q^T Q \\|$ as a function of $n$ on a log scale. Vary $n$ from $2$ to $12$.\n",
    "\n"
   ]
  },
  {
   "cell_type": "code",
   "execution_count": 4,
   "id": "cff553c1-4044-4683-9555-f8a0f741f66e",
   "metadata": {},
   "outputs": [],
   "source": [
    "def generate_Hilbert(n):\n",
    "    \"\"\"\n",
    "    Create Hilbert matrix as in Computer Problem 2.6\n",
    "\n",
    "            Parameters:\n",
    "                    n (int): number of rows/columns of square Hilbert matrix\n",
    "\n",
    "            Returns:\n",
    "                    H (numpy.ndarray): Hilbert matrix\n",
    "    \"\"\"\n",
    "    H = np.ones((n,n))\n",
    "\n",
    "    num_i = 0\n",
    "    for i in range(n):\n",
    "        for j in range(n):\n",
    "            if i == 0 and j == 0:\n",
    "                H[i, j] = 1\n",
    "            else:\n",
    "                H[i, j] = 1 / (num_i + j + 1)\n",
    "        num_i += 1\n",
    "    return H"
   ]
  },
  {
   "cell_type": "code",
   "execution_count": 5,
   "id": "b74af2c7",
   "metadata": {},
   "outputs": [],
   "source": [
    "def classical_gram_schmidt_twice(A):\n",
    "    return classical_gram_schmidt(classical_gram_schmidt(A)[0])"
   ]
  },
  {
   "cell_type": "code",
   "execution_count": 6,
   "id": "b7bc1db1",
   "metadata": {},
   "outputs": [
    {
     "data": {
      "image/png": "[encoded data removed]",
      "text/plain": [
       "<Figure size 432x288 with 1 Axes>"
      ]
     },
     "metadata": {
      "needs_background": "light"
     },
     "output_type": "display_data"
    }
   ],
   "source": [
    "classical = []\n",
    "modified = []\n",
    "x = list(range(2, 13))\n",
    "\n",
    "for n in x:\n",
    "    hilbert = generate_Hilbert(n)\n",
    "    for method, lst in [(classical_gram_schmidt, classical), (modified_gram_schmidt, modified)]:\n",
    "        Q, R = method(hilbert)\n",
    "        lst.append(np.linalg.norm(np.identity(Q.shape[0]) - Q.T @ Q))\n",
    "\n",
    "plt.plot(x, classical, label = 'classical gram-schmidt')\n",
    "plt.plot(x, modified, label = 'modified gram-schmidt')\n",
    "\n",
    "plt.legend()\n",
    "plt.ylabel('quantity')\n",
    "plt.xlabel('n')\n",
    "plt.title('quantity of QR decomposition of an n by n Hilbert matrix')\n",
    "plt.yscale('log')"
   ]
  },
  {
   "cell_type": "markdown",
   "id": "f2d6cf46-3796-405b-ab46-bc9575a5f648",
   "metadata": {},
   "source": [
    "## (c) (1.5 pts)\n",
    "Try applying the classical procedure twice. Plot again the loss of orthogonality when computing the QR decomposition of the Hilbert matrix of size $n$ as in (b).\n"
   ]
  },
  {
   "cell_type": "code",
   "execution_count": 7,
   "id": "b4574283-5b0e-4f54-a0e4-727a9246db7e",
   "metadata": {},
   "outputs": [
    {
     "data": {
      "image/png": "[encoded data removed]",
      "text/plain": [
       "<Figure size 432x288 with 1 Axes>"
      ]
     },
     "metadata": {
      "needs_background": "light"
     },
     "output_type": "display_data"
    }
   ],
   "source": [
    "classical2 = []\n",
    "for n in x:\n",
    "    A = generate_Hilbert(n)\n",
    "    \n",
    "    Q, R = classical_gram_schmidt_twice(A)\n",
    "    classical2.append(np.linalg.norm(np.identity(Q.shape[0]) - Q.T @ Q))\n",
    "\n",
    "plt.plot(x, classical, label = 'classical gram-schmidt')\n",
    "plt.plot(x, classical2, label = 'classical gram-schmidt twice')\n",
    "\n",
    "\n",
    "plt.legend()\n",
    "plt.ylabel('quantity')\n",
    "plt.xlabel('n')\n",
    "plt.title('quantity of QR decomposition of an n by n Hilbert matrix')\n",
    "plt.yscale('log')"
   ]
  },
  {
   "cell_type": "markdown",
   "id": "d61d724c-3216-4742-9c8c-f411ad437193",
   "metadata": {},
   "source": [
    "## (d) (2 pts)\n",
    "Implement the Householder method for computing the QR decomposition. Remember to include a short documentation."
   ]
  },
  {
   "cell_type": "code",
   "execution_count": 8,
   "id": "a5fa9b4f-4a69-4dcf-bee4-23e67746ed06",
   "metadata": {},
   "outputs": [],
   "source": [
    "def householder_qr(A):\n",
    "    \"\"\"\n",
    "    Applying Householder QR decomposition to input matrix A. Returning matrix R and Q.\n",
    "\n",
    "            Parameters:\n",
    "                    A (numpy.ndarray): Any matrix of size m x n\n",
    "\n",
    "            Returns:\n",
    "                    R (numpy.ndarray): Resulting upper triangular matrix R of size m x n after \n",
    "                                         Householder QR decomposition\n",
    "                    Q (numpy.ndarray): Resulting orthogonal matrix Q of size n x n after \n",
    "                                         Householder QR decomposition\n",
    "    \"\"\"\n",
    "\n",
    "    A_original = A\n",
    "    list_of_Hs = []\n",
    "    origA_rows = A.shape[0]\n",
    "    origA_cols = A.shape[1]\n",
    "    \n",
    "    # run Householder QR decomposition for all columns in original matrix A\n",
    "    for i in range(origA_cols):\n",
    "        rows = A.shape[0]\n",
    "        cols = A.shape[1]\n",
    "        \n",
    "        # get vector a (first column) from current matrix A\n",
    "        a = np.zeros((rows,1))  \n",
    "        \n",
    "        for row in range(rows):\n",
    "            a[row]=(A[row][0])\n",
    "        \n",
    "        # calculate length of vector a\n",
    "        length_a = np.linalg.norm(a)\n",
    "        \n",
    "        # create vector e with n times 0s and 1 at the top\n",
    "        e = np.zeros((rows, 1))\n",
    "        e[0] = 1\n",
    "        \n",
    "        # compute vector v\n",
    "        v = a + length_a * e\n",
    "        \n",
    "        # compute denominator in formula for H (vT*v)\n",
    "        denom = 0\n",
    "        \n",
    "        for row in range(len(v)):\n",
    "            denom += v[row]**2\n",
    "\n",
    "        # calculate values for Householder matrix and append to list\n",
    "        I = np.identity(len(a))\n",
    "        H = I - 2 / denom * (v * v.T)\n",
    "\n",
    "        list_of_Hs.append(H)\n",
    "        \n",
    "        # multiply Householder matrix with matrix A\n",
    "        HA = H @ A\n",
    "        #HA = HA.round(decimals = 2)\n",
    "\n",
    "        # generate next matrix A (cut off first column and first row)\n",
    "        A = np.zeros((rows - 1, cols - 1))\n",
    "\n",
    "        for row in range(len(A)):\n",
    "            A[row] = (HA[row + 1][1:])\n",
    "            \n",
    "    # broaden Householder matrices to matrix shape of original matrix A with identity matrix\n",
    "    for i in reversed(range(len(list_of_Hs))):\n",
    "        H = np.identity(origA_rows)\n",
    "        H[i: , i: ] = list_of_Hs[i]\n",
    "        list_of_Hs[i] = H\n",
    "\n",
    "    # compute upper triangular matrix R\n",
    "    R = list_of_Hs[-1]\n",
    "    \n",
    "    for i in reversed(range(len(list_of_Hs) - 1)):\n",
    "        R = R @ list_of_Hs[i]\n",
    "\n",
    "    R = R @ A_original\n",
    "\n",
    "    # compute orthogonal matrix Q\n",
    "    Q = list_of_Hs[0]\n",
    "    \n",
    "    for i in range(1,len(list_of_Hs)):\n",
    "        Q = Q @ list_of_Hs[i]\n",
    "        \n",
    "    \n",
    "    return Q, R"
   ]
  },
  {
   "cell_type": "markdown",
   "id": "35df642d-7348-407a-9755-b8ac03045541",
   "metadata": {},
   "source": [
    "## (e) (2 pts)\n",
    "Perform the analysis of (b) for the Householder method. Discuss the differences between all the methods you have tested so far. Look online and/or in books for information about the accuracy of the different methods and include this in your explanations (with reference).\n"
   ]
  },
  {
   "cell_type": "markdown",
   "id": "3e19e077",
   "metadata": {},
   "source": [
    "**Copy of exercise (b):**\n",
    "\\\n",
    "Let $H$ be a Hilbert matrix of size $n$ (see Computer Problem 2.6). Study the quality of the QR decompositions obtained using the two methods of part (a), specifically the loss of orthogonality. In order to do so, plot the quantity $\\| I - Q^T Q \\|$ as a function of $n$ on a log scale. Vary $n$ from $2$ to $12$."
   ]
  },
  {
   "cell_type": "code",
   "execution_count": 10,
   "id": "93b0db7a-3c04-4312-8125-58d10d80a8d5",
   "metadata": {
    "scrolled": true
   },
   "outputs": [
    {
     "data": {
      "image/png": "[encoded data removed]",
      "text/plain": [
       "<Figure size 432x288 with 1 Axes>"
      ]
     },
     "metadata": {
      "needs_background": "light"
     },
     "output_type": "display_data"
    }
   ],
   "source": [
    "classical = []\n",
    "classical_twice = []\n",
    "modified = []\n",
    "householder = []\n",
    "x = list(range(2, 13))\n",
    "\n",
    "for n in x:\n",
    "    hilbert = generate_Hilbert(n)\n",
    "    for method, lst in [(classical_gram_schmidt, classical),\n",
    "                        (classical_gram_schmidt_twice, classical_twice),\n",
    "                        (modified_gram_schmidt, modified), \n",
    "                        (householder_qr, householder)]:\n",
    "        Q, R = method(hilbert)\n",
    "        lst.append(np.linalg.norm(np.identity(Q.shape[0]) - Q.T @ Q))\n",
    "\n",
    "plt.plot(x, classical, label = 'classical gram-schmidt')\n",
    "plt.plot(x, classical_twice, label = 'classical gram-schmidt twice')\n",
    "plt.plot(x, modified, label = 'modified gram-schmidt')\n",
    "plt.plot(x, householder, label = 'householder')\n",
    "\n",
    "plt.legend()\n",
    "plt.ylabel('quantity')\n",
    "plt.xlabel('n')\n",
    "plt.title('quantity of QR decomposition of an n by n Hilbert matrix')\n",
    "plt.yscale('log')"
   ]
  },
  {
   "cell_type": "markdown",
   "id": "b59a127c-1f5f-4122-927c-20b0e90c5cb4",
   "metadata": {},
   "source": [
    "Classical Gram-Schmidt clearly has the highest error, It does start out lower and then spabilizes as towardds 10.\n",
    "\n",
    "Classical Gram-Schmidt twice performs best for smaller matrices but then gets much worse for larger matrices. [3] also shows this effect.\n",
    "\n",
    "The modified version performs better with smaller $n$, and though it stays better than classical Gram-Schmidt, it worsens with higher values for $n$. The better performance of modified over clasiical conforms with the literature [1, 2].\n",
    "\n",
    "Householder performs best overall, and its performance stays consistant when changing $n$ [4].\n",
    "\n",
    "[1] Salam, A., Al-Aidarous, E. Equivalence between modified symplectic Gram-Schmidt and Householder SR algorithms. Bit Numer Math 54, 283–302 (2014). https://doi.org/10.1007/s10543-013-0441-5\n",
    "\n",
    "[2] James W Longley (1981) Modified gram-schmidt process vs. classical gram-schmidt, Communications in Statistics - Simulation and Computation, 10:5, 517-527, DOI: 10.1080/03610918108812227 \n",
    "\n",
    "[3] Yusaku Yamamoto and Yuji Nakatsukasa and Yuka Yanagisawa and Takeshi Fukaya (2016) Roundoff error analysis of the CholeskyQR2 algorithm in an oblique inner product - JSIAM Letters, 8, DOI: 10.14495/jsiaml.8.5\n",
    "\n",
    "[4] Dianne P. O'Leary, Peter Whitman (1990) Parallel QR factorization by householder and modified Gram-Schmidt algorithms - Parallel Computing, 16:1, https://doi.org/10.1016/0167-8191(90)90163-4"
   ]
  }
 ],
 "metadata": {
  "kernelspec": {
   "display_name": "Python 3 (ipykernel)",
   "language": "python",
   "name": "python3"
  },
  "language_info": {
   "codemirror_mode": {
    "name": "ipython",
    "version": 3
   },
   "file_extension": ".py",
   "mimetype": "text/x-python",
   "name": "python",
   "nbconvert_exporter": "python",
   "pygments_lexer": "ipython3",
   "version": "3.7.3"
  }
 },
 "nbformat": 4,
 "nbformat_minor": 5
}
