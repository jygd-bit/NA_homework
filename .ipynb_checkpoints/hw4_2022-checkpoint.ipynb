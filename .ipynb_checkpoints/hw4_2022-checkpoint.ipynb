{
 "cells": [
  {
   "cell_type": "markdown",
   "id": "d4c81d3e-6c35-4c9e-9721-dc27a3d00251",
   "metadata": {
    "nbgrader": {
     "grade": false,
     "grade_id": "cell-06d3e5bf55c941ae",
     "locked": true,
     "schema_version": 3,
     "solution": false,
     "task": false
    },
    "tags": []
   },
   "source": [
    "# Homework set 4"
   ]
  },
  {
   "cell_type": "markdown",
   "id": "64728360-8bed-4d1f-bb87-bf746ea66002",
   "metadata": {
    "nbgrader": {
     "grade": false,
     "grade_id": "cell-736ff6bc3e0d0696",
     "locked": true,
     "schema_version": 3,
     "solution": false,
     "task": false
    }
   },
   "source": [
    "Before you turn this problem in, make sure everything runs as expected (in the menubar, select Kernel → Restart Kernel and Run All Cells...).\n",
    "\n",
    "Please **submit this Jupyter notebook through Canvas** no later than **Mon Nov. 28, 9:00**. **Submit the notebook file with your answers (as .ipynb file) and a pdf printout. The pdf version can be used by the teachers to provide feedback. A pdf version can be made using the save and export option in the Jupyter Lab file menu.**\n",
    "\n",
    "Homework is in **groups of two**, and you are expected to hand in original work. Work that is copied from another group will not be accepted."
   ]
  },
  {
   "cell_type": "markdown",
   "id": "d8c33491-f6d6-45df-9857-8fae1d7d446c",
   "metadata": {
    "nbgrader": {
     "grade": false,
     "grade_id": "cell-b13bc5ed16bce8e0",
     "locked": true,
     "schema_version": 3,
     "solution": false,
     "task": false
    }
   },
   "source": [
    "# Exercise 0\n",
    "Write down the names + student ID of the people in your group."
   ]
  },
  {
   "cell_type": "markdown",
   "id": "9483e0d9-7aec-4521-90ac-761fb34ee023",
   "metadata": {
    "nbgrader": {
     "grade": true,
     "grade_id": "cell-fd464f55ba436b1c",
     "locked": false,
     "points": 0,
     "schema_version": 3,
     "solution": true,
     "task": false
    }
   },
   "source": [
    "Jade Dubbeld, 11692065\n",
    "\n",
    "Maickel Hartlief, 14015277"
   ]
  },
  {
   "cell_type": "markdown",
   "id": "40a6166f-8dc2-4eb0-b953-961fe8f7a2ce",
   "metadata": {},
   "source": [
    "# About imports\n",
    "Please import the needed packages by yourself."
   ]
  },
  {
   "cell_type": "markdown",
   "id": "a78e262c-f192-4fe5-853b-03248173a9be",
   "metadata": {},
   "source": [
    "# Sparse matrices\n",
    "A _sparse matrix_ or _sparse array_ is a matrix in which most of the elements are zero. There is no strict definition how many elements need to be zero for a matrix to be considered sparse. In many examples, the number of nonzeros per row or column is a small fraction, a few percent or less, of the total number of elements of the row or column. By contrast, if most of the elements are nonzero, then the matrix is considered _dense_. \n",
    "\n",
    "In the context of software for scientific computing, a sparse matrix typically refers to a storage format, in which elements which are known to be zero are not stored. In Python, the library `scipy.sparse` defines several sparse matrix classes, such as `scipy.sparse.coo_matrix`. To construct such an object, one passes for each nonzero element the value, and the row and column coordinates. In some cases, one can also just pass the nonzero (off-)diagonals, see `scipy.sparse.diags`.\n",
    "\n",
    "Functions for dense matrices do not always work with sparse matrices. For example for the product of a sparse matrix with a (dense) vector, there is the member function `scipy.sparse.coo_matrix.dot`, and for solving linear equations involving a sparse matrix, there is the function `scipy.sparse.linalg.spsolve`."
   ]
  },
  {
   "cell_type": "code",
   "execution_count": 1,
   "id": "a15365c2-c8be-49b7-b74f-e6ef30ffd26d",
   "metadata": {},
<<<<<<< HEAD
   "outputs": [
    {
     "name": "stderr",
     "output_type": "stream",
     "text": [
      "In /home/makkol/anaconda3/lib/python3.7/site-packages/matplotlib/mpl-data/stylelib/_classic_test.mplstyle: \n",
      "The text.latex.preview rcparam was deprecated in Matplotlib 3.3 and will be removed two minor releases later.\n",
      "In /home/makkol/anaconda3/lib/python3.7/site-packages/matplotlib/mpl-data/stylelib/_classic_test.mplstyle: \n",
      "The mathtext.fallback_to_cm rcparam was deprecated in Matplotlib 3.3 and will be removed two minor releases later.\n",
      "In /home/makkol/anaconda3/lib/python3.7/site-packages/matplotlib/mpl-data/stylelib/_classic_test.mplstyle: Support for setting the 'mathtext.fallback_to_cm' rcParam is deprecated since 3.3 and will be removed two minor releases later; use 'mathtext.fallback : 'cm' instead.\n",
      "In /home/makkol/anaconda3/lib/python3.7/site-packages/matplotlib/mpl-data/stylelib/_classic_test.mplstyle: \n",
      "The validate_bool_maybe_none function was deprecated in Matplotlib 3.3 and will be removed two minor releases later.\n",
      "In /home/makkol/anaconda3/lib/python3.7/site-packages/matplotlib/mpl-data/stylelib/_classic_test.mplstyle: \n",
      "The savefig.jpeg_quality rcparam was deprecated in Matplotlib 3.3 and will be removed two minor releases later.\n",
      "In /home/makkol/anaconda3/lib/python3.7/site-packages/matplotlib/mpl-data/stylelib/_classic_test.mplstyle: \n",
      "The keymap.all_axes rcparam was deprecated in Matplotlib 3.3 and will be removed two minor releases later.\n",
      "In /home/makkol/anaconda3/lib/python3.7/site-packages/matplotlib/mpl-data/stylelib/_classic_test.mplstyle: \n",
      "The animation.avconv_path rcparam was deprecated in Matplotlib 3.3 and will be removed two minor releases later.\n",
      "In /home/makkol/anaconda3/lib/python3.7/site-packages/matplotlib/mpl-data/stylelib/_classic_test.mplstyle: \n",
      "The animation.avconv_args rcparam was deprecated in Matplotlib 3.3 and will be removed two minor releases later.\n"
     ]
    }
   ],
=======
   "outputs": [],
>>>>>>> 6237779ac47f6c06b37c23f44c8117e779c3aec7
   "source": [
    "# Import some basic packages\n",
    "import numpy as np\n",
    "import matplotlib.pyplot as plt\n",
    "import math"
   ]
  },
  {
   "cell_type": "code",
   "execution_count": 2,
   "id": "5af47d5f-d55a-4902-b99c-9ce793726c32",
   "metadata": {},
   "outputs": [
    {
     "name": "stdout",
     "output_type": "stream",
     "text": [
      "When printing a sparse matrix, it shows its nonzero entries:\n",
      "  (0, 0)\t4.0\n",
      "  (3, 3)\t5.0\n",
      "  (1, 1)\t7.0\n",
      "  (0, 2)\t9.0\n",
      "If you want to see its `dense` matrix form, you have to use `mat.toarray()`:\n",
      "[[4. 0. 9. 0.]\n",
      " [0. 7. 0. 0.]\n",
      " [0. 0. 0. 0.]\n",
      " [0. 0. 0. 5.]]\n",
      "For x=[1 2 3 4], Mx = [31. 14.  0. 20.]\n"
     ]
    }
   ],
   "source": [
    "from scipy.sparse import coo_matrix\n",
    "\n",
    "# This is how to create a sparse matrix from a given list of (row, column, value) tuples.\n",
    "row  = [0,   3,   1,   0]\n",
    "col  = [0,   3,   1,   2]\n",
    "data = [4.0, 5.0, 7.0, 9.0]\n",
    "M = coo_matrix((data, (row, col)), shape=(4, 4))\n",
    "\n",
    "print(\"When printing a sparse matrix, it shows its nonzero entries:\")\n",
    "print(M)\n",
    "\n",
    "print(\"If you want to see its `dense` matrix form, you have to use `mat.toarray()`:\")\n",
    "print(M.toarray())\n",
    "\n",
    "# This is how to perform matrix-vector products.\n",
    "x = np.array([1, 2, 3, 4])\n",
    "print(\"For x={}, Mx = {}\".format(x, M.dot(x)))"
   ]
  },
  {
   "cell_type": "code",
   "execution_count": 3,
   "id": "7f1c616d-9651-4da7-94fc-3e53f2362250",
   "metadata": {},
   "outputs": [
    {
     "name": "stdout",
     "output_type": "stream",
     "text": [
      "This matrix has values on its diagonal and on offdiagonals 1 and 2 rows ABOVE it.\n",
      "[[1. 1. 1. 0.]\n",
      " [0. 2. 2. 2.]\n",
      " [0. 0. 3. 3.]\n",
      " [0. 0. 0. 4.]]\n",
      "This matrix has values on its diagonal and on offdiagonals 1 and 2 rows BELOW it.\n",
      "[[1. 0. 0. 0.]\n",
      " [1. 2. 0. 0.]\n",
      " [1. 2. 3. 0.]\n",
      " [0. 2. 3. 4.]]\n",
      "If you want to visualize the matrix for yourself, use `plt.imshow`:\n"
     ]
    },
    {
     "data": {
<<<<<<< HEAD
      "image/png": "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\n",
=======
      "image/png": "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\n",
>>>>>>> 6237779ac47f6c06b37c23f44c8117e779c3aec7
      "text/plain": [
       "<Figure size 432x288 with 2 Axes>"
      ]
     },
     "metadata": {
      "needs_background": "light"
     },
     "output_type": "display_data"
    },
    {
     "name": "stdout",
     "output_type": "stream",
     "text": [
      "For b=[1 2 3 4], the solution x to Mx=b is [1.         0.5        0.33333333 0.5       ]\n",
      "And indeed, Mx - b = [0. 0. 0. 0.]\n"
     ]
    }
   ],
   "source": [
    "from scipy.sparse import diags, SparseEfficiencyWarning\n",
    "from scipy.sparse.linalg import spsolve\n",
    "import warnings\n",
    "warnings.simplefilter('ignore', SparseEfficiencyWarning)  # Suppress confusing warning\n",
    "\n",
    "# This is how to create a sparse matrix from a given list of subdiagonals.\n",
    "diagonals = [[1, 2, 3, 4], [1, 2, 3], [1, 2]]\n",
    "M = diags(diagonals, [0, 1, 2])\n",
    "print(\"This matrix has values on its diagonal and on offdiagonals 1 and 2 rows ABOVE it.\")\n",
    "print(M.toarray())\n",
    "\n",
    "M = diags(diagonals, [0, -1, -2])\n",
    "print(\"This matrix has values on its diagonal and on offdiagonals 1 and 2 rows BELOW it.\")\n",
    "print(M.toarray())\n",
    "\n",
    "print(\"If you want to visualize the matrix for yourself, use `plt.imshow`:\")\n",
    "plt.imshow(M.toarray())\n",
    "plt.colorbar()\n",
    "plt.show()\n",
    "\n",
    "# This is how to solve sparse systems.\n",
    "b = np.array([1, 2, 3, 4])\n",
    "x = spsolve(M, b)\n",
    "print(\"For b={}, the solution x to Mx=b is {}\".format(b, x))\n",
    "print(\"And indeed, Mx - b = {}\".format(M.dot(x) - b))"
   ]
  },
  {
   "cell_type": "markdown",
   "id": "972d8aca-b5f4-48a5-8a43-f3dccb0ea9ef",
   "metadata": {},
   "source": [
    "--------\n",
    "# Exercise 1\n",
    "Consider the following boundary value problem involving a nonlinear ordinary differential equation:\n",
    "\n",
    "$$ \\tag{1} y''(x) + \\exp(y(x)) = 0, \\quad 0 < x < 1, \\quad y(0) = y(1) = 0.$$\n",
    "\n",
    "The purpose of this exercise is to approximate the solution to this boundary value problem, by discretizing the problem and then solving the resulting system of nonlinear equations. "
   ]
  },
  {
   "cell_type": "markdown",
   "id": "cb770a03-ba0f-4de2-b326-c429868fa1ac",
   "metadata": {},
   "source": [
    "Problem (1) will be discretized using finite differences. Suppose we use $n+2$ discretization points for $x$, denoted $x_k = kh$ for $k \\in \\{0, \\ldots, n+1\\}$ and $h = 1/(n+1)$. The approximate solution is denoted $y_k = y(x_k)$. \n",
    "\n",
    "We will use a _second-order central finite difference_ approximation for the second derivative: \n",
    "\n",
    "$$ \\tag{2} y''(x_k) \\approx \\frac{y_{k-1} - 2 y_k + y_{k+1}}{h^2}.$$\n",
    "\n",
    "The term $\\exp(y(x_k))$ can simply be approximated by $\\exp(y_k)$. Thus for $x=x_k$, equation (1) becomes\n",
    "\n",
    "$$ \\tag{3} \\frac{y_{k-1} - 2 y_k + y_{k+1}}{h^2} + \\exp y_k = 0, \\quad k = 1, \\ldots, n.$$\n",
    "\n",
    "The boundary conditions (the conditions $y(0) = y(1) = 1$), lead to the requirement that $y_0 = y_{n+1} = 0$. To find the remaining values $y_k$, $k=1, \\ldots, n$, equation (3) will be used for $k = 1, \\ldots, n$. In this way, one obtains $n$ equations for $n$ unknowns, to which, in principle, a rootfinding method can be applied.\n",
    "\n",
    "We will write $\\vec y = \\begin{bmatrix} y_1 \\\\ \\vdots \\\\ y_n \\end{bmatrix}$ for the vector of values to be determined. \n"
   ]
  },
  {
   "cell_type": "markdown",
   "id": "7c341388-63b4-4b7a-aeaf-9dcf4173cefc",
   "metadata": {},
   "source": [
    "## (a)  (2 pts)\n",
    "As a first step, finish the function `SecondDerMatrix` that returns a matrix $\\bf{M}$ that maps the vector $\\vec y$ to the vector of the approximate values $y''(x_k)$, $k=1, \\ldots, n$ given in (2). To get full points for this part of the exercise you must create output in the form of a sparse matrix."
   ]
  },
  {
   "cell_type": "code",
<<<<<<< HEAD
   "execution_count": 18,
   "id": "b7c5a43e",
   "metadata": {},
   "outputs": [
    {
     "name": "stdout",
     "output_type": "stream",
     "text": [
      "[-36.   0.   0.   0. -36.]\n"
     ]
    }
   ],
=======
   "execution_count": 70,
   "id": "56208158",
   "metadata": {},
   "outputs": [],
>>>>>>> 6237779ac47f6c06b37c23f44c8117e779c3aec7
   "source": [
    "from scipy.sparse import coo_matrix\n",
    "\n",
    "def SecondDerMatrix(n):\n",
    "    h = 1 / (n + 1)\n",
    "    \n",
    "    M = np.zeros((n,n))\n",
    "    \n",
    "    off_diagonals = [1/(h**2)]*(n-1)\n",
    "    diagonal = [(-2)/(h**2)]*(n)\n",
    "\n",
    "    M = diags([off_diagonals, diagonal, off_diagonals], [-1,0,1])\n",
<<<<<<< HEAD
    "    \n",
    "    return M\n",
    "\n",
    "\n",
    "print([1, 1, 1, 1, 1] @ SecondDerMatrix(5).toarray())"
=======
    "\n",
    "    return M"
>>>>>>> 6237779ac47f6c06b37c23f44c8117e779c3aec7
   ]
  },
  {
   "cell_type": "markdown",
   "id": "402404a4-8673-4529-b452-94c05e994cf2",
   "metadata": {},
   "source": [
    "## (b)  (1 pt)\n",
    "Second-order central finite differences are exact for quadratic functions. In order to test your implementation, choose $n=10$ and apply the second derivative matrix from part (a) to a quadratic function $y(x)$ with $y(0) = y(1) = 0$ for which you know the second derivative $y''(x)$."
   ]
  },
  {
   "cell_type": "code",
<<<<<<< HEAD
   "execution_count": 39,
=======
   "execution_count": 71,
>>>>>>> 6237779ac47f6c06b37c23f44c8117e779c3aec7
   "id": "dea2b67c-4c28-42f3-9555-fdc2795741ab",
   "metadata": {},
   "outputs": [
    {
     "name": "stdout",
     "output_type": "stream",
     "text": [
      "x:\n",
      "[0.         0.11111111 0.22222222 0.33333333 0.44444444 0.55555556\n",
      " 0.66666667 0.77777778 0.88888889 1.        ]\n",
      "y:\n",
      "[ 0.         -0.09876543 -0.17283951 -0.22222222 -0.24691358 -0.24691358\n",
      " -0.22222222 -0.17283951 -0.09876543  0.        ]\n",
      "\n",
      "matrix M:\n",
<<<<<<< HEAD
      "[[-242.  121.    0.    0.    0.    0.    0.    0.    0.    0.]\n",
      " [ 121. -242.  121.    0.    0.    0.    0.    0.    0.    0.]\n",
      " [   0.  121. -242.  121.    0.    0.    0.    0.    0.    0.]\n",
      " [   0.    0.  121. -242.  121.    0.    0.    0.    0.    0.]\n",
      " [   0.    0.    0.  121. -242.  121.    0.    0.    0.    0.]\n",
      " [   0.    0.    0.    0.  121. -242.  121.    0.    0.    0.]\n",
      " [   0.    0.    0.    0.    0.  121. -242.  121.    0.    0.]\n",
      " [   0.    0.    0.    0.    0.    0.  121. -242.  121.    0.]\n",
      " [   0.    0.    0.    0.    0.    0.    0.  121. -242.  121.]\n",
      " [   0.    0.    0.    0.    0.    0.    0.    0.  121. -242.]]\n",
=======
      "  (1, 0)\t121.0\n",
      "  (2, 1)\t121.0\n",
      "  (3, 2)\t121.0\n",
      "  (4, 3)\t121.0\n",
      "  (5, 4)\t121.0\n",
      "  (6, 5)\t121.0\n",
      "  (7, 6)\t121.0\n",
      "  (8, 7)\t121.0\n",
      "  (9, 8)\t121.0\n",
      "  (0, 0)\t-242.0\n",
      "  (1, 1)\t-242.0\n",
      "  (2, 2)\t-242.0\n",
      "  (3, 3)\t-242.0\n",
      "  (4, 4)\t-242.0\n",
      "  (5, 5)\t-242.0\n",
      "  (6, 6)\t-242.0\n",
      "  (7, 7)\t-242.0\n",
      "  (8, 8)\t-242.0\n",
      "  (9, 9)\t-242.0\n",
      "  (0, 1)\t121.0\n",
      "  (1, 2)\t121.0\n",
      "  (2, 3)\t121.0\n",
      "  (3, 4)\t121.0\n",
      "  (4, 5)\t121.0\n",
      "  (5, 6)\t121.0\n",
      "  (6, 7)\t121.0\n",
      "  (7, 8)\t121.0\n",
      "  (8, 9)\t121.0\n",
>>>>>>> 6237779ac47f6c06b37c23f44c8117e779c3aec7
      "\n",
      "2nd derivative from function:\n",
      "[-11.95061728   2.98765432   2.98765432   2.98765432   2.98765432\n",
      "   2.98765432   2.98765432   2.98765432   2.98765432 -11.95061728]\n",
      "\n"
     ]
    }
   ],
   "source": [
    "from scipy import misc\n",
    "\n",
    "n = 10\n",
    "\n",
    "x = np.linspace(0,1,n)\n",
    "print(f\"x:\\n{x}\")\n",
    "\n",
    "y = x**2 - x\n",
    "print(f\"y:\\n{y}\\n\")\n",
    "\n",
    "M = SecondDerMatrix(n)\n",
<<<<<<< HEAD
    "print(f\"matrix M:\\n{M.toarray()}\\n\")\n",
=======
    "print(f\"matrix M:\\n{M}\\n\")\n",
>>>>>>> 6237779ac47f6c06b37c23f44c8117e779c3aec7
    "\n",
    "y_2 = y.T*M\n",
    "print(f\"2nd derivative from function:\\n{y_2}\\n\")\n"
   ]
  },
  {
   "cell_type": "markdown",
   "id": "3c6b937a-a06a-4d24-ae49-d036ef88ba03",
   "metadata": {},
   "source": [
    "## (c) (2 pts)\n",
    "\n",
    "Defining $\\vec y = \\begin{bmatrix} y_1 \\\\ \\vdots \\\\ y_n \\end{bmatrix}$ and \n",
    "$E(\\vec y) = \\begin{bmatrix} \\exp(y_1) \\\\ \\vdots \\\\ \\exp(y_n) \\end{bmatrix}$, the equations (3) can be written in the form\n",
    "\n",
    "$$ F(\\vec y) := {\\bf M} \\cdot \\vec y + E(\\vec y) = \\vec 0. $$\n",
    "\n",
    "Finish the function `F` that defines $F(\\vec y) = {\\bf M} \\cdot \\vec y + E(\\vec y)$.\n",
    "Finish the function `JacobianF` that computes the Jacobian ${\\bf J}_F(\\vec y)$ of $F(\\vec y)$.\n",
    "To get full points for this part of the exercise, the Jacobian must be computed in the form of a sparse matrix."
   ]
  },
  {
   "cell_type": "code",
<<<<<<< HEAD
   "execution_count": 22,
=======
   "execution_count": 75,
>>>>>>> 6237779ac47f6c06b37c23f44c8117e779c3aec7
   "id": "f693cfc3-9639-419a-b8f8-5179c3e60123",
   "metadata": {},
   "outputs": [],
   "source": [
<<<<<<< HEAD
    "def F(y):\n",
    "    M = SecondDerMatrix(len(y))\n",
    "    E = np.exp(y)\n",
    "    return coo_matrix.dot(M, y) + E\n",
    "    \n",
    "def JacobianF(y):\n",
    "    M = SecondDerMatrix(len(y))\n",
    "    E_y = np.exp(y)\n",
    "    \n",
    "    diagonal = diags([E_y], [0])\n",
    "    \n",
    "    return M + diagonal"
=======
    "import sympy as sym\n",
    "from scipy.sparse import csr_matrix\n",
    "\n",
    "def F(y, M):\n",
    "    E = np.exp(y)\n",
    "    \n",
    "    return M*y + E\n",
    "    \n",
    "def JacobianF(y, M):\n",
    "    dotProduct = M.dot(y)\n",
    "    ans = np.zeros((M.shape[0], M.shape[1], dotProduct.shape[0], dotProduct.shape[1]))\n",
    "    L = list(range(M.shape[0]))\n",
    "    ans[L,:,L,:] = y\n",
    "    return csr_matrix(ans)"
>>>>>>> 6237779ac47f6c06b37c23f44c8117e779c3aec7
   ]
  },
  {
   "cell_type": "markdown",
   "id": "8da07053-496c-4e60-a278-422c113ff702",
   "metadata": {},
   "source": [
    "## (d)  (3 pts)\n",
    "1. Write down the first order Taylor expansion $T_F(\\vec y, \\vec s)$ for $F(\\vec y+\\vec s)$.\n",
    "2. In order to check your implementation of the Jacobian matrix, compute and print both $F(\\vec y+\\vec s)$ and its first order Taylor approximation $T_F(\\vec y, \\vec s)$ for a choice $\\vec y$ and $\\vec s$.\n",
    "3. Verify numerically that the error $||F(\\vec y + \\vec s) - T_F(\\vec y, \\vec s)||_2$ is $\\mathcal O(||\\vec s||_2^2)$. Hint: take vectors $\\vec s$ with $\\|\\vec s\\|_2 = \\mathcal O(h)$  for multiple values for $h$, e.g. $h = 10^{-k}$ for a range of $k$. "
   ]
  },
  {
   "cell_type": "markdown",
   "id": "48d3fd40-cff8-40b6-8e6e-5aa2a48fd4e0",
   "metadata": {},
   "source": [
    "Subquestion 1.\n",
    "\n",
    "YOUR ANSWER HERE"
   ]
  },
  {
   "cell_type": "code",
<<<<<<< HEAD
   "execution_count": 66,
   "id": "bb9cb01a-1fca-400f-b860-c4efaceada23",
   "metadata": {},
   "outputs": [
    {
     "data": {
      "text/plain": [
       "(0.0, 4.0)"
      ]
     },
     "execution_count": 66,
     "metadata": {},
     "output_type": "execute_result"
    },
    {
     "data": {
      "image/png": "iVBORw0KGgoAAAANSUhEUgAAAXwAAAD8CAYAAAB0IB+mAAAAOXRFWHRTb2Z0d2FyZQBNYXRwbG90bGliIHZlcnNpb24zLjMuMiwgaHR0cHM6Ly9tYXRwbG90bGliLm9yZy8vihELAAAACXBIWXMAAAsTAAALEwEAmpwYAAAgUklEQVR4nO3de3jU1b3v8feXEAiEu0QuhptyUURDMHKR1lKrLaD1Um+wt7UPrUVtLahFq91W69Gn3VpLLXVXytHWenQTFFGpBT1qpd6qCCThFqMRRCJIApEkEBMS8j1/ZNqTHQKZJJP85vJ5Pc88zMxvzW8+LsOXlTVrfsvcHRERiX+dgg4gIiIdQwVfRCRBqOCLiCQIFXwRkQShgi8ikiBU8EVEEkTYBd/Mkswsx8xeaOKYmdkiMys0s41mNiGyMUVEpK1aMsKfD+Qf5dgMYFToNhd4uI25REQkwsIq+GaWDpwPPHKUJhcBj3u9d4A+ZjYoQhlFRCQCOofZ7kHgVqDnUY6fAOxs8Lgo9Nzuho3MbC71vwGQmpp6xsknn9ySrCKtsqe8iuKKaob1606vbslBxxFpk/Xr1+9197TWvLbZgm9mFwDF7r7ezKYdrVkTzx1xzQZ3XwIsAcjKyvJ169aFn1SkFdZuL2XWkn9wQ2Y6v74iI+g4Im1mZjta+9pwpnSmAhea2cdANnCOmT3RqE0RMKTB43RgV2tDiURCWWUNN2bnMLRfd+6+6NSg44gErtmC7+63u3u6uw8HZgF/c/erGjVbCVwdWq0zGShz992NzyXSUdyd25/dSHFFNb+dlUmPruHOXorEr1b/LTCz6wDcfTGwCpgJFAKVwJyIpBNppafW7WTVps/4yfSTyRjSJ+g4IlGhRQXf3dcAa0L3Fzd43oEfRjKYSGsVFh/g5yu3MnXkcVx79olBxxGJGvqmrcSV6trDzM/OISW5EwuvGE+nTk2tJxBJTJrYlLjyqxcL2LKrnEeuzmJAr5Sg44hEFY3wJW6sKSjmkTe3c/WUYZw7dkDQcUSijgq+xIWSimoWPJ3HmAE9+enMU4KOIxKVNKUjMa+uzrlleR7lVbU8ec1kUpKTgo4kEpU0wpeY99jbH7OmoIQ7zj+FMQOPdvUPEVHBl5i2ZVcZ/7n6fc49ZQDfnjws6DgiUU0FX2LWF4cOM29pDn26J3P/ZadjpiWYIseiOXyJWf/rha1s23uQJ743iX6pXYKOIxL1NMKXmPTi5t0sXfsJ1559ElNH9g86jkhMUMGXmLNr/xf85JlNnJ7em5vPGx10HJGYoYIvMeVwnXPTslxqDtexaFYmXTrrR1gkXJrDl5jy8JpC3t1eygOXZzC8f2rQcURiioZHEjPW7/ic37zyIRdmDObSCScEHUck5qjgS0wor6phfnYOg3qncO8l47QEU6QVNKUjUc/d+dlzm9ldVsVT106hV4o2IhdpDY3wJeo9m/Mpz+fu4savjeKMYX2DjiMSs1TwJap9vPcgP3tuMxNH9OMHXx0ZdByRmNZswTezFDNba2Z5ZrbFzO5uos00Myszs9zQ7c72iSuJ5FBtHfOzc0jqZDx45XiStHuVSJuEM4dfDZzj7gfMLBl408xWu/s7jdq94e4XRD6iJKrfvPIBeUVlPPzvExjcp1vQcURiXrMFP7RB+YHQw+TQzdszlMjbhXtZ/PePmD1xCDNOGxR0HJG4ENYcvpklmVkuUAy87O7vNtFsSmjaZ7WZnRrJkJJYSg8e4qancjmxfyo/u2Bs0HFE4kZYBd/dD7v7eCAdmGhm4xo12QAMc/cM4HfAc02dx8zmmtk6M1tXUlLS+tQSt9ydW5dv5PODNSyanUn3Llo5LBIpLVql4+77gTXA9EbPl7v7gdD9VUCymR1xCUN3X+LuWe6elZaW1urQEr+eePcTXsnfw09mnMypg3sHHUckroSzSifNzPqE7ncDzgXeb9RmoIW++mhmE0Pn3RfxtBLXCj6r4N4XtvKV0WnMOWt40HFE4k44vy8PAv5sZknUF/Kn3P0FM7sOwN0XA5cB15tZLfAFMCv0Ya9IWKpq6nev6pnSmQcuz6CTlmCKRFw4q3Q2AplNPL+4wf2HgIciG00SyS9X5VOwp4LH5pxJWs+uQccRiUv6pq0E7pWte/jzP3bwvS+NYNqY44OOIxK3VPAlUHvKq7hleR5jB/Xi1uljgo4jEtdU8CUwdXXOj5/Ko6qmjkWzM+naOSnoSCJxTQVfAvO/39jGm4V7ueubYxl5fI+g44jEPRV8CcTGov386qUCZowbyJVnDgk6jkhCUMGXDnegupZ5S3M4vmdX/vNbp2v3KpEOou+tS4f7+cotfFJaydLvT6Z3d+1eJdJRNMKXDrUybxfL1xdxw1dHMunE44KOI5JQVPClw+wsreQ/VmxiwtA+zPvaqKDjiCQcFXzpELWH63evAvjtrEw6J+lHT6SjaQ5fOsSivxWy4ZP9LJqdyZB+3YOOI5KQNMySdrd2eykP/e1DLp2QzoUZg4OOI5KwVPClXZVV1nBjdg5D+3Xn7ou0EZpIkDSlI+3G3bn92Y0UV1TzzPVn0aOrftxEgqQRvrSbZe/tZNWmz1jwjTFkDOkTdByRhKeCL+2isPgAd/9lK1NHHsfcL58YdBwRQQVf2kF1bf3uVSnJnVh4xXjtXiUSJTSpKhH3qxcL2Lq7nEeuzmJAr5Sg44hIiEb4ElFrCop55M3tXD1lGOeOHRB0HBFpoNmCb2YpZrbWzPLMbIuZ3d1EGzOzRWZWaGYbzWxC+8SVaFZSUc2Cp/MYM6AnP515StBxRKSRcKZ0qoFz3P2AmSUDb5rZand/p0GbGcCo0G0S8HDoT0kQdXXOLcvzqKiq5clrJpOSrN2rRKJNsyN8r3cg9DA5dPNGzS4CHg+1fQfoY2aDIhtVotmf3v6YNQUl3HH+KYwZ2DPoOCLShLDm8M0sycxygWLgZXd/t1GTE4CdDR4XhZ5rfJ65ZrbOzNaVlJS0MrJEmy27yrhv9fuce8oArpo8LOg4InIUYRV8dz/s7uOBdGCimY1r1KSpdXeNfwvA3Ze4e5a7Z6WlpbU4rESfykP1u1f1TU3m/su0e5VINGvRKh133w+sAaY3OlQENNyYNB3Y1ZZgEhvueSGfbXsPsvCK8fRL7RJ0HBE5hnBW6aSZWZ/Q/W7AucD7jZqtBK4OrdaZDJS5++5Ih5Xo8uLm3Sxd+wnXnn0SU0f2DzqOiDQjnFU6g4A/m1kS9f9APOXuL5jZdQDuvhhYBcwECoFKYE475ZUosWv/F/zkmU1kpPfmx18fHXQcEQlDswXf3TcCmU08v7jBfQd+GNloEq0O1zk3Lcul9nAdv52VSbJ2rxKJCbq0grTY718r5N3tpfz68gyG908NOo6IhElDM2mR9Ts+58FXP+TCjMF8a8IRK29FJIqp4EvYyqtqmJ+dw6DeKdx7yTgtwRSJMZrSkbC4O3c8u5ndZVU8de0UeqUkBx1JRFpII3wJy4oNn7Iybxc3fm0UZwzrG3QcEWkFFXxp1sd7D3Ln85uZOKIfP/jqyKDjiEgrqeDLMR2qrWN+dg6dkzrx4JXjSdLuVSIxS3P4cky/eeUD8orKePjfJzC4T7eg44hIG2iEL0f1duFeFv/9I2ZPHMKM03S1a5FYp4IvTSo9eIgbl+VyYv9UfnbB2KDjiEgEaEpHjuDu3Lp8I/sra/jTnDPp3kU/JiLxQCN8OcIT7+zglfw9/GTGyZw6uHfQcUQkQlTw5X8o+KyCe/+az7QxaXx36vCg44hIBKngy79U1Rxm3tIceqYk86vLMnTpBJE4o8lZ+ZdfrsqnYE8Fj805k7SeXYOOIyIRphG+APDK1j38+R87+N6XRjBtzPFBxxGRdqCCL+wpr+KW5XmMHdSLW6ePCTqOiLQTFfwEV1fn3PxULlU1dSyanUnXzklBRxKRdhLOJuZDzOw1M8s3sy1mNr+JNtPMrMzMckO3O9snrkTakje28VbhPu765lhGHt8j6Dgi0o7C+dC2Fvixu28ws57AejN72d23Nmr3hrtfEPmI0l42Fu3ngZcKmHnaQK48c0jQcUSknTU7wnf33e6+IXS/AsgHtLddjDtQXcu8pTkc37Mrv7zkdC3BFEkALZrDN7PhQCbwbhOHp5hZnpmtNrNTj/L6uWa2zszWlZSUtDytRMzPV27hk9JKHpyVSe/u2r1KJBGEXfDNrAfwDHCju5c3OrwBGObuGcDvgOeaOoe7L3H3LHfPSktLa2VkaauVebtYvr6IG746kokj+gUdR0Q6SFgF38ySqS/2T7r7isbH3b3c3Q+E7q8Cks2sf0STSkTsLK3kP1ZsYsLQPsz72qig44hIBwpnlY4BjwL57r7wKG0GhtphZhND590XyaDSdrWH63evAvjtrEw6J2lVrkgiCWeVzlTg28AmM8sNPfdTYCiAuy8GLgOuN7Na4Atglrt75ONKWyx69UM2fLKfRbMzGdKve9BxRKSDNVvw3f1N4JhLONz9IeChSIWSyHt32z4eeq2Qy85I58KMwUHHEZEA6Hf6BFBWWcNNy3IZ2q87P7+wyQVUIpIAdLXMOOfu3P7sRoorqlnxg7Po0VX/y0USlUb4cW7ZeztZtekzFnxjDKen9wk6jogESAU/jhUWH+Duv2xl6sjjmPvlE4OOIyIBU8GPU9W19btXpSR3YuEV4+nUSZdOEEl0mtCNU/e/WMDW3eU8cnUWA3qlBB1HRKKARvhxaE1BMY++uZ3vTBnGuWMHBB1HRKKECn6cKamoZsHTeYwZ0JPbZ54SdBwRiSKa0okjdXXOgqfzqKiq5clrJpOSrN2rROT/0wg/jvzp7Y/5+wcl3HH+KYwZ2DPoOCISZVTw48SWXWXct/p9zj1lAFdNHhZ0HBGJQir4caDyUP3uVX1Tk7n/Mu1eJSJN0xx+HLjnha1s23uQJ783iX6pXYKOIyJRSiP8GLd6026Wrt3JdV85ibNGas8ZETk6FfwYtmv/F9y2YhMZ6b25+bzRQccRkSingh+jDtc5Ny7LpfZwHb+dlUmydq8SkWZoDj9G/f61QtZuL+XXl2cwvH9q0HFEJAZoWBiD1u/4nAdf/ZCLxg/mWxNOCDqOiMSIcDYxH2Jmr5lZvpltMbP5TbQxM1tkZoVmttHMJrRPXCmvqmF+dg6Deqdwz8XjtARTRMIWzpROLfBjd99gZj2B9Wb2srtvbdBmBjAqdJsEPBz6UyLI3bnj2c3sLqvi6eum0CslOehIIhJDmh3hu/tud98Qul8B5AON5xEuAh73eu8AfcxsUMTTJrgVGz5lZd4ubjp3FBOG9g06jojEmBbN4ZvZcCATeLfRoROAnQ0eF3HkPwqY2VwzW2dm60pKSloYNbF9vPcgdz6/mUkj+nH9tJFBxxGRGBR2wTezHsAzwI3uXt74cBMv8SOecF/i7lnunpWWltaypAnsUG0d87Jz6JzUid9cOZ4k7V4lIq0Q1rJMM0umvtg/6e4rmmhSBAxp8Dgd2NX2eAKw8OUP2FhUxuKrJjC4T7eg44hIjApnlY4BjwL57r7wKM1WAleHVutMBsrcfXcEcyastwr38ofXP2L2xKFMH6ePRUSk9cIZ4U8Fvg1sMrPc0HM/BYYCuPtiYBUwEygEKoE5EU+agEoPHuKmZbmc2D+Vn12g3atEpG2aLfju/iZNz9E3bOPADyMVSuqXYN66fCP7K2t4bM5EunfRl6JFpG30Tdso9cQ7O3glfw+3zTiZsYN7BR1HROKACn4UKvisgnv/ms+0MWnMmTo86DgiEidU8KNMVc1h5i3NoWdKMg9cnqFLJ4hIxGhiOMr8YlU+BXsq+PN3J9K/R9eg44hIHNEIP4q8snUPj/9jB9d8aQRfGa0vpolIZKngR4k95VXcsjyPUwf34pbpY4KOIyJxSAU/CtTVOTc/lUtVTR2LZmfStXNS0JFEJA6p4EeBJW9s463Cfdz1zbGclNYj6DgiEqdU8AOWt3M/D7xUwMzTBnLlmUOaf4GISCup4AfoQHUt87NzOL5nV355yelagiki7UrLMgN01/Nb+KS0kuy5U+jdXbtXiUj70gg/IM/nfsozG4q44ZxRTBzRL+g4IpIAVPADsLO0kjue3cwZw/oy7xztXiUiHUMFv4PVHq5jfnYOAA9eOZ7OSfpfICIdQ3P4HWzRqx+y4ZP9LJqdyZB+3YOOIyIJRMPLDvTutn089Fohl52RzoUZg4OOIyIJRgW/g5RV1nDTslyGHZfK3ReeGnQcEUlAmtLpAO7ObSs2UnKgmmeuP4vUrup2Eel44Wxi/kczKzazzUc5Ps3MyswsN3S7M/IxY9uy93ayevNnLPj6GE5P7xN0HBFJUOEMNR8DHgIeP0abN9z9gogkijOFxQe4+y9b+dLI/nz/yycGHUdEElizI3x3fx0o7YAscae6tn73qm5dklh4RQadOunSCSISnEh9aDvFzPLMbLWZHfUTSTOba2brzGxdSUlJhN46et3/YgFbd5dz/6Wnc3yvlKDjiEiCi0TB3wAMc/cM4HfAc0dr6O5L3D3L3bPS0uJ7R6c1BcU8+uZ2vjNlGOeOHRB0HBGRthd8dy939wOh+6uAZDPr3+ZkMaykopoFT+cxZkBPbp95StBxRESACBR8Mxtooev6mtnE0Dn3tfW8saquzlnwdB4VVbX87t8ySUnW7lUiEh2aXaVjZkuBaUB/MysC7gKSAdx9MXAZcL2Z1QJfALPc3dstcZT709sf8/cPSrjn4nGMHtAz6DgiIv/SbMF399nNHH+I+mWbCW/zp2Xct/p9zhs7gKsmDQ06jojI/6BLK0RI5aH63av6piZz36XavUpEoo++4x8h97ywlW17D/Lk9ybRL7VL0HFERI6gEX4ErN60m6Vrd3LdV07irJEJvUBJRKKYCn4b7dr/Bbet2ERGem9uPm900HFERI5KBb8NDtc5Ny7LpfZwHYtmZ5Ks3atEJIppDr8Nfv9aIWu3l7LwigyGHZcadBwRkWPSkLSV1u/4nAdf/ZCLxg/mkswTgo4jItIsFfxWKK+qYX52DoP7pHDPxeO0BFNEYoKmdFrI3bnj2c3sLqvi6eum0CslOehIIiJh0Qi/hVZs+JSVebu46dxRTBjaN+g4IiJhU8FvgY/3HuTO5zczaUQ/rp82Mug4IiItooIfpkO1dczLzqFzUid+c+V4krR7lYjEGM3hh2nhyx+wsaiMxVdNYHCfbkHHERFpMY3ww/BW4V7+8PpHzJ44lOnjBgUdR0SkVVTwm1F68BA3LcvlxP6p3HnB2KDjiIi0mqZ0jsHduXV5Hvsra3hszkS6ddHuVSISuzTCP4Yn3tnBK/nF3DbjZMYO7hV0HBGRNlHBP4qCzyq496/5TBuTxpypw4OOIyLSZs0WfDP7o5kVm9nmoxw3M1tkZoVmttHMJkQ+ZseqqjnMvKU59ExJ5oHLM3TpBBGJC+GM8B8Dph/j+AxgVOg2F3i47bGC9YtV+RTsqeDXV2TQv0fXoOOIiEREswXf3V8HSo/R5CLgca/3DtDHzGJ27eLLW/fw+D92cM2XRvCV0WlBxxERiZhIzOGfAOxs8Lgo9NwRzGyuma0zs3UlJSUReOvI2lNexa3L8zh1cC9umT4m6DgiIhEViYLf1AS3N9XQ3Ze4e5a7Z6WlRdfoua7OufmpXKpq6nev6tpZSzBFJL5EYh1+ETCkweN0YFcEztuhlryxjbcK93HfpadxUlqPoOOIiERcJEb4K4GrQ6t1JgNl7r47AuftMHk79/PASwXMPG0gV2QNaf4FIiIxqNkRvpktBaYB/c2sCLgLSAZw98XAKmAmUAhUAnPaK2x7OFBdy/zsHAb0SuGXl5yuJZgiEreaLfjuPruZ4w78MGKJOthdz2/hk9JKsudOoXd37V4lIvErob9p+3zupzyzoYgbzhnFxBH9go4jItKuErbg7yyt5I5nN3PGsL7MO0e7V4lI/EvIgl97uI752Tlg8OCV4+mclJDdICIJJiEvj7zo1Q/Z8Ml+Fs3OZEi/7kHHERHpEAk3tH132z4eeq2Qy85I58KMwUHHERHpMAlV8Msqa7hxWS7Djkvl7gtPDTqOiEiHSpgpHXfnthUb2XugmhXXTyW1a8L8p4uIAAk0wl/23k5Wb/6MBV8fw2npvYOOIyLS4RKi4BcWH+Duv2zlSyP78/0vnxh0HBGRQMR9wa+urd+9qluXJBZekUGnTrp0gogkprifyL7/xQK27i7n0e9kcXyvlKDjiIgEJq5H+GsKinn0ze18Z8owvnbKgKDjiIgEKm4LfklFNQuezuPkgT25feYpQccREQlcXE7p1NU5C57Oo6Kqlv/+/mRSkrV7lYhIXI7w//T2x/z9gxLuuGAsowf0DDqOiEhUiLuCv/nTMu5b/T7njR3AVZOGBh1HRCRqxFXBrzxUy7zsHPqmJnPfpdq9SkSkobiaw7/nha1s33uQJ783iX6pXYKOIyISVcIa4ZvZdDMrMLNCM7utiePTzKzMzHJDtzsjH/XYVm3azdK1O7nuKydx1sj+Hf32IiJRL5xNzJOA/wLOA4qA98xspbtvbdT0DXe/oB0yNmvX/i+47ZmNZAzpw83njQ4igohI1AtnhD8RKHT3be5+CMgGLmrfWOE7XOfcuCyXw3XOolnjSdbuVSIiTQqnOp4A7GzwuCj0XGNTzCzPzFabWYddbP73rxWydnsp91w8jmHHpXbU24qIxJxwPrRtaqmLN3q8ARjm7gfMbCbwHDDqiBOZzQXmAgwd2vYlk+t3fM6Dr37IxeMH860J6W0+n4hIPAtnhF8EDGnwOB3Y1bCBu5e7+4HQ/VVAspkd8cmpuy9x9yx3z0pLS2tDbCivqmF+dg6D+6Rwz8Xj2nQuEZFEEE7Bfw8YZWYjzKwLMAtY2bCBmQ200KJ3M5sYOu++SIf9J3fnjmc3s7usit/OyqRnSnJ7vZWISNxodkrH3WvN7AbgJSAJ+KO7bzGz60LHFwOXAdebWS3wBTDL3RtP+0TMMxs+ZWXeLhZ8fTQThvZtr7cREYkr1o51+ZiysrJ83bp1LX7dx3sPMnPRG5ye3psnr5lMkjY0EZEEYmbr3T2rNa+NqTWMh2rrmJedQ3JSJ35z5XgVexGRFoipSyssfPkDNhaVsfiqMxjUu1vQcUREYkrMjPDfKtzLH17/iH+bNJTp4wYGHUdEJObERMEvPXiIm5blclJaD352/tig44iIxKSoL/juzq3L89hfWcOiWZl066Ldq0REWiPqC/7/eWcHr+QXc9uMkxk7uFfQcUREYlZUF/yCzyq496/5fHVMGnOmDg86johITIvagl9Vc5gfLd1Ar5RkfnV5hnavEhFpo6hdlvmLVfl8sOcAj393Iv17dA06johIzIvKEf7LW/fw+D928P0vj+Ds0W27yJqIiNSLuoK/p7yKW5fncergXiz4xpig44iIxI2oKvh1dc7NT+VSVVPHotmZdO2sJZgiIpESVXP4f3h9G28V7uO+S0/jpLQeQccREYkrUTPCz9u5n1//3wLOP20QV2QNaf4FIiLSIlFR8A9U1zIvO4cBvVL4xSWnaQmmiEg7iIopnbue38LO0kqWXTuF3t21e5WISHsIfIT/fO6nPLOhiB+dM4ozh/cLOo6ISNwKtODvLK3kjmc3kzWsLz86Z2SQUURE4l5gBd+B+dk5YPDgrPF0Tgr8lw0RkbgWVpU1s+lmVmBmhWZ2WxPHzcwWhY5vNLMJzZ1z34FqNnyyn19cchrpfbu3JruIiLRAswXfzJKA/wJmAGOB2WbWeBeSGcCo0G0u8HBz5y2uqObs0Wl8M2Nwi0OLiEjLhTPCnwgUuvs2dz8EZAMXNWpzEfC413sH6GNmg4510sN1znVnn9iq0CIi0nLhLMs8AdjZ4HERMCmMNicAuxs2MrO51P8GAFA9dVTa5halDUZ/YG/QIcKgnJEVCzljISMoZ6S1+iJj4RT8pr4F5a1og7svAZYAmNk6d88K4/0DpZyRpZyREwsZQTkjzczWtfa14UzpFAENr3WQDuxqRRsREQlQOAX/PWCUmY0wsy7ALGBlozYrgatDq3UmA2XuvrvxiUREJDjNTum4e62Z3QC8BCQBf3T3LWZ2Xej4YmAVMBMoBCqBOWG895JWp+5YyhlZyhk5sZARlDPSWp3T3I+YahcRkTikr7eKiCQIFXwRkQTR7gW/PS7LEFDOaWZWZma5odudAWT8o5kVm1mT31+Ior5sLmc09OUQM3vNzPLNbIuZzW+iTeD9GWbOaOjPFDNba2Z5oZx3N9EmGvoznJyB92coR5KZ5ZjZC00ca11funu73aj/kPcj4ESgC5AHjG3UZiawmvq1/JOBd9szUxtyTgNe6OhsjTKcDUwANh/leOB9GWbOaOjLQcCE0P2ewAdR+rMZTs5o6E8DeoTuJwPvApOjsD/DyRl4f4Zy3Az8d1NZWtuX7T3Cb5fLMgSUM3Du/jpQeowm0dCX4eQMnLvvdvcNofsVQD713w5vKPD+DDNn4EJ9dCD0MDl0a7wiJBr6M5ycgTOzdOB84JGjNGlVX7Z3wT/aJRda2qa9hZthSuhXwdVmdmrHRGuRaOjLcEVNX5rZcCCT+tFeQ1HVn8fICVHQn6EpiFygGHjZ3aOyP8PICcH354PArUDdUY63qi/bu+BH7LIM7SycDBuAYe6eAfwOeK69Q7VCNPRlOKKmL82sB/AMcKO7lzc+3MRLAunPZnJGRX+6+2F3H0/9N+0nmtm4Rk2ioj/DyBlof5rZBUCxu68/VrMmnmu2L9u74MfKZRmazeDu5f/8VdDdVwHJZta/4yKGJRr6slnR0pdmlkx9EX3S3Vc00SQq+rO5nNHSnw3y7AfWANMbHYqK/vyno+WMgv6cClxoZh9TP718jpk90ahNq/qyvQt+rFyWodmcZjbQzCx0fyL1fbevg3M2Jxr6slnR0Jeh938UyHf3hUdpFnh/hpMzSvozzcz6hO53A84F3m/ULBr6s9mcQfenu9/u7unuPpz6WvQ3d7+qUbNW9WU4V8tsNW+/yzIEkfMy4HozqwW+AGZ56OPyjmJmS6lfQdDfzIqAu6j/0Clq+jLMnIH3JfWjqG8Dm0LzuQA/BYY2yBkN/RlOzmjoz0HAn61+w6ROwFPu/kK0/V0PM2c09OcRItGXurSCiEiC0DdtRUQShAq+iEiCUMEXEUkQKvgiIglCBV9EJEGo4IuIJAgVfBGRBPH/AH+roveG8A2TAAAAAElFTkSuQmCC\n",
      "text/plain": [
       "<Figure size 432x288 with 1 Axes>"
      ]
     },
     "metadata": {
      "needs_background": "light"
     },
     "output_type": "display_data"
    }
   ],
   "source": [
    "# Subquestions 2 and 3.\n",
    "\n",
    "# define first order taylor expansion of F\n",
    "def first_order_taylor(y, s):\n",
    "    return F(y) + coo_matrix.dot(JacobianF(y).T, s)\n",
    "\n",
    "\n",
    "# choose whatever y\n",
    "y = np.array([.1, .2, .3, .4])\n",
    "\n",
    "# initialize lists to store errors and O(h)s\n",
    "T_error = []\n",
    "O_h = []\n",
    "\n",
    "for k in range(10):\n",
    "    # make new s \n",
    "    s = 1 / (np.power(10, k)) * np.ones(len(y))\n",
    "    \n",
    "    # calculate normalized error of taylor vs. direct\n",
    "    T_error.append(np.linalg.norm(F(y + s) - first_order_taylor(y, s)))\n",
    "    \n",
    "    # use norm(s) = O(h) to calculate O(norm(s))\n",
    "    O_h.append(np.linalg.norm(s) ** 2)\n",
    "\n",
    "plt.plot(T_error, O_h)\n",
    "plt.ylim(0, 4)\n",
    "plt.xlim(0, 4)\n",
    "plt.title('proportionality of the normalized error of T_F(y, s) on F(y + s)')\n",
    "plt.ylabel('normalized error of the 1st order taylor expansion of F')\n",
    "plt.xlabel('')"
=======
   "execution_count": null,
   "id": "bb9cb01a-1fca-400f-b860-c4efaceada23",
   "metadata": {},
   "outputs": [],
   "source": [
    "# Subquestions 2 and 3.\n",
    "\n",
    "# YOUR CODE HERE\n"
>>>>>>> 6237779ac47f6c06b37c23f44c8117e779c3aec7
   ]
  },
  {
   "cell_type": "markdown",
   "id": "c594be9d-8265-4aa0-aa7d-bd9f30e167aa",
   "metadata": {},
   "source": [
    "## (e) (2 pts)\n",
    "1. Finish the function `NewtonSolve` below to solve the system of equations.\n",
    "2. Take $n=40$, and experiment with your function. Try to find a choice of `y0` such that the method doesn't converge, as well as a choice of `y0` such that the method converges. In your answer, list the types of convergence behavior you found. Show a convergent example (if you found any) and a nonconvergent example (if you found any). Show the solutions you found for each example."
   ]
  },
  {
   "cell_type": "code",
<<<<<<< HEAD
   "execution_count": 8,
=======
   "execution_count": null,
>>>>>>> 6237779ac47f6c06b37c23f44c8117e779c3aec7
   "id": "c5adc7dd-783d-4849-b84c-94da20631c9f",
   "metadata": {},
   "outputs": [],
   "source": [
    "# Subquestion 1.\n",
    "def NewtonSolve(y0, K):\n",
    "    \"\"\" Use Newton's method to solve F(y) = 0 with initial guess y0 and K iterations. \"\"\"\n",
    "    y = y0\n",
    "    # YOUR CODE HERE\n",
    "    return y"
   ]
  },
  {
   "cell_type": "code",
<<<<<<< HEAD
   "execution_count": 9,
=======
   "execution_count": null,
>>>>>>> 6237779ac47f6c06b37c23f44c8117e779c3aec7
   "id": "9ce50cda-6dcd-4d97-a0d3-2c185ce88875",
   "metadata": {},
   "outputs": [],
   "source": [
    "# Subquestion 2, code part\n",
    "# YOUR CODE HERE"
   ]
  },
  {
   "cell_type": "markdown",
   "id": "441c242a-ec62-4761-b3d5-1aaf00ed3ab2",
   "metadata": {},
   "source": [
    "Subquestion 2, text part YOUR ANSWER HERE"
   ]
  }
 ],
 "metadata": {
  "kernelspec": {
   "display_name": "Python 3 (ipykernel)",
   "language": "python",
   "name": "python3"
  },
  "language_info": {
   "codemirror_mode": {
    "name": "ipython",
    "version": 3
   },
   "file_extension": ".py",
   "mimetype": "text/x-python",
   "name": "python",
   "nbconvert_exporter": "python",
   "pygments_lexer": "ipython3",
<<<<<<< HEAD
   "version": "3.7.3"
=======
   "version": "3.9.12"
>>>>>>> 6237779ac47f6c06b37c23f44c8117e779c3aec7
  }
 },
 "nbformat": 4,
 "nbformat_minor": 5
}
