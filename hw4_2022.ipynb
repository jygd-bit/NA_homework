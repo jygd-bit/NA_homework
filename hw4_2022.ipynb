{
 "cells": [
  {
   "cell_type": "markdown",
   "id": "d4c81d3e-6c35-4c9e-9721-dc27a3d00251",
   "metadata": {
    "nbgrader": {
     "grade": false,
     "grade_id": "cell-06d3e5bf55c941ae",
     "locked": true,
     "schema_version": 3,
     "solution": false,
     "task": false
    },
    "tags": []
   },
   "source": [
    "# Homework set 4"
   ]
  },
  {
   "cell_type": "markdown",
   "id": "64728360-8bed-4d1f-bb87-bf746ea66002",
   "metadata": {
    "nbgrader": {
     "grade": false,
     "grade_id": "cell-736ff6bc3e0d0696",
     "locked": true,
     "schema_version": 3,
     "solution": false,
     "task": false
    }
   },
   "source": [
    "Before you turn this problem in, make sure everything runs as expected (in the menubar, select Kernel → Restart Kernel and Run All Cells...).\n",
    "\n",
    "Please **submit this Jupyter notebook through Canvas** no later than **Mon Nov. 28, 9:00**. **Submit the notebook file with your answers (as .ipynb file) and a pdf printout. The pdf version can be used by the teachers to provide feedback. A pdf version can be made using the save and export option in the Jupyter Lab file menu.**\n",
    "\n",
    "Homework is in **groups of two**, and you are expected to hand in original work. Work that is copied from another group will not be accepted."
   ]
  },
  {
   "cell_type": "markdown",
   "id": "d8c33491-f6d6-45df-9857-8fae1d7d446c",
   "metadata": {
    "nbgrader": {
     "grade": false,
     "grade_id": "cell-b13bc5ed16bce8e0",
     "locked": true,
     "schema_version": 3,
     "solution": false,
     "task": false
    }
   },
   "source": [
    "# Exercise 0\n",
    "Write down the names + student ID of the people in your group."
   ]
  },
  {
   "cell_type": "markdown",
   "id": "9483e0d9-7aec-4521-90ac-761fb34ee023",
   "metadata": {
    "nbgrader": {
     "grade": true,
     "grade_id": "cell-fd464f55ba436b1c",
     "locked": false,
     "points": 0,
     "schema_version": 3,
     "solution": true,
     "task": false
    }
   },
   "source": [
    "Jade Dubbeld, 11692065\n",
    "\n",
    "Maickel Hartlief, 14015277"
   ]
  },
  {
   "cell_type": "markdown",
   "id": "40a6166f-8dc2-4eb0-b953-961fe8f7a2ce",
   "metadata": {},
   "source": [
    "# About imports\n",
    "Please import the needed packages by yourself."
   ]
  },
  {
   "cell_type": "markdown",
   "id": "a78e262c-f192-4fe5-853b-03248173a9be",
   "metadata": {},
   "source": [
    "# Sparse matrices\n",
    "A _sparse matrix_ or _sparse array_ is a matrix in which most of the elements are zero. There is no strict definition how many elements need to be zero for a matrix to be considered sparse. In many examples, the number of nonzeros per row or column is a small fraction, a few percent or less, of the total number of elements of the row or column. By contrast, if most of the elements are nonzero, then the matrix is considered _dense_. \n",
    "\n",
    "In the context of software for scientific computing, a sparse matrix typically refers to a storage format, in which elements which are known to be zero are not stored. In Python, the library `scipy.sparse` defines several sparse matrix classes, such as `scipy.sparse.coo_matrix`. To construct such an object, one passes for each nonzero element the value, and the row and column coordinates. In some cases, one can also just pass the nonzero (off-)diagonals, see `scipy.sparse.diags`.\n",
    "\n",
    "Functions for dense matrices do not always work with sparse matrices. For example for the product of a sparse matrix with a (dense) vector, there is the member function `scipy.sparse.coo_matrix.dot`, and for solving linear equations involving a sparse matrix, there is the function `scipy.sparse.linalg.spsolve`."
   ]
  },
  {
   "cell_type": "code",
   "execution_count": 1,
   "id": "a15365c2-c8be-49b7-b74f-e6ef30ffd26d",
   "metadata": {},
   "outputs": [],
   "source": [
    "# Import some basic packages\n",
    "import numpy as np\n",
    "import matplotlib.pyplot as plt\n",
    "import math\n",
    "from scipy.sparse import coo_matrix, linalg"
   ]
  },
  {
   "cell_type": "code",
   "execution_count": 2,
   "id": "5af47d5f-d55a-4902-b99c-9ce793726c32",
   "metadata": {},
   "outputs": [
    {
     "name": "stdout",
     "output_type": "stream",
     "text": [
      "When printing a sparse matrix, it shows its nonzero entries:\n",
      "  (0, 0)\t4.0\n",
      "  (3, 3)\t5.0\n",
      "  (1, 1)\t7.0\n",
      "  (0, 2)\t9.0\n",
      "If you want to see its `dense` matrix form, you have to use `mat.toarray()`:\n",
      "[[4. 0. 9. 0.]\n",
      " [0. 7. 0. 0.]\n",
      " [0. 0. 0. 0.]\n",
      " [0. 0. 0. 5.]]\n",
      "For x=[1 2 3 4], Mx = [31. 14.  0. 20.]\n"
     ]
    }
   ],
   "source": [
    "from scipy.sparse import coo_matrix, linalg\n",
    "\n",
    "# This is how to create a sparse matrix from a given list of (row, column, value) tuples.\n",
    "row  = [0,   3,   1,   0]\n",
    "col  = [0,   3,   1,   2]\n",
    "data = [4.0, 5.0, 7.0, 9.0]\n",
    "M = coo_matrix((data, (row, col)), shape=(4, 4))\n",
    "\n",
    "print(\"When printing a sparse matrix, it shows its nonzero entries:\")\n",
    "print(M)\n",
    "\n",
    "print(\"If you want to see its `dense` matrix form, you have to use `mat.toarray()`:\")\n",
    "print(M.toarray())\n",
    "\n",
    "# This is how to perform matrix-vector products.\n",
    "x = np.array([1, 2, 3, 4])\n",
    "print(\"For x={}, Mx = {}\".format(x, M.dot(x)))"
   ]
  },
  {
   "cell_type": "code",
   "execution_count": 3,
   "id": "7f1c616d-9651-4da7-94fc-3e53f2362250",
   "metadata": {},
   "outputs": [
    {
     "name": "stdout",
     "output_type": "stream",
     "text": [
      "This matrix has values on its diagonal and on offdiagonals 1 and 2 rows ABOVE it.\n",
      "[[1. 1. 1. 0.]\n",
      " [0. 2. 2. 2.]\n",
      " [0. 0. 3. 3.]\n",
      " [0. 0. 0. 4.]]\n",
      "This matrix has values on its diagonal and on offdiagonals 1 and 2 rows BELOW it.\n",
      "[[1. 0. 0. 0.]\n",
      " [1. 2. 0. 0.]\n",
      " [1. 2. 3. 0.]\n",
      " [0. 2. 3. 4.]]\n",
      "If you want to visualize the matrix for yourself, use `plt.imshow`:\n"
     ]
    },
    {
     "data": {
      "image/png": "[encoded data removed]",
      "text/plain": [
       "<Figure size 432x288 with 2 Axes>"
      ]
     },
     "metadata": {
      "needs_background": "light"
     },
     "output_type": "display_data"
    },
    {
     "name": "stdout",
     "output_type": "stream",
     "text": [
      "For b=[1 2 3 4], the solution x to Mx=b is [1.         0.5        0.33333333 0.5       ]\n",
      "And indeed, Mx - b = [0. 0. 0. 0.]\n"
     ]
    }
   ],
   "source": [
    "from scipy.sparse import diags, SparseEfficiencyWarning\n",
    "from scipy.sparse.linalg import spsolve\n",
    "import warnings\n",
    "warnings.simplefilter('ignore', SparseEfficiencyWarning)  # Suppress confusing warning\n",
    "\n",
    "# This is how to create a sparse matrix from a given list of subdiagonals.\n",
    "diagonals = [[1, 2, 3, 4], [1, 2, 3], [1, 2]]\n",
    "M = diags(diagonals, [0, 1, 2])\n",
    "print(\"This matrix has values on its diagonal and on offdiagonals 1 and 2 rows ABOVE it.\")\n",
    "print(M.toarray())\n",
    "\n",
    "M = diags(diagonals, [0, -1, -2])\n",
    "print(\"This matrix has values on its diagonal and on offdiagonals 1 and 2 rows BELOW it.\")\n",
    "print(M.toarray())\n",
    "\n",
    "print(\"If you want to visualize the matrix for yourself, use `plt.imshow`:\")\n",
    "plt.imshow(M.toarray())\n",
    "plt.colorbar()\n",
    "plt.show()\n",
    "\n",
    "# This is how to solve sparse systems.\n",
    "b = np.array([1, 2, 3, 4])\n",
    "x = spsolve(M, b)\n",
    "print(\"For b={}, the solution x to Mx=b is {}\".format(b, x))\n",
    "print(\"And indeed, Mx - b = {}\".format(M.dot(x) - b))"
   ]
  },
  {
   "cell_type": "markdown",
   "id": "972d8aca-b5f4-48a5-8a43-f3dccb0ea9ef",
   "metadata": {},
   "source": [
    "--------\n",
    "# Exercise 1\n",
    "Consider the following boundary value problem involving a nonlinear ordinary differential equation:\n",
    "\n",
    "$$ \\tag{1} y''(x) + \\exp(y(x)) = 0, \\quad 0 < x < 1, \\quad y(0) = y(1) = 0.$$\n",
    "\n",
    "The purpose of this exercise is to approximate the solution to this boundary value problem, by discretizing the problem and then solving the resulting system of nonlinear equations. "
   ]
  },
  {
   "cell_type": "markdown",
   "id": "cb770a03-ba0f-4de2-b326-c429868fa1ac",
   "metadata": {},
   "source": [
    "Problem (1) will be discretized using finite differences. Suppose we use $n+2$ discretization points for $x$, denoted $x_k = kh$ for $k \\in \\{0, \\ldots, n+1\\}$ and $h = 1/(n+1)$. The approximate solution is denoted $y_k = y(x_k)$. \n",
    "\n",
    "We will use a _second-order central finite difference_ approximation for the second derivative: \n",
    "\n",
    "$$ \\tag{2} y''(x_k) \\approx \\frac{y_{k-1} - 2 y_k + y_{k+1}}{h^2}.$$\n",
    "\n",
    "The term $\\exp(y(x_k))$ can simply be approximated by $\\exp(y_k)$. Thus for $x=x_k$, equation (1) becomes\n",
    "\n",
    "$$ \\tag{3} \\frac{y_{k-1} - 2 y_k + y_{k+1}}{h^2} + \\exp y_k = 0, \\quad k = 1, \\ldots, n.$$\n",
    "\n",
    "The boundary conditions (the conditions $y(0) = y(1) = 1$), lead to the requirement that $y_0 = y_{n+1} = 0$. To find the remaining values $y_k$, $k=1, \\ldots, n$, equation (3) will be used for $k = 1, \\ldots, n$. In this way, one obtains $n$ equations for $n$ unknowns, to which, in principle, a rootfinding method can be applied.\n",
    "\n",
    "We will write $\\vec y = \\begin{bmatrix} y_1 \\\\ \\vdots \\\\ y_n \\end{bmatrix}$ for the vector of values to be determined. \n"
   ]
  },
  {
   "cell_type": "markdown",
   "id": "7c341388-63b4-4b7a-aeaf-9dcf4173cefc",
   "metadata": {},
   "source": [
    "## (a)  (2 pts)\n",
    "As a first step, finish the function `SecondDerMatrix` that returns a matrix $\\bf{M}$ that maps the vector $\\vec y$ to the vector of the approximate values $y''(x_k)$, $k=1, \\ldots, n$ given in (2). To get full points for this part of the exercise you must create output in the form of a sparse matrix."
   ]
  },
  {
   "cell_type": "code",
   "execution_count": 46,
   "id": "b7c5a43e",
   "metadata": {},
   "outputs": [
    {
     "name": "stdout",
     "output_type": "stream",
     "text": [
      "[-36.   0.   0.   0. -36.]\n"
     ]
    }
   ],
   "source": [
    "from scipy.sparse import coo_matrix\n",
    "\n",
    "def SecondDerMatrix(n):\n",
    "    \"\"\"\n",
    "    Compute matrix M such that it is a mapping of vector y to the vector y containing approximate values \n",
    "    for its second derivatives.\n",
    "    \n",
    "    Parameters:\n",
    "        - n (int): length of vector y\n",
    "        \n",
    "    Retruns:\n",
    "        - M (nd_array): sparse matrix M containing values on the diagonal and first upper and lower off-diagonals\n",
    "                        to map vector y to approximation values for second derivative vector y\n",
    "        \n",
    "    \"\"\"\n",
    "    \n",
    "    h = 1 / (n + 1)\n",
    "#     M = np.zeros((n,n))\n",
    "    \n",
    "    # compute values for diagonal and off-diagonals for accurate approximation second derivative y\n",
    "    off_diagonal1 = [1]*(n-1)\n",
    "    off_diagonal2 = [1]*(n-1)\n",
    "    diagonal = [-2]*(n)\n",
    "    \n",
    "    diagonals = [off_diagonal1, diagonal, off_diagonal2]\n",
    "\n",
    "    M = diags(diagonals, [-1,0,1]) / (h**2)\n",
    "    \n",
    "    return M\n",
    "\n",
    "\n",
    "print([1, 1, 1, 1, 1] @ SecondDerMatrix(5).toarray())"
   ]
  },
  {
   "cell_type": "markdown",
   "id": "402404a4-8673-4529-b452-94c05e994cf2",
   "metadata": {},
   "source": [
    "## (b)  (1 pt)\n",
    "Second-order central finite differences are exact for quadratic functions. In order to test your implementation, choose $n=10$ and apply the second derivative matrix from part (a) to a quadratic function $y(x)$ with $y(0) = y(1) = 0$ for which you know the second derivative $y''(x)$."
   ]
  },
  {
   "cell_type": "code",
   "execution_count": 78,
   "id": "dea2b67c-4c28-42f3-9555-fdc2795741ab",
   "metadata": {},
   "outputs": [
    {
     "name": "stdout",
     "output_type": "stream",
     "text": [
      "x:\n",
      "[0.         0.09090909 0.18181818 0.27272727 0.36363636 0.45454545\n",
      " 0.54545455 0.63636364 0.72727273 0.81818182]\n",
      "y:\n",
      "[ 0.         -0.08264463 -0.14876033 -0.19834711 -0.23140496 -0.24793388\n",
      " -0.24793388 -0.23140496 -0.19834711 -0.14876033]\n",
      "\n",
      "matrix M:\n",
      "[[-242.  121.    0.    0.    0.    0.    0.    0.    0.    0.]\n",
      " [ 121. -242.  121.    0.    0.    0.    0.    0.    0.    0.]\n",
      " [   0.  121. -242.  121.    0.    0.    0.    0.    0.    0.]\n",
      " [   0.    0.  121. -242.  121.    0.    0.    0.    0.    0.]\n",
      " [   0.    0.    0.  121. -242.  121.    0.    0.    0.    0.]\n",
      " [   0.    0.    0.    0.  121. -242.  121.    0.    0.    0.]\n",
      " [   0.    0.    0.    0.    0.  121. -242.  121.    0.    0.]\n",
      " [   0.    0.    0.    0.    0.    0.  121. -242.  121.    0.]\n",
      " [   0.    0.    0.    0.    0.    0.    0.  121. -242.  121.]\n",
      " [   0.    0.    0.    0.    0.    0.    0.    0.  121. -242.]]\n",
      "\n",
      "2nd derivative from function:\n",
      "[-10.   2.   2.   2.   2.   2.   2.   2.   2.  12.]\n",
      "\n"
     ]
    }
   ],
   "source": [
    "n = 10\n",
    "h = 1 / (n + 1)\n",
    "\n",
    "# create vector x with n steps\n",
    "x = np.arange(n)\n",
    "x = x*h\n",
    "print(f\"x:\\n{x}\")\n",
    "\n",
    "# compute vector y with n steps according to vector x\n",
    "y = x**2 - x\n",
    "print(f\"y:\\n{y}\\n\")\n",
    "\n",
    "# compute mapping matrix M of size nxn\n",
    "M = SecondDerMatrix(n)\n",
    "print(f\"matrix M:\\n{M.toarray()}\\n\")\n",
    "\n",
    "# calculate second derivative of y\n",
    "y_2 = coo_matrix.dot(M,y)\n",
    "print(f\"2nd derivative from function:\\n{y_2}\\n\")\n"
   ]
  },
  {
   "cell_type": "markdown",
   "id": "3c6b937a-a06a-4d24-ae49-d036ef88ba03",
   "metadata": {},
   "source": [
    "## (c) (2 pts)\n",
    "\n",
    "Defining $\\vec y = \\begin{bmatrix} y_1 \\\\ \\vdots \\\\ y_n \\end{bmatrix}$ and \n",
    "$E(\\vec y) = \\begin{bmatrix} \\exp(y_1) \\\\ \\vdots \\\\ \\exp(y_n) \\end{bmatrix}$, the equations (3) can be written in the form\n",
    "\n",
    "$$ F(\\vec y) := {\\bf M} \\cdot \\vec y + E(\\vec y) = \\vec 0. $$\n",
    "\n",
    "Finish the function `F` that defines $F(\\vec y) = {\\bf M} \\cdot \\vec y + E(\\vec y)$.\n",
    "Finish the function `JacobianF` that computes the Jacobian ${\\bf J}_F(\\vec y)$ of $F(\\vec y)$.\n",
    "To get full points for this part of the exercise, the Jacobian must be computed in the form of a sparse matrix."
   ]
  },
  {
   "cell_type": "code",
   "execution_count": 6,
   "id": "f693cfc3-9639-419a-b8f8-5179c3e60123",
   "metadata": {},
   "outputs": [],
   "source": [
    "def F(y):\n",
    "    \"\"\"\n",
    "    Compute function F by M*y+E(y).\n",
    "    \n",
    "    Parameters:\n",
    "        - y (nd_array): vector y\n",
    "        \n",
    "    Returns:\n",
    "        - F (nd_array): sparse matrix F\n",
    "        \n",
    "    \"\"\"\n",
    "    \n",
    "    M = SecondDerMatrix(len(y))\n",
    "    E = np.exp(y)\n",
    "    return coo_matrix.dot(M, y) + E\n",
    "    \n",
    "def JacobianF(y):\n",
    "    \"\"\"\n",
    "    Compute Jacobian of F(y).\n",
    "    \n",
    "    Parameters:\n",
    "        - y (nd_array): vector y\n",
    "        \n",
    "    Returns:\n",
    "        - Jacobian (nd_array): Jacobian matrix for given vector y based on function F\n",
    "        \n",
    "    \"\"\"\n",
    "    \n",
    "    M = SecondDerMatrix(len(y))\n",
    "    E_y = np.exp(y)\n",
    "    \n",
    "    diagonal = diags([E_y], [0])\n",
    "    \n",
    "    return M + diagonal"
   ]
  },
  {
   "cell_type": "markdown",
   "id": "8da07053-496c-4e60-a278-422c113ff702",
   "metadata": {},
   "source": [
    "## (d)  (3 pts)\n",
    "1. Write down the first order Taylor expansion $T_F(\\vec y, \\vec s)$ for $F(\\vec y+\\vec s)$.\n",
    "2. In order to check your implementation of the Jacobian matrix, compute and print both $F(\\vec y+\\vec s)$ and its first order Taylor approximation $T_F(\\vec y, \\vec s)$ for a choice $\\vec y$ and $\\vec s$.\n",
    "3. Verify numerically that the error $||F(\\vec y + \\vec s) - T_F(\\vec y, \\vec s)||_2$ is $\\mathcal O(||\\vec s||_2^2)$. Hint: take vectors $\\vec s$ with $\\|\\vec s\\|_2 = \\mathcal O(h)$  for multiple values for $h$, e.g. $h = 10^{-k}$ for a range of $k$. "
   ]
  },
  {
   "cell_type": "markdown",
   "id": "48d3fd40-cff8-40b6-8e6e-5aa2a48fd4e0",
   "metadata": {},
   "source": [
    "Subquestion 1.\n",
    "\n",
    "First order Taylor expansion $T_F(\\vec y, \\vec s)$ for $F(\\vec y+\\vec s)$ is described below:\n",
    "\\\n",
    "\\\n",
    "\\begin{equation} f(\\vec y+\\vec s) \\approx f(\\vec y) + J_f(\\vec y) (\\vec s) \\end{equation}"
   ]
  },
  {
   "cell_type": "code",
   "execution_count": 13,
   "id": "bb9cb01a-1fca-400f-b860-c4efaceada23",
   "metadata": {},
   "outputs": [
    {
     "name": "stdout",
     "output_type": "stream",
     "text": [
      "F:\n",
      "[ -8.1778812    2.22554093   2.71828183 -31.67988308]\n",
      "\n",
      "Taylor approximation:\n",
      "[ -8.34224362   1.95424441   2.29475997 -32.31471554]\n"
     ]
    },
    {
     "data": {
      "image/png": "[encoded data removed]",
      "text/plain": [
       "<Figure size 432x288 with 1 Axes>"
      ]
     },
     "metadata": {
      "needs_background": "light"
     },
     "output_type": "display_data"
    }
   ],
   "source": [
    "# Subquestions 2 and 3.\n",
    "\n",
    "# define first order taylor expansion of F\n",
    "def first_order_taylor(y, s):\n",
    "    return F(y) + coo_matrix.dot(JacobianF(y).T, s)\n",
    "\n",
    "\n",
    "# choose whatever y\n",
    "y = np.array([.1, .2, .3, .4])\n",
    "\n",
    "# choose whatever s\n",
    "s = np.array([.5, .6, .7, .8])\n",
    "\n",
    "matrix_F = F(y+s)\n",
    "T_F = first_order_taylor(y,s)\n",
    "print(f\"F:\\n{matrix_F}\\n\")\n",
    "print(f\"Taylor approximation:\\n{T_F}\")\n",
    "\n",
    "# initialize lists to store errors and O(h)s\n",
    "T_error = []\n",
    "O_h = []\n",
    "\n",
    "for k in range(10):\n",
    "    # make new s \n",
    "    s = 1 / (np.power(10, k)) * np.ones(len(y))\n",
    "    \n",
    "    # calculate normalized error of taylor vs. direct\n",
    "    T_error.append(np.linalg.norm(F(y + s) - first_order_taylor(y, s)))\n",
    "    \n",
    "    # use norm(s) = O(h) to calculate O(norm(s))\n",
    "    O_h.append(np.linalg.norm(s) ** 2)\n",
    "\n",
    "plt.plot(T_error, O_h)\n",
    "plt.ylim(0, 4)\n",
    "plt.xlim(0, 4)\n",
    "plt.title('Proportionality of the normalized error of T_F(y, s) on F(y + s)')\n",
    "plt.ylabel('Normalized error of the 1st order taylor expansion of F')\n",
    "plt.xlabel('')\n",
    "plt.show()"
   ]
  },
  {
   "cell_type": "markdown",
   "id": "c594be9d-8265-4aa0-aa7d-bd9f30e167aa",
   "metadata": {},
   "source": [
    "## (e) (2 pts)\n",
    "1. Finish the function `NewtonSolve` below to solve the system of equations.\n",
    "2. Take $n=40$, and experiment with your function. Try to find a choice of `y0` such that the method doesn't converge, as well as a choice of `y0` such that the method converges. In your answer, list the types of convergence behavior you found. Show a convergent example (if you found any) and a nonconvergent example (if you found any). Show the solutions you found for each example."
   ]
  },
  {
   "cell_type": "code",
   "execution_count": 140,
   "id": "c5adc7dd-783d-4849-b84c-94da20631c9f",
   "metadata": {},
   "outputs": [
    {
     "name": "stderr",
     "output_type": "stream",
     "text": [
      "/var/folders/zb/qwtwsp1d539dg2nj7t84r7mc0000gn/T/ipykernel_92848/3929613196.py:8: RuntimeWarning: overflow encountered in exp\n",
      "  E_y = np.exp(y)\n",
      "/var/folders/zb/qwtwsp1d539dg2nj7t84r7mc0000gn/T/ipykernel_92848/3929613196.py:3: RuntimeWarning: overflow encountered in exp\n",
      "  E = np.exp(y)\n"
     ]
    },
    {
     "data": {
      "image/png": "[encoded data removed]",
      "text/plain": [
       "<Figure size 432x288 with 1 Axes>"
      ]
     },
     "metadata": {
      "needs_background": "light"
     },
     "output_type": "display_data"
    }
   ],
   "source": [
    "# Subquestion 1.\n",
    "def NewtonSolve(y, K):\n",
    "    \"\"\"\n",
    "    Use Newton's method to solve F(y) = 0 with initial guess y0 and K iterations.\n",
    "    \n",
    "    Parameters:\n",
    "        - y (nd_array): vector y as initial guesses\n",
    "        - K (int): number of iterations\n",
    "        \n",
    "    Returns:\n",
    "        - y (nd_array): vector y with final guess\n",
    "        - guesses (list): list of all guesses made\n",
    "    \n",
    "    \"\"\"\n",
    "    \n",
    "    guesses = []\n",
    "    \n",
    "    for _ in range(K):\n",
    "        s = linalg.spsolve(JacobianF(y), - F(y))\n",
    "        y = y + s\n",
    "        guesses.append(y)\n",
    "    return y, guesses\n",
    "\n",
    "for x in range(20):\n",
    "    \n",
    "    y = np.array([x] * 40)\n",
    "    guess, guesses = NewtonSolve(y, 20)\n",
    "    \n",
    "    converge = [np.linalg.norm(F(guess)) for guess in guesses]\n",
    "\n",
    "    plt.semilogy(converge, label = f\"iteration {x}\")\n",
    "plt.legend(bbox_to_anchor=(1.1,1.))\n",
    "plt.show()"
   ]
  },
  {
   "cell_type": "code",
   "execution_count": 163,
   "id": "9ce50cda-6dcd-4d97-a0d3-2c185ce88875",
   "metadata": {},
   "outputs": [
    {
     "name": "stdout",
     "output_type": "stream",
     "text": [
      "y0 = 1 - Leads to convergence\n",
      "Solution: [6.324555320337459, 0.04129283985622827, 2.3955371171341684e-06, 2.445172893253674e-13, 1.24658024453017e-13, 1.5199743885930462e-13, 2.310134825050405e-13, 1.6964890793128265e-13, 1.1998794085547128e-13, 1.2963202889115684e-13, 1.7816641038093501e-13, 2.2386336209993588e-13, 2.1184568138355527e-13, 2.0187689317241744e-13, 1.583662221852849e-13, 1.9385536803075196e-13, 1.7431703597482265e-13, 2.2386336209993588e-13, 2.1184568138355527e-13, 2.0187689317241744e-13]\n",
      "\n",
      "y0 = 3 - Leads to convergence\n",
      "Solution: [338.0419421837268, 89.53126533932921, 17.268879631909464, 1.0842948530819083, 0.005557344175326163, 1.4540568589671479e-07, 5.503856964020234e-12, 6.902870777073444e-12, 6.69767261391293e-12, 5.302149374017037e-12, 4.315046801498551e-12, 3.702558306424173e-12, 2.9143836377247217e-12, 5.231717429416204e-12, 7.38219025841895e-12, 5.019431712116864e-12, 4.0318474163561175e-12, 5.0256275712957e-12, 5.291588944263496e-12, 6.035815513530737e-12]\n",
      "\n",
      "y0 = 4 - Does not converge\n",
      "Solution: [1277.3130754736646, 1691.7570048497448, 1478.0933726457679, 1079.0321804112707, 32510760.005579825, 11957721.92024046, 4432297.807576275, 1633763.1763812245, 1511729.4431983468, 581800.0433677592, 69062304.81674501, 4.127663128539739e+38, 1.5184824050711667e+38, 5.586184586062485e+37, 6.278918482838639e+76, 2.309885022627719e+76, 8.497592112945697e+75, 3.1260894378133187e+75, 1.150024035434712e+75, 4.230701994894488e+74]\n",
      "\n",
      "y0 = 6 - Does not converge\n",
      "Solution: [229908.63806666434, 313750.9289815813, 121683.16712551838, 66910.1522111777, 36946.93475415354, 6321535.773933001, 2329735.5076368074, 859018.2022637377, 455394.738830548, 166223.0342220853, 475212.97583301854, 168793.89889603827, 82983.83083602319, 142589.51613682316, 124357.0348728259, 100560.90004844267, 62216.35135289642, 820744.3996879943, 364529.9722415638, 134278.5119721671]\n",
      "\n",
      "y0 = 15 - Does not converge\n",
      "Solution: [7601268.094618315, 2794763.933007313, 1026735.4689881789, 376555.23741662217, 137730.92484706355, 50507.86359815473, 22366.46476495793, 12864.204555831395, 9702.60710067476, 103150.55604690882, 253794.6105723406, 96786.36655963358, 10944557.748204883, 143826743.41588372, 57277212.82396675, 22243634.796403, 21231120.112352923, 7838320.28980181, 2884560.7947619064, 1062568.082027961]\n",
      "\n"
     ]
    }
   ],
   "source": [
    "# Subquestion 2, code part\n",
    "\n",
    "# convergent example with initial guess y0 = 1\n",
    "n = 1\n",
    "y = np.array([n] * 40)\n",
    "guess, guesses = NewtonSolve(y, 20)\n",
    "\n",
    "converge = [np.linalg.norm(F(guess)) for guess in guesses]\n",
    "print(f\"y0 = {n} - Leads to convergence\\nSolution: {converge}\\n\")\n",
    "\n",
    "# convergent example with initial guess y0 = 3\n",
    "n = 3\n",
    "y = np.array([n] * 40)\n",
    "guess, guesses = NewtonSolve(y, 20)\n",
    "\n",
    "converge = [np.linalg.norm(F(guess)) for guess in guesses]\n",
    "print(f\"y0 = {n} - Leads to convergence\\nSolution: {converge}\\n\")\n",
    "\n",
    "# nonconvergent example with initial guess y0 = 4\n",
    "n = 4\n",
    "y = np.array([n] * 40)\n",
    "guess, guesses = NewtonSolve(y, 20)\n",
    "\n",
    "converge = [np.linalg.norm(F(guess)) for guess in guesses]\n",
    "print(f\"y0 = {n} - Does not converge\\nSolution: {converge}\\n\")\n",
    "\n",
    "# nonconvergent example with initial guess y0 = 6\n",
    "n = 6\n",
    "y = np.array([n] * 40)\n",
    "guess, guesses = NewtonSolve(y, 20)\n",
    "\n",
    "converge = [np.linalg.norm(F(guess)) for guess in guesses]\n",
    "print(f\"y0 = {n} - Does not converge\\nSolution: {converge}\\n\")\n",
    "\n",
    "# nonconvergent example with initial guess y0 = 15\n",
    "n = 15\n",
    "y = np.array([n] * 40)\n",
    "guess, guesses = NewtonSolve(y, 20)\n",
    "\n",
    "converge = [np.linalg.norm(F(guess)) for guess in guesses]\n",
    "print(f\"y0 = {n} - Does not converge\\nSolution: {converge}\\n\")"
   ]
  },
  {
   "cell_type": "markdown",
   "id": "441c242a-ec62-4761-b3d5-1aaf00ed3ab2",
   "metadata": {},
   "source": [
    "Subquestion 2\n",
    "\\\n",
    "\\\n",
    "As can be seen from the figure in this exercise (e), the NewtonSolve function converges mainly by two types of behavior for different initial guesses (y0). Convergence means that the norm of F(guess) approaches 0. The solution converges either rather quickly (for a small K iteration) or the solution shows a staircase-like pattern.\n",
    "\\\n",
    "The fast convergence occurs for the lower initial guesses (y0 ≤ 3) whereas all larger y0s result in the staircase pattern.\n",
    "\\\n",
    "\\\n",
    "For example, above some solutions are displayed.\n",
    "\\\n",
    "We can see that for y0 = 1 and y0 = 3, the solution converges quite fast. On the other hand, we have printed y0 = 4, y0 = 6 and y0 = 15 for which the solution doesn't converge. Instead, it keeps increasing after being at the same value for a few iterations."
   ]
  }
 ],
 "metadata": {
  "kernelspec": {
   "display_name": "Python 3 (ipykernel)",
   "language": "python",
   "name": "python3"
  },
  "language_info": {
   "codemirror_mode": {
    "name": "ipython",
    "version": 3
   },
   "file_extension": ".py",
   "mimetype": "text/x-python",
   "name": "python",
   "nbconvert_exporter": "python",
   "pygments_lexer": "ipython3",
   "version": "3.9.12"
  }
 },
 "nbformat": 4,
 "nbformat_minor": 5
}
