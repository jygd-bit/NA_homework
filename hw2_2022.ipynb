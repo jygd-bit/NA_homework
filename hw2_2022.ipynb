{
 "cells": [
  {
   "cell_type": "markdown",
   "id": "2eb3dc99-7e74-4a77-a6a6-0978b398c7b0",
   "metadata": {
    "nbgrader": {
     "grade": false,
     "grade_id": "cell-06d3e5bf55c941ae",
     "locked": true,
     "schema_version": 3,
     "solution": false,
     "task": false
    }
   },
   "source": [
    "# Homework set 2"
   ]
  },
  {
   "cell_type": "markdown",
   "id": "07b46464-4b8c-48f6-b6bb-5c85792c5081",
   "metadata": {
    "nbgrader": {
     "grade": false,
     "grade_id": "cell-736ff6bc3e0d0696",
     "locked": true,
     "schema_version": 3,
     "solution": false,
     "task": false
    }
   },
   "source": [
    "Please **submit this Jupyter notebook through Canvas** no later than **Mon Nov. 14, 9:00**. **Submit the notebook file with your answers (as .ipynb file) and a pdf printout. The pdf version can be used by the teachers to provide feedback. A pdf version can be made using the save and export option in the Jupyter Lab file menu.**\n",
    "\n",
    "Homework is in **groups of two**, and you are expected to hand in original work. Work that is copied from another group will not be accepted."
   ]
  },
  {
   "cell_type": "markdown",
   "id": "1b87202b-2fd1-4ec7-a28c-9f983e32b623",
   "metadata": {
    "nbgrader": {
     "grade": false,
     "grade_id": "cell-b13bc5ed16bce8e0",
     "locked": true,
     "schema_version": 3,
     "solution": false,
     "task": false
    }
   },
   "source": [
    "# Exercise 0\n",
    "Write down the names + student ID of the people in your group."
   ]
  },
  {
   "cell_type": "markdown",
   "id": "09967c3d",
   "metadata": {},
   "source": [
    "Jade Dubbeld, 11692065\n",
    "\n",
    "Maickel Hartlief, 14015277"
   ]
  },
  {
   "cell_type": "markdown",
   "id": "5ddfd8b6-4006-4149-827d-fd3ef7457239",
   "metadata": {},
   "source": []
  },
  {
   "cell_type": "markdown",
   "id": "cea87535-efbc-4a7c-8ff1-dfda608dd0d6",
   "metadata": {
    "nbgrader": {
     "grade": false,
     "grade_id": "cell-b5a7855ecca9f6be",
     "locked": true,
     "schema_version": 3,
     "solution": false,
     "task": false
    }
   },
   "source": [
    "Run the following cell to import some packages, add additional packages yourself when needed."
   ]
  },
  {
   "cell_type": "code",
   "execution_count": 1,
   "id": "563ef9dc-79ef-4b36-a8b5-d64f7a922ba0",
   "metadata": {},
   "outputs": [
    {
     "name": "stderr",
     "output_type": "stream",
     "text": [
      "In /home/makkol/anaconda3/lib/python3.7/site-packages/matplotlib/mpl-data/stylelib/_classic_test.mplstyle: \n",
      "The text.latex.preview rcparam was deprecated in Matplotlib 3.3 and will be removed two minor releases later.\n",
      "In /home/makkol/anaconda3/lib/python3.7/site-packages/matplotlib/mpl-data/stylelib/_classic_test.mplstyle: \n",
      "The mathtext.fallback_to_cm rcparam was deprecated in Matplotlib 3.3 and will be removed two minor releases later.\n",
      "In /home/makkol/anaconda3/lib/python3.7/site-packages/matplotlib/mpl-data/stylelib/_classic_test.mplstyle: Support for setting the 'mathtext.fallback_to_cm' rcParam is deprecated since 3.3 and will be removed two minor releases later; use 'mathtext.fallback : 'cm' instead.\n",
      "In /home/makkol/anaconda3/lib/python3.7/site-packages/matplotlib/mpl-data/stylelib/_classic_test.mplstyle: \n",
      "The validate_bool_maybe_none function was deprecated in Matplotlib 3.3 and will be removed two minor releases later.\n",
      "In /home/makkol/anaconda3/lib/python3.7/site-packages/matplotlib/mpl-data/stylelib/_classic_test.mplstyle: \n",
      "The savefig.jpeg_quality rcparam was deprecated in Matplotlib 3.3 and will be removed two minor releases later.\n",
      "In /home/makkol/anaconda3/lib/python3.7/site-packages/matplotlib/mpl-data/stylelib/_classic_test.mplstyle: \n",
      "The keymap.all_axes rcparam was deprecated in Matplotlib 3.3 and will be removed two minor releases later.\n",
      "In /home/makkol/anaconda3/lib/python3.7/site-packages/matplotlib/mpl-data/stylelib/_classic_test.mplstyle: \n",
      "The animation.avconv_path rcparam was deprecated in Matplotlib 3.3 and will be removed two minor releases later.\n",
      "In /home/makkol/anaconda3/lib/python3.7/site-packages/matplotlib/mpl-data/stylelib/_classic_test.mplstyle: \n",
      "The animation.avconv_args rcparam was deprecated in Matplotlib 3.3 and will be removed two minor releases later.\n"
     ]
    }
   ],
   "source": [
    "import numpy as np\n",
    "import matplotlib.pyplot as plt\n",
    "from scipy import linalg\n",
    "from math import isclose"
   ]
  },
  {
   "cell_type": "markdown",
   "id": "26a26b9c-d8db-4bdb-a11d-63bddfd889d8",
   "metadata": {},
   "source": [
    "# Exercise 1"
   ]
  },
  {
   "cell_type": "markdown",
   "id": "b74868be-8e8d-4ecc-aae3-b56fcaee7994",
   "metadata": {},
   "source": [
    "## (a) 1 point\n",
    "Let $A$ be the matrix $\\begin{bmatrix} 1 & -1 & \\alpha \\\\ 2 & 2 & 1 \\\\ 0 & \\alpha & -3/2 \\end{bmatrix}$. For which values of $\\alpha$ is $A$ singular?"
   ]
  },
  {
   "cell_type": "markdown",
   "id": "2ec1b49a-bc37-459e-8a51-c384445208f0",
   "metadata": {},
   "source": [
    "A n x n matrix $A$ is nonsingular if either of the following hold:\n",
    "\\\n",
    "1. $A$ has an inverse\n",
    "2. $det(A) ≠ 0$\n",
    "3. $rank(A) = n$\n",
    "4. For all values of $z$ in range $R^n$ (except for $z ≠ 0$), we have $Mz ≠ 0$\n",
    "\\\n",
    "\\\n",
    "Therefore, to find the values of $\\alpha$ for which matrix $A$ is singular, we can solve $det(A) = 0$.\n",
    "\\\n",
    "\\\n",
    "Given n x n matrix $A$ as $\\begin{bmatrix} 1 & -1 & \\alpha \\\\ 2 & 2 & 1 \\\\ 0 & \\alpha & -\\frac{3}{2} \\end{bmatrix}$, we can derive the determinant of $A$. The definition of the determinant is $det(A) = a_{11} a_{22} a_{33} + a_{12} a_{23} a_{31} + a_{13} a_{21} a_{32} - a_{13} a_{22} a_{31} - a_{12} a_{21} a_{33} - a_{11} a_{23} a_{32}$ given a general n x n matrix $\\begin{bmatrix} a_{11} & a_{12} & a_{13} \\\\ a_{21} & a_{22} & a_{23} \\\\ a_{31} & a_{32} & a_{33} \\end{bmatrix}$\n",
    "\\\n",
    "\\\n",
    "For this case, we fill in the values of provided matrix $A$ in the definition of the determinant. Then, $det(A) = (1*2*-\\frac{3}{2})+(-1*1*0)+(\\alpha*2*\\alpha)-(\\alpha*2*0)-(-1*2*-\\frac{3}{2})-(1*1*\\alpha) = -3 + 0 + 2 \\alpha^2 - 0 - 3 - \\alpha = 2 \\alpha^2 - \\alpha - 6$\n",
    "\\\n",
    "\\\n",
    "To find the values of $\\alpha$ for which matrix $A$ is singular, we solve $det(A) = 0$.\n",
    "\\\n",
    "$2 \\alpha^2 - \\alpha - 6 = 0$\n",
    "\\\n",
    "$D = b^2 - 4 a c = (-1)^2 - 4*2*-6 = 49$\n",
    "\\\n",
    "$\\alpha = \\frac{1+\\sqrt{49}}{2*2} = 4 \\lor \\alpha = \\frac{1-\\sqrt{49}}{2*2}=-1\\frac{1}{2}$\n",
    "\\\n",
    "\\\n",
    "Thus, matrix $A$ is singular when $\\alpha$ is either $2$ or $-1\\frac{1}{2}$."
   ]
  },
  {
   "cell_type": "markdown",
   "id": "dc9baa5c-c98f-401c-bb2d-2f1a8e55077c",
   "metadata": {},
   "source": [
    "## (b) 1 point\n",
    "For the largest value of $\\alpha$ you found above, find a nonzero vector $b$ such that $Ax = b$ has infinitely many solutions. Explain your answer."
   ]
  },
  {
   "cell_type": "markdown",
   "id": "bfd3120b-8a20-4659-bb2f-bfe6246c66f1",
   "metadata": {},
   "source": [
    "The expression $Ax = b$ has infinitely many solutions if, and only if, $A$ is singular and $b \\in span(A)$. If this does not apply, $Ax = b$ has no solutions.\n",
    "\\\n",
    "\\\n",
    "To see how many solutions there are to the expression $Ax = b$ in this case, we choose an arbitrary vector $x$. Say, we choose vector $x = \\begin{bmatrix} 1 \\\\ 2 \\\\ 3 \\end{bmatrix}$.\n",
    "\\\n",
    "Then, solve $Ax = b$ using matrix multiplication.\n",
    "\\\n",
    "$\\begin{bmatrix} 1 & -1 & 2 \\\\ 2 & 2 & 1 \\\\ 0 & 2 & -\\frac{3}{2} \\end{bmatrix} \\begin{bmatrix} 1 \\\\ 2 \\\\ 3 \\end{bmatrix} = \\begin{bmatrix} 1*1 + -1*2 + 2*3 \\\\ 2*1 + 2*2 + 1*3 \\\\ 0*1 + 2*2 + -\\frac{3}{2}*3 \\end{bmatrix} = \\begin{bmatrix} 5 \\\\ 9 \\\\ -\\frac{1}{2} \\end{bmatrix}$\n",
    "\\\n",
    "\\\n",
    "We found a solution for $b$ with an arbitrary vector $x$. Thus, the $Ax = b$ has infinitely many solutions."
   ]
  },
  {
   "cell_type": "markdown",
   "id": "dfdbdbe1-cc0c-438e-bfb6-30f1e855726e",
   "metadata": {},
   "source": [
    "# Exercise 2"
   ]
  },
  {
   "cell_type": "markdown",
   "id": "0cff19ca-5a93-4219-913b-d6a4b21e240d",
   "metadata": {},
   "source": [
    "For solving linear systems such as $Ax = b$, it is unnecessary (and often unstable) to compute the inverse $A^{-1}$. Nonetheless, there can be situations where it is useful to compute $A^{-1}$ explicitly. One way to do so is by using the LU-decomposition of $A$."
   ]
  },
  {
   "cell_type": "markdown",
   "id": "1dcdc8b0-162d-4fb7-808d-0100dce86d90",
   "metadata": {},
   "source": [
    "## (a) 2 points\n",
    "Write an algorithm to compute $A^{-1}$ for a non-singular matrix $A$ using its LU-decomposition. You can use `scipy.linalg.lu` (which returns an LU-decomposition with _partial pivoting_, i.e., with a permutation matrix $P$) and the other `scipy.linalg.lu_*` functions, but not `scipy.linalg.inv` (or other methods for computing matrix inverses directly).\n",
    "\n",
    "(Make sure to import the necessary functions/packages.)"
   ]
  },
  {
   "cell_type": "code",
   "execution_count": 24,
   "id": "8b355f0f-a648-48f4-9f6f-5d27fd10ca2b",
   "metadata": {
    "nbgrader": {
     "cell_type": "code",
     "checksum": "b011ebd554ea10da4a53655bdadd6383",
     "grade": true,
     "grade_id": "cell-6f892d33e776e31f",
     "locked": false,
     "points": 2,
     "schema_version": 3,
     "solution": true,
     "task": false
    }
   },
   "outputs": [],
   "source": [
    "def forward_substitution(L, b):\n",
    "    # initialize output\n",
    "    y = np.empty(b.shape)\n",
    "    \n",
    "    # calculate first row.\n",
    "    y[0] = b[0] / L[0, 0]\n",
    "    \n",
    "    # calculating the other rows\n",
    "    for i in range(1, len(L)):\n",
    "        y[i] = (b[i] - L[i,:i] @ y[:i]) / L[i,i]  \n",
    "    \n",
    "    return y\n",
    "\n",
    "\n",
    "def back_substitution(U, y):    \n",
    "    # initializing output\n",
    "    x = np.zeros(y.shape)\n",
    "    \n",
    "    # calculate last row\n",
    "    x[-1] = y[-1] / U[-1, -1]\n",
    "    \n",
    "    # calculte the other rows (in reverse order)\n",
    "    for i in range(len(U) - 2, -1, -1):\n",
    "        x[i] = (y[i] - U[i, i:] @ x[i:]) / U[i, i]\n",
    "\n",
    "    return x\n",
    "\n",
    "\n",
    "def invert_PLU(A):\n",
    "    '''invert the matrix A'''\n",
    "    n = len(A)\n",
    "    P, L, U = linalg.lu(A)\n",
    "    \n",
    "    I = np.identity(n)\n",
    "    A_inv = np.empty((n, n))\n",
    "\n",
    "    for i in range(n):\n",
    "        y = forward_substitution(L, I[i, :] @ P)\n",
    "        A_inv[:, i] = back_substitution(U, y)\n",
    "        \n",
    "    return A_inv\n",
    "\n",
    "A = np.array([[1, 2, 3], [4, 5, 6], [7, 8, 9]])\n",
    "A_inv = linalg.inv(A)\n",
    "\n",
    "assert np.isclose(invert_PLU(A), A_inv).all()"
   ]
  },
  {
   "cell_type": "markdown",
   "id": "e0710df6-58f3-42f9-b467-10eb45c38b5e",
   "metadata": {},
   "source": [
    "## (b) 1 point\n",
    "What is the computational complexity of your algorithm, given that the input matrix has size $n \\times n$?\n",
    "Give a short calculation/explanation for your answer."
   ]
  },
  {
   "cell_type": "markdown",
   "id": "f127ab7c-e03f-4bcd-9ba7-56acb94518de",
   "metadata": {
    "nbgrader": {
     "cell_type": "markdown",
     "checksum": "2dd9d0b893218b8e70d7a0a66f09e514",
     "grade": true,
     "grade_id": "cell-a15cf95231b8aa77",
     "locked": false,
     "points": 1,
     "schema_version": 3,
     "solution": true,
     "task": false
    }
   },
   "source": [
    "First, we do LU decomposition once. This algorithm has a time-complexity of $\\mathcal{O}(n^3)$.\n",
    "\n",
    "\n",
    "Then we do forward and backward substitutions $n$ times.\n",
    "\n",
    "Both forward and backward substitution have a loop of size $n$, in which there is a dot-product that also has complexity $n$. This leads to:\n",
    "\n",
    "$n(n*n + n*n) = n(2n^2) = 2n^3 \\sim \\mathcal{O}(n^3)$\n",
    "\n",
    "Since we do LU decomposition once and then the above process once as well, we end up with:\n",
    "$\\mathcal{O}(n^3)$\n"
   ]
  },
  {
   "cell_type": "markdown",
   "id": "568578e4-715e-4b37-a8b7-ac2d39648805",
   "metadata": {},
   "source": [
    "# Exercise 3"
   ]
  },
  {
   "cell_type": "markdown",
   "id": "1e33e8dd-7e6b-4dcd-ba6a-ba606c620708",
   "metadata": {},
   "source": [
    "## (a) (2 points) \n",
    "What happens when Gaussian elimination with partial pivoting is used on a matrix of the following form?\n",
    "$$\n",
    "  \\begin{bmatrix}\n",
    "     1 &  0 &  0 &  0 &  1 \\\\\n",
    "    -1 &  1 &  0 &  0 &  1 \\\\\n",
    "    -1 & -1 &  1 &  0 &  1 \\\\\n",
    "    -1 & -1 & -1 &  1 &  1 \\\\\n",
    "    -1 & -1 & -1 & -1 &  1 \n",
    "  \\end{bmatrix}\n",
    "$$\n",
    "Do the entries of the transformed matrix grow? What happens if complete pivoting is used instead? (Note that part (a) does not require a computer.)\n"
   ]
  },
  {
   "cell_type": "markdown",
   "id": "8b94eff9-22b6-4e4e-8029-852543e2a155",
   "metadata": {},
   "source": [
    "YOUR ANSWER HERE\n",
    "\\\n",
    "\\\n",
    "Given matrix $A$ =\n",
    "$\n",
    "  \\begin{bmatrix}\n",
    "     1 &  0 &  0 &  0 &  1 \\\\\n",
    "    -1 &  1 &  0 &  0 &  1 \\\\\n",
    "    -1 & -1 &  1 &  0 &  1 \\\\\n",
    "    -1 & -1 & -1 &  1 &  1 \\\\\n",
    "    -1 & -1 & -1 & -1 &  1 \n",
    "  \\end{bmatrix}\n",
    "$\n",
    "we can obtain the upper and lower triangular matrix by applying Gaussian elimination (also known as LU decomposition) with partial pivoting. In partial pivoting, it is only allowed to rearrange rows in a matrix, not the columns, whereas in complete pivoting, it is allowed to rearrange both the rows and the columns.\n",
    "\n",
    "#### Gaussian elimination with partial pivoting\n",
    "$\n",
    "  \\begin{bmatrix}\n",
    "     1 &  0 &  0 &  0 &  1 \\\\\n",
    "    -1 &  1 &  0 &  0 &  1 \\\\\n",
    "    -1 & -1 &  1 &  0 &  1 \\\\\n",
    "    -1 & -1 & -1 &  1 &  1 \\\\\n",
    "    -1 & -1 & -1 & -1 &  1 \n",
    "  \\end{bmatrix}\n",
    "$\n",
    "=>\n",
    "$\n",
    "  \\begin{bmatrix}\n",
    "     1 &  0 &  0 &  0 &  1 \\\\\n",
    "     0 &  1 &  0 &  0 &  2 \\\\\n",
    "     0 & -1 &  1 &  0 &  2 \\\\\n",
    "     0 & -1 & -1 &  1 &  2 \\\\\n",
    "     0 & -1 & -1 & -1 &  2 \n",
    "  \\end{bmatrix}\n",
    "$\n",
    "=>\n",
    "$\n",
    "  \\begin{bmatrix}\n",
    "     1 &  0 &  0 &  0 &  1 \\\\\n",
    "     0 &  1 &  0 &  0 &  2 \\\\\n",
    "     0 &  0 &  1 &  0 &  2 \\\\\n",
    "     0 &  0 & -1 &  1 &  4 \\\\\n",
    "     0 &  0 & -1 & -1 &  4 \n",
    "  \\end{bmatrix}\n",
    "$\n",
    "=>\n",
    "$\n",
    "  \\begin{bmatrix}\n",
    "     1 &  0 &  0 &  0 &  1 \\\\\n",
    "     0 &  1 &  0 &  0 &  2 \\\\\n",
    "     0 &  0 &  1 &  0 &  2 \\\\\n",
    "     0 &  0 &  0 &  1 &  8 \\\\\n",
    "     0 &  0 &  0 & -1 &  8 \n",
    "  \\end{bmatrix}\n",
    "$\n",
    "=>\n",
    "$\n",
    "  \\begin{bmatrix}\n",
    "     1 &  0 &  0 &  0 &  1 \\\\\n",
    "     0 &  1 &  0 &  0 &  2 \\\\\n",
    "     0 &  0 &  1 &  0 &  2 \\\\\n",
    "     0 &  0 &  0 &  1 &  8 \\\\\n",
    "     0 &  0 &  0 &  0 &  16 \n",
    "  \\end{bmatrix}\n",
    "$\n",
    "=>\n",
    "$\n",
    "  \\begin{bmatrix}\n",
    "     1 &  0 &  0 &  0 &  1 \\\\\n",
    "     0 &  1 &  0 &  0 &  2 \\\\\n",
    "     0 &  0 &  1 &  0 &  2 \\\\\n",
    "     0 &  0 &  0 &  1 &  8 \\\\\n",
    "     0 &  0 &  0 &  0 &  1 \n",
    "  \\end{bmatrix}\n",
    "$\n",
    "$= U$\n",
    "\\\n",
    "\\\n",
    "Summing all transformations, we can retrieve the lower triangular matrix.\n",
    "\\\n",
    "$\n",
    "L =\n",
    "  \\begin{bmatrix}\n",
    "     1 &  0 &  0 &  0 &  0 \\\\\n",
    "    -1 &  1 &  0 &  0 &  0 \\\\\n",
    "    -1 & -1 &  1 &  0 &  0 \\\\\n",
    "    -1 & -1 & -1 &  1 &  0 \\\\\n",
    "    -1 & -1 & -1 & -1 &  \\frac{1}{16} \n",
    "  \\end{bmatrix}    \n",
    "$\n",
    "\\\n",
    "\\\n",
    "Specifically with this matrix $A$, there are no rows rearranged. Hence, no permutations were required. The entries of the transformed matrix did grow. The last column began to grow by $2n$ for each operation on the matrix.\n",
    "\n",
    "#### Gaussian elimination with complete pivoting\n",
    "$\n",
    "  \\begin{bmatrix}\n",
    "     1 &  0 &  0 &  0 &  1 \\\\\n",
    "    -1 &  1 &  0 &  0 &  1 \\\\\n",
    "    -1 & -1 &  1 &  0 &  1 \\\\\n",
    "    -1 & -1 & -1 &  1 &  1 \\\\\n",
    "    -1 & -1 & -1 & -1 &  1 \n",
    "  \\end{bmatrix}\n",
    "$\n",
    "=>\n",
    "$\n",
    "  \\begin{bmatrix}\n",
    "     1 &  0 &  0 &  0 &  1 \\\\\n",
    "     0 &  1 &  0 &  0 &  2 \\\\\n",
    "     0 & -1 &  1 &  0 &  2 \\\\\n",
    "     0 & -1 & -1 &  1 &  2 \\\\\n",
    "     0 & -1 & -1 & -1 &  2 \n",
    "  \\end{bmatrix}\n",
    "$\n",
    "=> pivoting column 2 and 5\n",
    "$\n",
    "  \\begin{bmatrix}\n",
    "     1 &  1 &  0 &  0 &  0 \\\\\n",
    "     0 &  2 &  0 &  0 &  1 \\\\\n",
    "     0 &  2 &  1 &  0 & -1 \\\\\n",
    "     0 &  2 & -1 &  1 & -1 \\\\\n",
    "     0 &  2 & -1 & -1 & -1 \n",
    "  \\end{bmatrix}\n",
    "$\n",
    "=>\n",
    "$\n",
    "  \\begin{bmatrix}\n",
    "     1 &  1 &  0 &  0 &  0 \\\\\n",
    "     0 &  2 &  0 &  0 &  1 \\\\\n",
    "     0 &  0 &  1 &  0 & -1 \\\\\n",
    "     0 &  0 & -1 &  1 & -1 \\\\\n",
    "     0 &  0 & -1 & -1 & -1 \n",
    "  \\end{bmatrix}\n",
    "$\n",
    "=>\n",
    "$\n",
    "  \\begin{bmatrix}\n",
    "     1 &  1 &  0 &  0 &  0 \\\\\n",
    "     0 &  2 &  0 &  0 &  1 \\\\\n",
    "     0 &  0 &  1 &  0 & -1 \\\\\n",
    "     0 &  0 &  0 &  1 &  0 \\\\\n",
    "     0 &  0 &  0 & -1 &  0 \n",
    "  \\end{bmatrix}\n",
    "$\n",
    "=>\n",
    "$\n",
    "  \\begin{bmatrix}\n",
    "     1 &  1 &  0 &  0 &  0 \\\\\n",
    "     0 &  2 &  0 &  0 &  1 \\\\\n",
    "     0 &  0 &  1 &  0 & -1 \\\\\n",
    "     0 &  0 &  0 &  1 &  0 \\\\\n",
    "     0 &  0 &  0 &  0 &  0 \n",
    "  \\end{bmatrix}\n",
    "$\n",
    "=>\n",
    "$\n",
    "  \\begin{bmatrix}\n",
    "     1 &  1 &  0 &  0 &  0 \\\\\n",
    "     0 &  1 &  0 &  0 &  \\frac{1}{2} \\\\\n",
    "     0 &  0 &  1 &  0 & -1 \\\\\n",
    "     0 &  0 &  0 &  1 &  0 \\\\\n",
    "     0 &  0 &  0 &  0 &  0 \n",
    "  \\end{bmatrix}\n",
    "$\n",
    "$= U$ \n",
    "\\\n",
    "\\\n",
    "Summing all transformations, we can retrieve the lower triangular matrix.\n",
    "\\\n",
    "$\n",
    "L =\n",
    "  \\begin{bmatrix}\n",
    "     1 &  0 &  0 &  0 &  0 \\\\\n",
    "    -1 &  \\frac{1}{2} &  0 &  0 &  0 \\\\\n",
    "    -1 &  1 &  1 &  0 &  0 \\\\\n",
    "    -1 &  1 & -1 &  1 &  0 \\\\\n",
    "    -1 &  1 & -1 & -1 &  1 \n",
    "  \\end{bmatrix}    \n",
    "$\n",
    "\\\n",
    "\\\n",
    "When using complete pivoting, we did end up rearranging columns. Here, we were required to swap column 2 and 5 for the highest value to be in the pivot position. Due to this, the entries in the matrix did not grow as we have seen in the partial pivoting."
   ]
  },
  {
   "cell_type": "markdown",
   "id": "3bccc007-74d6-4488-a1bb-0bf038cd8027",
   "metadata": {},
   "source": [
    "## (b) (2 points)\n",
    "Write a method that generates a matrix of the form of part (a) of size $n \\times n$ for any $n$. Use a library routine for Gaussian elimination with partial pivoting to solve various sizes of linear systems of this form, using right-hand-side vectors chosen so that the solution is known. Try for example the case where the true solution is a vector of uniformly distributed random numbers between 0 and 1. How do the error, residual, and condition number behave as the systems become larger? Comment on the stability (see chapter 1) of Gaussian elimination with partial pivoting in this case.\n",
    "\n",
    "N.B. This is an artificially contrived system that does not reflect the behavior of Gaussian elimination in realistic examples."
   ]
  },
  {
   "cell_type": "code",
   "execution_count": 3,
   "id": "3790cc3a-e127-478a-82b8-77947bf693a5",
   "metadata": {},
   "outputs": [],
   "source": [
    "# YOUR CODE HERE"
   ]
  }
 ],
 "metadata": {
  "kernelspec": {
   "display_name": "Python 3 (ipykernel)",
   "language": "python",
   "name": "python3"
  },
  "language_info": {
   "codemirror_mode": {
    "name": "ipython",
    "version": 3
   },
   "file_extension": ".py",
   "mimetype": "text/x-python",
   "name": "python",
   "nbconvert_exporter": "python",
   "pygments_lexer": "ipython3",
   "version": "3.9.12"
  }
 },
 "nbformat": 4,
 "nbformat_minor": 5
}
