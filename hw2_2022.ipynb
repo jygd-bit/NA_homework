{
 "cells": [
  {
   "cell_type": "markdown",
   "id": "2eb3dc99-7e74-4a77-a6a6-0978b398c7b0",
   "metadata": {
    "nbgrader": {
     "grade": false,
     "grade_id": "cell-06d3e5bf55c941ae",
     "locked": true,
     "schema_version": 3,
     "solution": false,
     "task": false
    }
   },
   "source": [
    "# Homework set 2"
   ]
  },
  {
   "cell_type": "markdown",
   "id": "07b46464-4b8c-48f6-b6bb-5c85792c5081",
   "metadata": {
    "nbgrader": {
     "grade": false,
     "grade_id": "cell-736ff6bc3e0d0696",
     "locked": true,
     "schema_version": 3,
     "solution": false,
     "task": false
    }
   },
   "source": [
    "Please **submit this Jupyter notebook through Canvas** no later than **Mon Nov. 14, 9:00**. **Submit the notebook file with your answers (as .ipynb file) and a pdf printout. The pdf version can be used by the teachers to provide feedback. A pdf version can be made using the save and export option in the Jupyter Lab file menu.**\n",
    "\n",
    "Homework is in **groups of two**, and you are expected to hand in original work. Work that is copied from another group will not be accepted."
   ]
  },
  {
   "cell_type": "markdown",
   "id": "1b87202b-2fd1-4ec7-a28c-9f983e32b623",
   "metadata": {
    "nbgrader": {
     "grade": false,
     "grade_id": "cell-b13bc5ed16bce8e0",
     "locked": true,
     "schema_version": 3,
     "solution": false,
     "task": false
    }
   },
   "source": [
    "# Exercise 0\n",
    "Write down the names + student ID of the people in your group."
   ]
  },
  {
   "cell_type": "markdown",
   "id": "09967c3d",
   "metadata": {},
   "source": [
    "Jade Dubbeld, 11692065\n",
    "\n",
    "Maickel Hartlief, 14015277"
   ]
  },
  {
   "cell_type": "markdown",
   "id": "5ddfd8b6-4006-4149-827d-fd3ef7457239",
   "metadata": {},
   "source": []
  },
  {
   "cell_type": "markdown",
   "id": "cea87535-efbc-4a7c-8ff1-dfda608dd0d6",
   "metadata": {
    "nbgrader": {
     "grade": false,
     "grade_id": "cell-b5a7855ecca9f6be",
     "locked": true,
     "schema_version": 3,
     "solution": false,
     "task": false
    }
   },
   "source": [
    "Run the following cell to import some packages, add additional packages yourself when needed."
   ]
  },
  {
   "cell_type": "code",
   "execution_count": 1,
   "id": "563ef9dc-79ef-4b36-a8b5-d64f7a922ba0",
   "metadata": {},
   "outputs": [],
   "source": [
    "import numpy as np\n",
    "import matplotlib.pyplot as plt\n",
    "from scipy import linalg\n",
    "from math import isclose"
   ]
  },
  {
   "cell_type": "markdown",
   "id": "26a26b9c-d8db-4bdb-a11d-63bddfd889d8",
   "metadata": {},
   "source": [
    "# Exercise 1"
   ]
  },
  {
   "cell_type": "markdown",
   "id": "b74868be-8e8d-4ecc-aae3-b56fcaee7994",
   "metadata": {},
   "source": [
    "## (a) 1 point\n",
    "Let $A$ be the matrix $\\begin{bmatrix} 1 & -1 & \\alpha \\\\ 2 & 2 & 1 \\\\ 0 & \\alpha & -3/2 \\end{bmatrix}$. For which values of $\\alpha$ is $A$ singular?"
   ]
  },
  {
   "cell_type": "markdown",
   "id": "2ec1b49a-bc37-459e-8a51-c384445208f0",
   "metadata": {},
   "source": [
    "A n x n matrix $A$ is nonsingular if either of the following hold:\n",
    "\\\n",
    "1. $A$ has an inverse\n",
    "2. $det(A) ≠ 0$\n",
    "3. $rank(A) = n$\n",
    "4. For all values of $z$ in range $R^n$ (except for $z ≠ 0$), we have $Mz ≠ 0$\n",
    "\\\n",
    "\\\n",
    "Therefore, to find the values of $\\alpha$ for which matrix $A$ is singular, we can solve $det(A) = 0$.\n",
    "\\\n",
    "\\\n",
    "Given n x n matrix $A$ as $\\begin{bmatrix} 1 & -1 & \\alpha \\\\ 2 & 2 & 1 \\\\ 0 & \\alpha & -\\frac{3}{2} \\end{bmatrix}$, we can derive the determinant of $A$. The definition of the determinant is $det(A) = a_{11} a_{22} a_{33} + a_{12} a_{23} a_{31} + a_{13} a_{21} a_{32} - a_{13} a_{22} a_{31} - a_{12} a_{21} a_{33} - a_{11} a_{23} a_{32}$ given a general n x n matrix $\\begin{bmatrix} a_{11} & a_{12} & a_{13} \\\\ a_{21} & a_{22} & a_{23} \\\\ a_{31} & a_{32} & a_{33} \\end{bmatrix}$\n",
    "\\\n",
    "\\\n",
    "For this case, we fill in the values of provided matrix $A$ in the definition of the determinant. Then, $det(A) = (1*2*-\\frac{3}{2})+(-1*1*0)+(\\alpha*2*\\alpha)-(\\alpha*2*0)-(-1*2*-\\frac{3}{2})-(1*1*\\alpha) = -3 + 0 + 2 \\alpha^2 - 0 - 3 - \\alpha = 2 \\alpha^2 - \\alpha - 6$\n",
    "\\\n",
    "\\\n",
    "To find the values of $\\alpha$ for which matrix $A$ is singular, we solve $det(A) = 0$.\n",
    "\\\n",
    "$2 \\alpha^2 - \\alpha - 6 = 0$\n",
    "\\\n",
    "$D = b^2 - 4 a c = (-1)^2 - 4*2*-6 = 49$\n",
    "\\\n",
    "$\\alpha = \\frac{1+\\sqrt{49}}{2*2} = 4 \\lor \\alpha = \\frac{1-\\sqrt{49}}{2*2}=-1\\frac{1}{2}$\n",
    "\\\n",
    "\\\n",
    "Thus, matrix $A$ is singular when $\\alpha$ is either $2$ or $-1\\frac{1}{2}$."
   ]
  },
  {
   "cell_type": "markdown",
   "id": "dc9baa5c-c98f-401c-bb2d-2f1a8e55077c",
   "metadata": {},
   "source": [
    "## (b) 1 point\n",
    "For the largest value of $\\alpha$ you found above, find a nonzero vector $b$ such that $Ax = b$ has infinitely many solutions. Explain your answer."
   ]
  },
  {
   "cell_type": "markdown",
   "id": "bfd3120b-8a20-4659-bb2f-bfe6246c66f1",
   "metadata": {},
   "source": [
    "The expression $Ax = b$ has infinitely many solutions if, and only if, $A$ is singular and $b \\in span(A)$. If this does not apply, $Ax = b$ has no solutions. For this exercise, the largest value of $\\alpha$ found above is $\\alpha = 2$. Then, matrix $A = \\begin{bmatrix} 1 & -1 & 2 \\\\ 2 & 2 & 1 \\\\ 0 & 2 & -\\frac{3}{2} \\end{bmatrix}$.\n",
    "\\\n",
    "To see how many solutions there are to the expression $Ax = b$ in this case, we choose an arbitrary vector $x$. Say, we choose vector $x = \\begin{bmatrix} 1 \\\\ 2 \\\\ 3 \\end{bmatrix}$.\n",
    "\\\n",
    "Then, solve $Ax = b$ using matrix multiplication.\n",
    "\\\n",
    "$\\begin{bmatrix} 1 & -1 & 2 \\\\ 2 & 2 & 1 \\\\ 0 & 2 & -\\frac{3}{2} \\end{bmatrix} \\begin{bmatrix} 1 \\\\ 2 \\\\ 3 \\end{bmatrix} = \\begin{bmatrix} 1*1 + -1*2 + 2*3 \\\\ 2*1 + 2*2 + 1*3 \\\\ 0*1 + 2*2 + -\\frac{3}{2}*3 \\end{bmatrix} = \\begin{bmatrix} 5 \\\\ 9 \\\\ -\\frac{1}{2} \\end{bmatrix}$\n",
    "\\\n",
    "\\\n",
    "We found a solution for $b$ with an arbitrary vector $x$. Thus, the $Ax = b$ has infinitely many solutions."
   ]
  },
  {
   "cell_type": "markdown",
   "id": "dfdbdbe1-cc0c-438e-bfb6-30f1e855726e",
   "metadata": {},
   "source": [
    "# Exercise 2"
   ]
  },
  {
   "cell_type": "markdown",
   "id": "0cff19ca-5a93-4219-913b-d6a4b21e240d",
   "metadata": {},
   "source": [
    "For solving linear systems such as $Ax = b$, it is unnecessary (and often unstable) to compute the inverse $A^{-1}$. Nonetheless, there can be situations where it is useful to compute $A^{-1}$ explicitly. One way to do so is by using the LU-decomposition of $A$."
   ]
  },
  {
   "cell_type": "markdown",
   "id": "1dcdc8b0-162d-4fb7-808d-0100dce86d90",
   "metadata": {},
   "source": [
    "## (a) 2 points\n",
    "Write an algorithm to compute $A^{-1}$ for a non-singular matrix $A$ using its LU-decomposition. You can use `scipy.linalg.lu` (which returns an LU-decomposition with _partial pivoting_, i.e., with a permutation matrix $P$) and the other `scipy.linalg.lu_*` functions, but not `scipy.linalg.inv` (or other methods for computing matrix inverses directly).\n",
    "\n",
    "(Make sure to import the necessary functions/packages.)"
   ]
  },
  {
   "cell_type": "code",
   "execution_count": 2,
   "id": "8b355f0f-a648-48f4-9f6f-5d27fd10ca2b",
   "metadata": {
    "nbgrader": {
     "cell_type": "code",
     "checksum": "b011ebd554ea10da4a53655bdadd6383",
     "grade": true,
     "grade_id": "cell-6f892d33e776e31f",
     "locked": false,
     "points": 2,
     "schema_version": 3,
     "solution": true,
     "task": false
    }
   },
   "outputs": [],
   "source": [
    "def forward_substitution(L, b):\n",
    "    # initialize output\n",
    "    y = np.empty(b.shape)\n",
    "    \n",
    "    # calculate first row.\n",
    "    y[0] = b[0] / L[0, 0]\n",
    "    \n",
    "    # calculating the other rows\n",
    "    for i in range(1, len(L)):\n",
    "        y[i] = (b[i] - L[i,:i] @ y[:i]) / L[i,i]  \n",
    "    \n",
    "    return y\n",
    "\n",
    "\n",
    "def back_substitution(U, y):    \n",
    "    # initializing output\n",
    "    x = np.zeros(y.shape)\n",
    "    \n",
    "    # calculate last row\n",
    "    x[-1] = y[-1] / U[-1, -1]\n",
    "    \n",
    "    # calculte the other rows (in reverse order)\n",
    "    for i in range(len(U) - 2, -1, -1):\n",
    "        x[i] = (y[i] - U[i, i:] @ x[i:]) / U[i, i]\n",
    "\n",
    "    return x\n",
    "\n",
    "\n",
    "def invert_PLU(A):\n",
    "    '''invert the matrix A'''\n",
    "    n = len(A)\n",
    "    P, L, U = linalg.lu(A)\n",
    "    \n",
    "    I = np.identity(n)\n",
    "    A_inv = np.empty((n, n))\n",
    "\n",
    "    for i in range(n):\n",
    "        y = forward_substitution(L, I[i, :] @ P)\n",
    "        A_inv[:, i] = back_substitution(U, y)\n",
    "        \n",
    "    return A_inv\n",
    "\n",
    "A = np.array([[1, 2, 3], [4, 5, 6], [7, 8, 9]])\n",
    "A_inv = linalg.inv(A)\n",
    "\n",
    "assert np.isclose(invert_PLU(A), A_inv).all()"
   ]
  },
  {
   "cell_type": "markdown",
   "id": "e0710df6-58f3-42f9-b467-10eb45c38b5e",
   "metadata": {},
   "source": [
    "## (b) 1 point\n",
    "What is the computational complexity of your algorithm, given that the input matrix has size $n \\times n$?\n",
    "Give a short calculation/explanation for your answer."
   ]
  },
  {
   "cell_type": "markdown",
   "id": "f127ab7c-e03f-4bcd-9ba7-56acb94518de",
   "metadata": {
    "nbgrader": {
     "cell_type": "markdown",
     "checksum": "2dd9d0b893218b8e70d7a0a66f09e514",
     "grade": true,
     "grade_id": "cell-a15cf95231b8aa77",
     "locked": false,
     "points": 1,
     "schema_version": 3,
     "solution": true,
     "task": false
    }
   },
   "source": [
    "First, we do LU decomposition once. This algorithm has a time-complexity of $\\mathcal{O}(n^3)$.\n",
    "\n",
    "\n",
    "Then we do forward and backward substitutions $n$ times.\n",
    "\n",
    "Both forward and backward substitution have a loop of size $n$, in which there is a dot-product that also has complexity $n$. This leads to:\n",
    "\n",
    "$n(n*n + n*n) = n(2n^2) = 2n^3 \\sim \\mathcal{O}(n^3)$\n",
    "\n",
    "Since we do LU decomposition once and then the above process once as well, we end up with:\n",
    "$\\mathcal{O}(n^3)$\n"
   ]
  },
  {
   "cell_type": "markdown",
   "id": "568578e4-715e-4b37-a8b7-ac2d39648805",
   "metadata": {},
   "source": [
    "# Exercise 3"
   ]
  },
  {
   "cell_type": "markdown",
   "id": "1e33e8dd-7e6b-4dcd-ba6a-ba606c620708",
   "metadata": {},
   "source": [
    "## (a) (2 points) \n",
    "What happens when Gaussian elimination with partial pivoting is used on a matrix of the following form?\n",
    "$$\n",
    "  \\begin{bmatrix}\n",
    "     1 &  0 &  0 &  0 &  1 \\\\\n",
    "    -1 &  1 &  0 &  0 &  1 \\\\\n",
    "    -1 & -1 &  1 &  0 &  1 \\\\\n",
    "    -1 & -1 & -1 &  1 &  1 \\\\\n",
    "    -1 & -1 & -1 & -1 &  1 \n",
    "  \\end{bmatrix}\n",
    "$$\n",
    "Do the entries of the transformed matrix grow? What happens if complete pivoting is used instead? (Note that part (a) does not require a computer.)\n"
   ]
  },
  {
   "cell_type": "markdown",
   "id": "8b94eff9-22b6-4e4e-8029-852543e2a155",
   "metadata": {},
   "source": [
    "Given matrix $A$ =\n",
    "$\n",
    "  \\begin{bmatrix}\n",
    "     1 &  0 &  0 &  0 &  1 \\\\\n",
    "    -1 &  1 &  0 &  0 &  1 \\\\\n",
    "    -1 & -1 &  1 &  0 &  1 \\\\\n",
    "    -1 & -1 & -1 &  1 &  1 \\\\\n",
    "    -1 & -1 & -1 & -1 &  1 \n",
    "  \\end{bmatrix}\n",
    "$\n",
    "we can obtain the upper and lower triangular matrix by applying Gaussian elimination (also known as LU decomposition) with partial pivoting. In partial pivoting, it is only allowed to rearrange rows in a matrix, not the columns, whereas in complete pivoting, it is allowed to rearrange both the rows and the columns.\n",
    "\n",
    "#### Gaussian elimination with partial pivoting\n",
    "$\n",
    "  \\begin{bmatrix}\n",
    "     1 &  0 &  0 &  0 &  1 \\\\\n",
    "    -1 &  1 &  0 &  0 &  1 \\\\\n",
    "    -1 & -1 &  1 &  0 &  1 \\\\\n",
    "    -1 & -1 & -1 &  1 &  1 \\\\\n",
    "    -1 & -1 & -1 & -1 &  1 \n",
    "  \\end{bmatrix}\n",
    "$\n",
    "&rarr;\n",
    "$\n",
    "  \\begin{bmatrix}\n",
    "     1 &  0 &  0 &  0 &  1 \\\\\n",
    "     0 &  1 &  0 &  0 &  2 \\\\\n",
    "     0 & -1 &  1 &  0 &  2 \\\\\n",
    "     0 & -1 & -1 &  1 &  2 \\\\\n",
    "     0 & -1 & -1 & -1 &  2 \n",
    "  \\end{bmatrix}\n",
    "$\n",
    "&rarr;\n",
    "$\n",
    "  \\begin{bmatrix}\n",
    "     1 &  0 &  0 &  0 &  1 \\\\\n",
    "     0 &  1 &  0 &  0 &  2 \\\\\n",
    "     0 &  0 &  1 &  0 &  2 \\\\\n",
    "     0 &  0 & -1 &  1 &  4 \\\\\n",
    "     0 &  0 & -1 & -1 &  4 \n",
    "  \\end{bmatrix}\n",
    "$\n",
    "&rarr;\n",
    "$\n",
    "  \\begin{bmatrix}\n",
    "     1 &  0 &  0 &  0 &  1 \\\\\n",
    "     0 &  1 &  0 &  0 &  2 \\\\\n",
    "     0 &  0 &  1 &  0 &  2 \\\\\n",
    "     0 &  0 &  0 &  1 &  8 \\\\\n",
    "     0 &  0 &  0 & -1 &  8 \n",
    "  \\end{bmatrix}\n",
    "$\n",
    "&rarr;\n",
    "$\n",
    "  \\begin{bmatrix}\n",
    "     1 &  0 &  0 &  0 &  1 \\\\\n",
    "     0 &  1 &  0 &  0 &  2 \\\\\n",
    "     0 &  0 &  1 &  0 &  2 \\\\\n",
    "     0 &  0 &  0 &  1 &  8 \\\\\n",
    "     0 &  0 &  0 &  0 &  16 \n",
    "  \\end{bmatrix}\n",
    "$\n",
    "&rarr;\n",
    "$\n",
    "  \\begin{bmatrix}\n",
    "     1 &  0 &  0 &  0 &  1 \\\\\n",
    "     0 &  1 &  0 &  0 &  2 \\\\\n",
    "     0 &  0 &  1 &  0 &  2 \\\\\n",
    "     0 &  0 &  0 &  1 &  8 \\\\\n",
    "     0 &  0 &  0 &  0 &  1 \n",
    "  \\end{bmatrix}\n",
    "$\n",
    "$= U$\n",
    "\\\n",
    "\\\n",
    "Summing all transformations, we can retrieve the lower triangular matrix.\n",
    "\\\n",
    "$\n",
    "L =\n",
    "  \\begin{bmatrix}\n",
    "     1 &  0 &  0 &  0 &  0 \\\\\n",
    "    -1 &  1 &  0 &  0 &  0 \\\\\n",
    "    -1 & -1 &  1 &  0 &  0 \\\\\n",
    "    -1 & -1 & -1 &  1 &  0 \\\\\n",
    "    -1 & -1 & -1 & -1 &  \\frac{1}{16} \n",
    "  \\end{bmatrix}    \n",
    "$\n",
    "\\\n",
    "\\\n",
    "Specifically with this matrix $A$, there are no rows rearranged. Hence, no permutations were required and no permutation matrix can be derived. The entries of the transformed matrix did grow. The last column began to grow by $2n$ for each operation on the matrix.\n",
    "\n",
    "#### Gaussian elimination with complete pivoting\n",
    "$\n",
    "  \\begin{bmatrix}\n",
    "     1 &  0 &  0 &  0 &  1 \\\\\n",
    "    -1 &  1 &  0 &  0 &  1 \\\\\n",
    "    -1 & -1 &  1 &  0 &  1 \\\\\n",
    "    -1 & -1 & -1 &  1 &  1 \\\\\n",
    "    -1 & -1 & -1 & -1 &  1 \n",
    "  \\end{bmatrix}\n",
    "$\n",
    "&rarr;\n",
    "$\n",
    "  \\begin{bmatrix}\n",
    "     1 &  0 &  0 &  0 &  1 \\\\\n",
    "     0 &  1 &  0 &  0 &  2 \\\\\n",
    "     0 & -1 &  1 &  0 &  2 \\\\\n",
    "     0 & -1 & -1 &  1 &  2 \\\\\n",
    "     0 & -1 & -1 & -1 &  2 \n",
    "  \\end{bmatrix}\n",
    "$\n",
    "&rarr; (*pivoting column 2 and 5*)\n",
    "$\n",
    "  \\begin{bmatrix}\n",
    "     1 &  1 &  0 &  0 &  0 \\\\\n",
    "     0 &  2 &  0 &  0 &  1 \\\\\n",
    "     0 &  2 &  1 &  0 & -1 \\\\\n",
    "     0 &  2 & -1 &  1 & -1 \\\\\n",
    "     0 &  2 & -1 & -1 & -1 \n",
    "  \\end{bmatrix}\n",
    "$\n",
    "&rarr;\n",
    "$\n",
    "  \\begin{bmatrix}\n",
    "     1 &  1 &  0 &  0 &  0 \\\\\n",
    "     0 &  2 &  0 &  0 &  1 \\\\\n",
    "     0 &  0 &  1 &  0 & -1 \\\\\n",
    "     0 &  0 & -1 &  1 & -1 \\\\\n",
    "     0 &  0 & -1 & -1 & -1 \n",
    "  \\end{bmatrix}\n",
    "$\n",
    "&rarr;\n",
    "$\n",
    "  \\begin{bmatrix}\n",
    "     1 &  1 &  0 &  0 &  0 \\\\\n",
    "     0 &  2 &  0 &  0 &  1 \\\\\n",
    "     0 &  0 &  1 &  0 & -1 \\\\\n",
    "     0 &  0 &  0 &  1 &  0 \\\\\n",
    "     0 &  0 &  0 & -1 &  0 \n",
    "  \\end{bmatrix}\n",
    "$\n",
    "&rarr;\n",
    "$\n",
    "  \\begin{bmatrix}\n",
    "     1 &  1 &  0 &  0 &  0 \\\\\n",
    "     0 &  2 &  0 &  0 &  1 \\\\\n",
    "     0 &  0 &  1 &  0 & -1 \\\\\n",
    "     0 &  0 &  0 &  1 &  0 \\\\\n",
    "     0 &  0 &  0 &  0 &  0 \n",
    "  \\end{bmatrix}\n",
    "$\n",
    "&rarr;\n",
    "$\n",
    "  \\begin{bmatrix}\n",
    "     1 &  1 &  0 &  0 &  0 \\\\\n",
    "     0 &  1 &  0 &  0 &  \\frac{1}{2} \\\\\n",
    "     0 &  0 &  1 &  0 & -1 \\\\\n",
    "     0 &  0 &  0 &  1 &  0 \\\\\n",
    "     0 &  0 &  0 &  0 &  0 \n",
    "  \\end{bmatrix}\n",
    "$\n",
    "$= U$ \n",
    "\\\n",
    "\\\n",
    "Summing all transformations, we can retrieve the lower triangular matrix.\n",
    "\\\n",
    "$\n",
    "L =\n",
    "  \\begin{bmatrix}\n",
    "     1 &  0 &  0 &  0 &  0 \\\\\n",
    "    -1 &  \\frac{1}{2} &  0 &  0 &  0 \\\\\n",
    "    -1 &  1 &  1 &  0 &  0 \\\\\n",
    "    -1 &  1 & -1 &  1 &  0 \\\\\n",
    "    -1 &  1 & -1 & -1 &  1 \n",
    "  \\end{bmatrix}    \n",
    "$\n",
    "\\\n",
    "\\\n",
    "When using complete pivoting, we did end up rearranging columns. Here, we were required to swap column 2 and 5 for the highest value to be in the pivot position. Hence, we have a permutation matrix $P$,\n",
    "\\\n",
    "$\n",
    "P =\n",
    "  \\begin{bmatrix}\n",
    "     1 &  0 &  0 &  0 &  0 \\\\\n",
    "     0 &  0 &  0 &  0 &  1 \\\\\n",
    "     0 &  0 &  1 &  0 &  0 \\\\\n",
    "     0 &  0 &  0 &  1 &  0 \\\\\n",
    "     0 &  1 &  0 &  0 &  0 \n",
    "  \\end{bmatrix}    \n",
    "$\n",
    "\\\n",
    "Due to this, the entries in the matrix did not grow as we have seen in the partial pivoting. However, note that te last row of transformed matrix $A$ contains only zeros (including the pivot).\n",
    "\\\n",
    "**TODO: Is it allowed to have a zero pivot for complete pivoting?**"
   ]
  },
  {
   "cell_type": "markdown",
   "id": "3bccc007-74d6-4488-a1bb-0bf038cd8027",
   "metadata": {},
   "source": [
    "## (b) (2 points)\n",
    "Write a method that generates a matrix of the form of part (a) of size $n \\times n$ for any $n$. Use a library routine for Gaussian elimination with partial pivoting to solve various sizes of linear systems of this form, using right-hand-side vectors chosen so that the solution is known. Try for example the case where the true solution is a vector of uniformly distributed random numbers between 0 and 1. How do the error, residual, and condition number behave as the systems become larger? Comment on the stability (see chapter 1) of Gaussian elimination with partial pivoting in this case.\n",
    "\n",
    "N.B. This is an artificially contrived system that does not reflect the behavior of Gaussian elimination in realistic examples."
   ]
  },
  {
   "cell_type": "markdown",
   "id": "b6c02b2c",
   "metadata": {},
   "source": [
    "Logically, it is more likely for an error to occur in a relatively larger system since there are more values to compute and therefore a higher chance of a larger error. Hence, as the system gets larger (by increasing $n$), the error also increases in value.\n",
    "\\\n",
    "**TODO residuals** *empty?*\n",
    "\\\n",
    "**TODO condition number** *same as rank(A)? how?*\n",
    "\\\n",
    "Here, the condition number is set to be calculated as described in lecture 1, i.e., taking the maximum value of the absolute values of the relative forward error over the relative backward error, $cond = max |\\frac{error_{f_{rel}}}{error_{b_{rel}}}|$.\n",
    "\\\n",
    "An algorithm is stable when it is insensitive to perturbations during computation. This is true when the condition number is small meaning that the problem is insensitive."
   ]
  },
  {
   "cell_type": "code",
   "execution_count": 9,
   "id": "3790cc3a-e127-478a-82b8-77947bf693a5",
   "metadata": {},
   "outputs": [],
   "source": [
    "def generate_matrix(n):\n",
    "    matrix = -1 * linalg.tril(np.ones((n, n)), k = -1)\n",
    "    matrix += np.identity(n)\n",
    "    matrix[:, -1] = 1\n",
    "    return matrix"
   ]
  },
  {
   "cell_type": "code",
   "execution_count": 75,
   "id": "4481ee0c",
   "metadata": {},
   "outputs": [],
   "source": [
    "def calc_cond_error(matrix, solution):\n",
    "\n",
    "    print(\"condition number: \", np.linalg.cond(matrix, p=np.inf) )\n",
    "\n",
    "    b = matrix @ solution      # with roundoff error order 1e-16\n",
    "\n",
    "    # LU decomposition with partial pivoting\n",
    "    lu, piv = linalg.lu_factor(matrix)\n",
    "    estimate = linalg.lu_solve((lu, piv), b)\n",
    "    print(\"error: \", np.linalg.norm(estimate-solution)) \n",
    "    lstsq = np.linalg.lstsq(matrix,solution)\n",
    "    print(\"least squares solution: \", lstsq[0])\n",
    "    print(\"residuals: \", lstsq[1]) # residuals, empty if rank > matrix.shape[0] or < matrix.shape[1]\n",
    "    print(\"rank: \", lstsq[2])\n",
    "    print(lstsq[2] == matrix.shape[0])\n",
    "    print(\"singular values of A: \", lstsq[3])"
   ]
  },
  {
   "cell_type": "code",
   "execution_count": 76,
   "id": "ea1840a3",
   "metadata": {},
   "outputs": [
    {
     "name": "stdout",
     "output_type": "stream",
     "text": [
      "condition number:  10.0\n",
      "error:  7.874761121542543e-15\n",
      "least squares solution:  [-0.04576427  0.05522106  0.12654036 -0.05653685 -0.39977211  0.05443163\n",
      " -0.06939655  0.111167   -0.1338834   0.50973988]\n",
      "residuals:  []\n",
      "rank:  10\n",
      "True\n",
      "singular values of A:  [6.20128722 2.44582866 1.8512543  1.65764412 1.57522551 1.53470767\n",
      " 1.51356927 1.50315584 1.41421356 1.41421356]\n"
     ]
    },
    {
     "name": "stderr",
     "output_type": "stream",
     "text": [
      "/var/folders/zb/qwtwsp1d539dg2nj7t84r7mc0000gn/T/ipykernel_35739/1141070959.py:11: FutureWarning: `rcond` parameter will change to the default of machine precision times ``max(M, N)`` where M and N are the input matrix dimensions.\n",
      "To use the future default and silence this warning we advise to pass `rcond=None`, to keep using the old, explicitly pass `rcond=-1`.\n",
      "  lstsq = np.linalg.lstsq(matrix,solution)\n"
     ]
    }
   ],
   "source": [
    "n = 10\n",
    "A = generate_matrix(n)\n",
    "solution = np.random.uniform(0,1,n)\n",
    "calc_cond_error(A,solution)"
   ]
  },
  {
   "cell_type": "code",
   "execution_count": 59,
   "id": "c4c20410",
   "metadata": {},
   "outputs": [
    {
     "name": "stdout",
     "output_type": "stream",
     "text": [
      "condition number:  20.0\n",
      "error:  8.651048809155353e-12\n",
      "solution 'x':  [-0.04559847  0.28164329  0.04479254 -0.20696325  0.12723513 -0.08435655\n",
      " -0.09012901  0.07985554 -0.09824926 -0.11048393  0.2044255  -0.16802361\n",
      "  0.11849287 -0.18510731  0.22688596 -0.37161977 -0.00067646  0.08261648\n",
      " -0.19157648  0.57108083]\n",
      "residuals:  []\n",
      "rank:  20\n",
      "singular values of A:  [12.49364201  4.37159227  2.85691052  2.27030923  1.98074933  1.8179875\n",
      "  1.718398    1.65362485  1.60951466  1.57840437  1.55587806  1.53926224\n",
      "  1.52687343  1.51761888  1.51077424  1.505855    1.50254008  1.50062599\n",
      "  1.41421356  1.41421356]\n"
     ]
    },
    {
     "name": "stderr",
     "output_type": "stream",
     "text": [
      "/var/folders/zb/qwtwsp1d539dg2nj7t84r7mc0000gn/T/ipykernel_35739/3639385442.py:11: FutureWarning: `rcond` parameter will change to the default of machine precision times ``max(M, N)`` where M and N are the input matrix dimensions.\n",
      "To use the future default and silence this warning we advise to pass `rcond=None`, to keep using the old, explicitly pass `rcond=-1`.\n",
      "  lstsq = np.linalg.lstsq(matrix,solution)\n"
     ]
    }
   ],
   "source": [
    "n = 20\n",
    "A = generate_matrix(n)\n",
    "solution = np.random.uniform(0,1,n)\n",
    "calc_cond_error(A,solution)"
   ]
  },
  {
   "cell_type": "code",
   "execution_count": 56,
   "id": "3567bdfc",
   "metadata": {},
   "outputs": [
    {
     "name": "stdout",
     "output_type": "stream",
     "text": [
      "condition number:  50.0\n",
      "error:  0.004177424359615524\n",
      "solution 'x':  [ 8.26580277e-02 -5.16093283e-02 -7.23502488e-02  2.24153445e-01\n",
      " -1.33642630e-01 -4.12101987e-01  4.19489491e-02  1.54344580e-01\n",
      "  1.39571133e-01  3.26299045e-01 -1.17663167e-01 -1.24713008e-01\n",
      " -3.49207729e-01  1.07889172e-01  2.15243512e-01  5.47693894e-02\n",
      " -1.99870094e-01  2.91464182e-01 -2.06397537e-01  1.46555676e-01\n",
      " -2.03738678e-01 -1.33188494e-01  2.07089695e-01  2.40614200e-01\n",
      " -1.29741595e-01  5.85519320e-06 -6.30678341e-02 -2.54224854e-02\n",
      "  1.75959241e-01 -1.53225927e-01  7.81535987e-02 -1.61064200e-01\n",
      "  1.03539357e-01  3.61796183e-02 -3.68970082e-01 -3.60481059e-02\n",
      " -9.46159301e-02  5.65214381e-02  8.96281183e-02  1.95510286e-01\n",
      " -2.04450747e-01  1.16733178e-01 -1.12575980e-01 -1.38987735e-02\n",
      " -1.66399002e-02  1.79827493e-01  2.50232712e-01 -3.39658696e-02\n",
      "  4.47974529e-02  5.20125001e-01]\n",
      "residuals:  []\n",
      "rank:  50\n",
      "singular values of A:  [31.54507733 10.60104603  6.46267662  4.72352762  3.78242508  3.20243412\n",
      "  2.81539511  2.54281841  2.34318984  2.19254114  2.07611069  1.98434626\n",
      "  1.91082092  1.85107201  1.80191888  1.76104418  1.72672734  1.69766967\n",
      "  1.67287661  1.65157658  1.63316401  1.61715857  1.60317565  1.59090452\n",
      "  1.58009217  1.57053105  1.56204974  1.55450578  1.5477801   1.54177268\n",
      "  1.53639907  1.5315877   1.52727765  1.52341693  1.51996104  1.51687182\n",
      "  1.51411648  1.51166685  1.50949876  1.50759145  1.5059272   1.50449094\n",
      "  1.50326998  1.50225373  1.50143354  1.50080253  1.50035547  1.50008869\n",
      "  1.41421356  1.41421356]\n"
     ]
    },
    {
     "name": "stderr",
     "output_type": "stream",
     "text": [
      "/var/folders/zb/qwtwsp1d539dg2nj7t84r7mc0000gn/T/ipykernel_35739/3639385442.py:11: FutureWarning: `rcond` parameter will change to the default of machine precision times ``max(M, N)`` where M and N are the input matrix dimensions.\n",
      "To use the future default and silence this warning we advise to pass `rcond=None`, to keep using the old, explicitly pass `rcond=-1`.\n",
      "  lstsq = np.linalg.lstsq(matrix,solution)\n"
     ]
    }
   ],
   "source": [
    "n = 50\n",
    "A = generate_matrix(n)\n",
    "solution = np.random.uniform(0,1,n)\n",
    "calc_cond_error(A,solution)"
   ]
  },
  {
   "cell_type": "code",
   "execution_count": 57,
   "id": "bd67ff8c",
   "metadata": {},
   "outputs": [
    {
     "name": "stdout",
     "output_type": "stream",
     "text": [
      "condition number:  100.0\n",
      "error:  3.4507630019224056\n",
      "solution 'x':  [-0.30321304  0.26835443  0.0900944  -0.00866842 -0.02810324  0.04474865\n",
      " -0.06615892 -0.29113714  0.23996848 -0.12167899 -0.21345072  0.18160642\n",
      " -0.0848879   0.01836378  0.1231829   0.04518863 -0.07410807  0.12804231\n",
      "  0.05160368  0.10588982 -0.13560881 -0.15419138  0.31195404 -0.26534192\n",
      " -0.00690696 -0.06593244  0.0405439   0.20098951 -0.1232475  -0.10713301\n",
      "  0.36114516 -0.12745352 -0.03883313  0.09801246  0.03940384 -0.07016612\n",
      " -0.16396693 -0.38876063  0.08232757 -0.01435601  0.11469379  0.16049529\n",
      "  0.16998629  0.17635947 -0.18747792 -0.28817672  0.25927963 -0.04562265\n",
      "  0.28823278 -0.04634117 -0.21519316  0.30261487 -0.14068433  0.02798721\n",
      " -0.16984716 -0.16940478  0.11425755 -0.08688246  0.09721204  0.20069951\n",
      " -0.07018785 -0.23000998  0.17440794 -0.12010455 -0.06020769  0.01302108\n",
      "  0.08160673  0.16816241 -0.02362168 -0.13697275  0.12750583 -0.29509951\n",
      "  0.27092831  0.05166559  0.03976274 -0.22404012  0.10130418 -0.29090854\n",
      "  0.03424787  0.22631932 -0.09152051  0.36550878 -0.09543164 -0.05592489\n",
      " -0.27671411  0.15757657 -0.17176828  0.01293346 -0.13851527  0.24271219\n",
      "  0.12658143 -0.06990469  0.05237872 -0.10118012  0.05732103 -0.04061697\n",
      "  0.1042138  -0.23053287 -0.37204253  0.41378714]\n",
      "residuals:  []\n",
      "rank:  100\n",
      "singular values of A:  [63.35995134 21.16335899 12.74991058  9.16240733  7.18330395  5.93502935\n",
      "  5.08001235  4.46068756  3.99361499  3.63047162  3.3413333   3.1066789\n",
      "  2.91323216  2.7516512   2.61517378  2.49878665  2.39869663  2.3119828\n",
      "  2.23636126  2.1700221   2.11151397  2.0596607   2.01350014  1.9722385\n",
      "  1.93521582  1.90187962  1.87176438  1.84447558  1.81967704  1.79708084\n",
      "  1.77643929  1.75753831  1.74019219  1.72423914  1.70953776  1.695964\n",
      "  1.68340874  1.67177564  1.66097944  1.65094445  1.64160332  1.63289596\n",
      "  1.62476863  1.61717317  1.61006632  1.60340912  1.59716646  1.59130658\n",
      "  1.58580075  1.5806229   1.57574936  1.57115858  1.56683092  1.56274846\n",
      "  1.55889481  1.55525499  1.55181525  1.54856297  1.54548658  1.54257543\n",
      "  1.53981969  1.53721032  1.53473899  1.53239799  1.53018019  1.52807903\n",
      "  1.52608839  1.52420263  1.52241653  1.52072524  1.51912425  1.51760939\n",
      "  1.51617679  1.51482285  1.51354425  1.51233787  1.51120084  1.51013051\n",
      "  1.5091244   1.50818022  1.50729585  1.50646934  1.50569887  1.5049828\n",
      "  1.50431957  1.50370781  1.50314622  1.50263364  1.50216902  1.50175141\n",
      "  1.50137996  1.50105393  1.50077267  1.50053561  1.50034228  1.50019231\n",
      "  1.5000854   1.50002134  1.41421356  1.41421356]\n"
     ]
    },
    {
     "name": "stderr",
     "output_type": "stream",
     "text": [
      "/var/folders/zb/qwtwsp1d539dg2nj7t84r7mc0000gn/T/ipykernel_35739/3639385442.py:11: FutureWarning: `rcond` parameter will change to the default of machine precision times ``max(M, N)`` where M and N are the input matrix dimensions.\n",
      "To use the future default and silence this warning we advise to pass `rcond=None`, to keep using the old, explicitly pass `rcond=-1`.\n",
      "  lstsq = np.linalg.lstsq(matrix,solution)\n"
     ]
    }
   ],
   "source": [
    "n = 100\n",
    "A = generate_matrix(n)\n",
    "solution = np.random.uniform(0,1,n)\n",
    "calc_cond_error(A,solution)"
   ]
  }
 ],
 "metadata": {
  "kernelspec": {
   "display_name": "Python 3 (ipykernel)",
   "language": "python",
   "name": "python3"
  },
  "language_info": {
   "codemirror_mode": {
    "name": "ipython",
    "version": 3
   },
   "file_extension": ".py",
   "mimetype": "text/x-python",
   "name": "python",
   "nbconvert_exporter": "python",
   "pygments_lexer": "ipython3",
   "version": "3.7.3"
  }
 },
 "nbformat": 4,
 "nbformat_minor": 5
}
