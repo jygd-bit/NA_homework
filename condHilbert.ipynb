{
 "cells": [
  {
   "cell_type": "code",
   "execution_count": 1,
   "id": "f9f2f50d",
   "metadata": {},
   "outputs": [],
   "source": [
    "import numpy as np\n",
    "from numpy.linalg import cond, norm\n",
    "from scipy.linalg import hilbert, lu_factor, lu_solve "
   ]
  },
  {
   "cell_type": "code",
   "execution_count": 2,
   "id": "a723106c",
   "metadata": {},
   "outputs": [
    {
     "name": "stdout",
     "output_type": "stream",
     "text": [
      "[[1.         0.5        0.33333333 0.25       0.2       ]\n",
      " [0.5        0.33333333 0.25       0.2        0.16666667]\n",
      " [0.33333333 0.25       0.2        0.16666667 0.14285714]\n",
      " [0.25       0.2        0.16666667 0.14285714 0.125     ]\n",
      " [0.2        0.16666667 0.14285714 0.125      0.11111111]]\n"
     ]
    }
   ],
   "source": [
    "n=5\n",
    "H = hilbert(n)\n",
    "print(H)"
   ]
  },
  {
   "cell_type": "code",
   "execution_count": 3,
   "id": "bf081d27",
   "metadata": {},
   "outputs": [
    {
     "data": {
      "text/plain": [
       "943655.9999995853"
      ]
     },
     "execution_count": 3,
     "metadata": {},
     "output_type": "execute_result"
    }
   ],
   "source": [
    "cond(H, p=np.inf) # default is using 2-norm, computed with SVD"
   ]
  },
  {
   "cell_type": "code",
   "execution_count": 5,
   "id": "87aed351",
   "metadata": {},
   "outputs": [
    {
     "name": "stdout",
     "output_type": "stream",
     "text": [
      "[-9.32587341e-15  6.03961325e-14  3.50830476e-14 -3.60156349e-13\n",
      "  2.86215496e-13]\n",
      "4.654002479964031e-13\n"
     ]
    }
   ],
   "source": [
    "# problem with known solution \n",
    "xTrue = np.ones(n) # true value of x\n",
    "b = H @ xTrue      # with roundoff error order 1e-16\n",
    "\n",
    "# LU decomposition with partial pivoting\n",
    "lu, piv = lu_factor(H)\n",
    "xApprox = lu_solve((lu, piv), b)\n",
    "print(xApprox-xTrue)\n",
    "print(norm(xApprox-xTrue))"
   ]
  },
  {
   "cell_type": "code",
   "execution_count": 8,
   "id": "b082526e",
   "metadata": {},
   "outputs": [
    {
     "name": "stdout",
     "output_type": "stream",
     "text": [
      "cond(H):  4.627614644977777e+18\n",
      "error:  49.822054497190166\n"
     ]
    }
   ],
   "source": [
    "def TestHilbert(n):\n",
    "    H = hilbert(n)\n",
    "    print(\"cond(H): \", cond(H, p=np.inf) )\n",
    "    # problem with known solution \n",
    "    xTrue = np.ones(n) # true value of x\n",
    "    b = H @ xTrue      # with roundoff error order 1e-16\n",
    "\n",
    "    # LU decomposition with partial pivoting\n",
    "    lu, piv = lu_factor(H)\n",
    "    xApprox = lu_solve((lu, piv), b)\n",
    "    #print(xApprox-xTrue)\n",
    "    print(\"error: \", norm(xApprox-xTrue)) \n",
    "\n",
    "TestHilbert(14)\n",
    "\n",
    "\n"
   ]
  },
  {
   "cell_type": "code",
   "execution_count": null,
   "id": "1d7be4b0",
   "metadata": {},
   "outputs": [],
   "source": []
  }
 ],
 "metadata": {
  "kernelspec": {
   "display_name": "Python 3 (ipykernel)",
   "language": "python",
   "name": "python3"
  },
  "language_info": {
   "codemirror_mode": {
    "name": "ipython",
    "version": 3
   },
   "file_extension": ".py",
   "mimetype": "text/x-python",
   "name": "python",
   "nbconvert_exporter": "python",
   "pygments_lexer": "ipython3",
   "version": "3.9.10+"
  }
 },
 "nbformat": 4,
 "nbformat_minor": 5
}
