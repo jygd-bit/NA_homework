{
 "cells": [
  {
   "cell_type": "code",
   "execution_count": 1,
   "id": "f9f2f50d",
   "metadata": {},
   "outputs": [],
   "source": [
    "import numpy as np\n",
    "from numpy.linalg import cond, norm\n",
    "from scipy.linalg import hilbert, lu_factor, lu_solve "
   ]
  },
  {
   "cell_type": "code",
   "execution_count": 2,
   "id": "a723106c",
   "metadata": {},
   "outputs": [],
   "source": [
    "n=5\n",
    "H = hilbert(n)\n",
    "# print(H)"
   ]
  },
  {
   "cell_type": "code",
   "execution_count": 3,
   "id": "bf081d27",
   "metadata": {},
   "outputs": [
    {
     "data": {
      "text/plain": [
       "943655.9999992514"
      ]
     },
     "execution_count": 3,
     "metadata": {},
     "output_type": "execute_result"
    }
   ],
   "source": [
    "cond(H, p=np.inf) # default is using 2-norm, computed with SVD"
   ]
  },
  {
   "cell_type": "code",
   "execution_count": 4,
   "id": "87aed351",
   "metadata": {},
   "outputs": [],
   "source": [
    "# problem with known solution \n",
    "xTrue = np.ones(n) # true value of x\n",
    "b = H @ xTrue      # with roundoff error order 1e-16\n",
    "\n",
    "# LU decomposition with partial pivoting\n",
    "lu, piv = lu_factor(H)\n",
    "xApprox = lu_solve((lu, piv), b)\n",
    "# print(xApprox-xTrue)\n",
    "# print(norm(xApprox-xTrue))"
   ]
  },
  {
   "cell_type": "code",
   "execution_count": 5,
   "id": "b082526e",
   "metadata": {},
   "outputs": [
    {
     "name": "stdout",
     "output_type": "stream",
     "text": [
      "[1. 1. 1. 1. 1. 1. 1. 1. 1. 1. 1. 1. 1. 1.]\n"
     ]
    }
   ],
   "source": [
    "def TestHilbert(n):\n",
    "    H = hilbert(n)\n",
    "#     print(\"cond(H): \", cond(H, p=np.inf) )\n",
    "    # problem with known solution \n",
    "    xTrue = np.ones(n) # true value of x\n",
    "    b = H @ xTrue      # with roundoff error order 1e-16\n",
    "\n",
    "    # LU decomposition with partial pivoting\n",
    "    lu, piv = lu_factor(H)\n",
    "    xApprox = lu_solve((lu, piv), b)\n",
    "    print(xTrue)\n",
    "    #print(xApprox-xTrue)\n",
    "#     print(\"error: \", norm(xApprox-xTrue)) \n",
    "\n",
    "TestHilbert(14)\n",
    "\n",
    "\n"
   ]
  },
  {
   "cell_type": "code",
   "execution_count": 7,
   "id": "1d7be4b0",
   "metadata": {},
   "outputs": [],
   "source": [
    "def calc_cond_error(matrix, solution):\n",
    "\n",
    "    print(\"condition number: \", cond(matrix, p=np.inf) )\n",
    "\n",
    "    b = matrix @ soution      # with roundoff error order 1e-16\n",
    "\n",
    "    # LU decomposition with partial pivoting\n",
    "    lu, piv = lu_factor(matrix)\n",
    "    xApprox = lu_solve((lu, piv), b)\n",
    "    #print(xApprox-xTrue)\n",
    "    print(\"error: \", norm(xApprox-xTrue)) "
   ]
  }
 ],
 "metadata": {
  "kernelspec": {
   "display_name": "Python 3 (ipykernel)",
   "language": "python",
   "name": "python3"
  },
  "language_info": {
   "codemirror_mode": {
    "name": "ipython",
    "version": 3
   },
   "file_extension": ".py",
   "mimetype": "text/x-python",
   "name": "python",
   "nbconvert_exporter": "python",
   "pygments_lexer": "ipython3",
   "version": "3.9.12"
  }
 },
 "nbformat": 4,
 "nbformat_minor": 5
}
