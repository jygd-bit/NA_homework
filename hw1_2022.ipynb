{
 "cells": [
  {
   "cell_type": "markdown",
   "id": "a4b5eddd-3e55-45fe-a52d-41d3a1d3ba9f",
   "metadata": {
    "nbgrader": {
     "grade": false,
     "grade_id": "cell-06d3e5bf55c941ae",
     "locked": true,
     "schema_version": 3,
     "solution": false,
     "task": false
    }
   },
   "source": [
    "# Homework set 1"
   ]
  },
  {
   "cell_type": "markdown",
   "id": "ae432882-ccef-459d-998b-5580d8e3462c",
   "metadata": {
    "nbgrader": {
     "grade": false,
     "grade_id": "cell-736ff6bc3e0d0696",
     "locked": true,
     "schema_version": 3,
     "solution": false,
     "task": false
    }
   },
   "source": [
    "Please **submit this Jupyter notebook through Canvas** no later than **Mon Nov. 7, 9:00**. **Submit the notebook file with your answers (as .ipynb file) and a pdf printout. The pdf version can be used by the teachers to provide feedback. A pdf version can be made using the save and export option in the Jupyter Lab file menu.**\n",
    "\n",
    "Homework is in **groups of two**, and you are expected to hand in original work. Work that is copied from another group will not be accepted."
   ]
  },
  {
   "cell_type": "markdown",
   "id": "16f915fc-c744-4de1-9d65-04622899e232",
   "metadata": {
    "nbgrader": {
     "grade": false,
     "grade_id": "cell-b13bc5ed16bce8e0",
     "locked": true,
     "schema_version": 3,
     "solution": false,
     "task": false
    }
   },
   "source": [
    "# Exercise 0\n",
    "Write down the names + student ID of the people in your group."
   ]
  },
  {
   "cell_type": "markdown",
   "id": "09f03316-f774-4fef-936a-e8c87c1e89b1",
   "metadata": {
    "nbgrader": {
     "grade": true,
     "grade_id": "cell-fd464f55ba436b1c",
     "locked": false,
     "points": 0,
     "schema_version": 3,
     "solution": true,
     "task": false
    }
   },
   "source": [
    "Maickel Hartlief - 14015277 & Jade Dubbeld - 11692065"
   ]
  },
  {
   "cell_type": "markdown",
   "id": "8aeb8567-f804-48c4-88a8-b5c7ea0fc4db",
   "metadata": {
    "nbgrader": {
     "grade": false,
     "grade_id": "cell-b5a7855ecca9f6be",
     "locked": true,
     "schema_version": 3,
     "solution": false,
     "task": false
    }
   },
   "source": [
    "Run the following cell to import the necessary packages."
   ]
  },
  {
   "cell_type": "code",
   "execution_count": 1,
   "id": "a3da6e00-3b32-42a3-b856-992edd584b02",
   "metadata": {},
   "outputs": [],
   "source": [
    "import numpy as np\n",
    "import matplotlib.pyplot as plt"
   ]
  },
  {
   "cell_type": "markdown",
   "id": "b7d6147f-2758-4005-ac37-01fc14b69a5e",
   "metadata": {
    "nbgrader": {
     "grade": false,
     "grade_id": "cell-74bf13c4a03ff7a2",
     "locked": true,
     "schema_version": 3,
     "solution": false,
     "task": false
    }
   },
   "source": [
    "## NumPy in single-precision floating point numbers\n",
    "Working with real numbers on a computer can sometimes be counter-intuitive. Not every real number cannot be represented exactly, because that would require an infinite amount of memory. Real numbers are in Python represented as \"double-precision floating point numbers\" that approximate the real numbers they represent. As such, the usual \"rules of mathematics\" no longer hold for very small or very large numbers:"
   ]
  },
  {
   "cell_type": "code",
   "execution_count": 2,
   "id": "75a739a5-a2b7-485a-9f58-2b4549c8a23a",
   "metadata": {},
   "outputs": [
    {
     "name": "stdout",
     "output_type": "stream",
     "text": [
      "very small numbers:\n",
      "0\n",
      "1e-17\n",
      "0.0\n",
      "very large numbers:\n",
      "9007199254740992.0\n",
      "9007199254740992.0\n"
     ]
    }
   ],
   "source": [
    "print(\"very small numbers:\")\n",
    "print(1 - 1)          # Should be zero\n",
    "print(1 - 1 + 1e-17)  # Should be 10 ** -17, i.e. a very small number\n",
    "print(1 + 1e-17 - 1)  # Should *also* be 10**-17, but is it?\n",
    "\n",
    "print(\"very large numbers:\")\n",
    "print(2.0**53)        # Some very large number\n",
    "print(2.0**53 + 1.0)  # Some very large number + 1"
   ]
  },
  {
   "cell_type": "markdown",
   "id": "cd6d4eb5-800a-47d9-a091-207cfdc18627",
   "metadata": {},
   "source": [
    "Usually, you don't have to worry about these rounding errors. But in scientific computing, these rounding errors sometimes become important. To reveal this problem more directly, we can decrease the precision of these approximations, using \"single precision\" instead of double precision floating point numbers, by employing `np.single`:"
   ]
  },
  {
   "cell_type": "code",
   "execution_count": 3,
   "id": "efd6c4e9-1894-4cdb-a8ad-ecf3a2ebb94f",
   "metadata": {},
   "outputs": [
    {
     "name": "stdout",
     "output_type": "stream",
     "text": [
      "1.000000001\n",
      "1.0\n"
     ]
    }
   ],
   "source": [
    "print(1.0 + 10**-9)             # Should be slightly above 1\n",
    "print(np.single(1.0 + 10**-9))  # But in single precision, it is exactly 1."
   ]
  },
  {
   "cell_type": "markdown",
   "id": "e65af873-bcc4-4af6-9217-b6c8312f4848",
   "metadata": {},
   "source": [
    "Today we will practice with these single-precision floating point numbers. One thing to keep in mind is that Python will *really* try to work with double-precision floats:"
   ]
  },
  {
   "cell_type": "code",
   "execution_count": 4,
   "id": "5bad3de4-6297-4882-995a-3215a239d8db",
   "metadata": {},
   "outputs": [
    {
     "name": "stdout",
     "output_type": "stream",
     "text": [
      "a and b represent the same value: True\n",
      "but they are of different types: <class 'float'> <class 'numpy.float32'>\n",
      "If I add zero to a, its type does not change:  True\n",
      "If I add zero to b, its type *does* change:    False\n"
     ]
    }
   ],
   "source": [
    "a = 5.0\n",
    "b = np.single(5.0)\n",
    "print(\"a and b represent the same value:\", a == b)\n",
    "print(\"but they are of different types:\", type(a), type(b))\n",
    "print(\"If I add zero to a, its type does not change: \", type(a) == type(a + 0.0))\n",
    "print(\"If I add zero to b, its type *does* change:   \", type(b) == type(b + 0.0))"
   ]
  },
  {
   "cell_type": "markdown",
   "id": "0176bb42-61e7-4f3d-8f42-c27a88da402d",
   "metadata": {},
   "source": [
    "Any time Python encounters a number like `1` or `0` or `math.pi`, it will interpret this as double precision, unless you use `np.single`. \n",
    "\n",
    "So we have to be extra careful when working with these single-precision numbers, to prevent these types changing. See the difference between `S` and `T` below."
   ]
  },
  {
   "cell_type": "code",
   "execution_count": 6,
   "id": "5351a81a-48cc-45d1-9d6b-f864e1d688ea",
   "metadata": {},
   "outputs": [
    {
     "name": "stdout",
     "output_type": "stream",
     "text": [
      "<class 'numpy.float64'>\n",
      "<class 'numpy.float32'>\n"
     ]
    }
   ],
   "source": [
    "S = 0.0\n",
    "S += np.single(5.0)\n",
    "print(type(S))\n",
    "\n",
    "T = np.single(0.0)\n",
    "T += np.single(5.0)\n",
    "print(type(T))"
   ]
  },
  {
   "cell_type": "markdown",
   "id": "176d1680-e638-4361-9e24-66f4ab4adafa",
   "metadata": {
    "nbgrader": {
     "grade": false,
     "grade_id": "cell-806a5c23e94c8795",
     "locked": true,
     "schema_version": 3,
     "solution": false,
     "task": false
    }
   },
   "source": [
    "## Very short introduction to Matplotlib\n",
    "\n",
    "`matplotlib` is a useful package for visualizing data using Python. Run the first cell below to plot $\\sqrt{x}, x, x^2, x^3$ for $x \\in [1, 10]$."
   ]
  },
  {
   "cell_type": "code",
   "execution_count": 9,
   "id": "769acab2-2b25-4306-8107-23fa85584db6",
   "metadata": {},
   "outputs": [
    {
     "name": "stdout",
     "output_type": "stream",
     "text": [
      "[ 1.  2.  3.  4.  5.  6.  7.  8.  9. 10.]\n"
     ]
    },
    {
     "data": {
      "image/png": "[encoded data removed]",
      "text/plain": [
       "<Figure size 432x288 with 1 Axes>"
      ]
     },
     "metadata": {
      "needs_background": "light"
     },
     "output_type": "display_data"
    }
   ],
   "source": [
    "x = np.linspace(1, 10, 10)  # 10 points evenly between 1 and 10.\n",
    "print(x)\n",
    "plt.plot(x, x**0.5, label=r\"$x^{1/2}$\")\n",
    "plt.plot(x, x**1, label=r\"$x$\")\n",
    "plt.plot(x, x**2, label=r\"$x^2$\")\n",
    "plt.plot(x, x**3, label=r\"$x^3$\")\n",
    "plt.legend()\n",
    "plt.show()"
   ]
  },
  {
   "cell_type": "markdown",
   "id": "e0bfd7b9-b568-46d2-b282-4087a529ce9e",
   "metadata": {
    "nbgrader": {
     "grade": false,
     "grade_id": "cell-ffd60653aaa42801",
     "locked": true,
     "schema_version": 3,
     "solution": false,
     "task": false
    }
   },
   "source": [
    "When visualizing functions where $y$ has many different orders of magnitude, a logarithmic scale is useful:"
   ]
  },
  {
   "cell_type": "code",
   "execution_count": 11,
   "id": "e5426d4a-f78c-415e-aa92-5e2a0e1e13dd",
   "metadata": {},
   "outputs": [
    {
     "data": {
      "image/png": "[encoded data removed]",
      "text/plain": [
       "<Figure size 432x288 with 1 Axes>"
      ]
     },
     "metadata": {
      "needs_background": "light"
     },
     "output_type": "display_data"
    }
   ],
   "source": [
    "x = np.linspace(1, 10, 10)\n",
    "plt.semilogy(x, x**0.5, label=r\"$x^{1/2}$\")\n",
    "plt.semilogy(x, x**1, label=r\"$x$\")\n",
    "plt.semilogy(x, x**2, label=r\"$x^2$\")\n",
    "plt.semilogy(x, x**3, label=r\"$x^3$\")\n",
    "plt.legend()\n",
    "plt.show()"
   ]
  },
  {
   "cell_type": "markdown",
   "id": "d21da59f-8056-4a2e-98cf-b53cf05c7f25",
   "metadata": {
    "nbgrader": {
     "grade": false,
     "grade_id": "cell-06341e9c8d7895d1",
     "locked": true,
     "schema_version": 3,
     "solution": false,
     "task": false
    }
   },
   "source": [
    "When also the $x$-axis contains many orders of magnitude, a log-log plot is most useful:"
   ]
  },
  {
   "cell_type": "code",
   "execution_count": 13,
   "id": "7941ed2f-038b-4937-a942-5bf095468b93",
   "metadata": {},
   "outputs": [
    {
     "name": "stdout",
     "output_type": "stream",
     "text": [
      "[1.e+01 1.e+02 1.e+03 1.e+04 1.e+05 1.e+06 1.e+07 1.e+08 1.e+09 1.e+10]\n"
     ]
    },
    {
     "data": {
      "image/png": "[encoded data removed]",
      "text/plain": [
       "<Figure size 432x288 with 1 Axes>"
      ]
     },
     "metadata": {
      "needs_background": "light"
     },
     "output_type": "display_data"
    },
    {
     "data": {
      "image/png": "[encoded data removed]",
      "text/plain": [
       "<Figure size 432x288 with 1 Axes>"
      ]
     },
     "metadata": {
      "needs_background": "light"
     },
     "output_type": "display_data"
    }
   ],
   "source": [
    "x = np.logspace(1, 10, 10, base=10)  # 10 points evenly between 10^1 and 10^10.\n",
    "print(x)\n",
    "\n",
    "plt.plot(x, x**0.5, label=r\"$x^{1/2}$\")\n",
    "plt.plot(x, x**1, label=r\"$x$\")\n",
    "plt.plot(x, x**2, label=r\"$x^2$\")\n",
    "plt.plot(x, x**3, label=r\"$x^3$\")\n",
    "plt.legend()\n",
    "plt.show()\n",
    "\n",
    "plt.loglog(x, x**0.5, label=r\"$x^{1/2}$\")\n",
    "plt.loglog(x, x**1, label=r\"$x$\")\n",
    "plt.loglog(x, x**2, label=r\"$x^2$\")\n",
    "plt.loglog(x, x**3, label=r\"$x^3$\")\n",
    "plt.legend()\n",
    "plt.show()"
   ]
  },
  {
   "cell_type": "markdown",
   "id": "68651ce5-6f66-4fee-b522-b489c71375cc",
   "metadata": {},
   "source": [
    "-----\n",
    "# Exercise 1\n",
    "This exercise is a variant of exercise 1.6 in the book.\n",
    "\n",
    "## (a) \n",
    "Lookup the Taylor series for $\\cos(x)$ in the base point $0$. (You don't have to hand in the series expansion)"
   ]
  },
  {
   "cell_type": "code",
   "execution_count": 24,
   "id": "5e7169aa",
   "metadata": {},
   "outputs": [
    {
     "name": "stdout",
     "output_type": "stream",
     "text": [
      "Cosine at 0: 1.0\n",
      "Derivatives at 0: (-0.0, -1.0, 0.0, 1.0)\n",
      "x = 0.2: 0.9800666666666666\n",
      "x = 1.0: 0.5416666666666666\n",
      "x = 2.0: -0.33333333333333337\n"
     ]
    }
   ],
   "source": [
    "import math\n",
    "\n",
    "x = 0\n",
    "\n",
    "f = math.cos(x)\n",
    "der1 = -math.sin(x)\n",
    "der2 = -math.cos(x)\n",
    "der3 = math.sin(x)\n",
    "der4 = math.cos(x)\n",
    "\n",
    "print(f\"Cosine at 0: {f}\")\n",
    "print(f\"Derivatives at 0: {der1, der2, der3, der4}\")"
   ]
  },
  {
   "cell_type": "code",
   "execution_count": 25,
   "id": "a743f71d",
   "metadata": {},
   "outputs": [],
   "source": [
    "def forward_error(y_approx,y_true):\n",
    "    return y_approx-y_true\n",
    "\n",
    "def backward_error(x_approx,x_true):\n",
    "    return x_approx-x_true"
   ]
  },
  {
   "cell_type": "code",
   "execution_count": 26,
   "id": "cff004e3",
   "metadata": {},
   "outputs": [
    {
     "name": "stdout",
     "output_type": "stream",
     "text": [
      "x = 0.2: 0.9800666666666666\n",
      "Forward: 8.882542501531532e-08\n",
      "x = 1.0: 0.5416666666666666\n",
      "Forward: 0.0013643607985268646\n",
      "x = 2.0: -0.33333333333333337\n",
      "Forward: 0.08281350321380904\n"
     ]
    }
   ],
   "source": [
    "n = [0.2, 1.0, 2.0]\n",
    "\n",
    "for term in n:\n",
    "    taylor = 1 - (term**2/math.factorial(2)) + (term**4/math.factorial(4))\n",
    "    print(f\"x = {term}: {taylor}\")\n",
    "    forward = forward_error(taylor,math.cos(term))\n",
    "    print(f\"Forward: {forward}\")"
   ]
  },
  {
   "cell_type": "markdown",
   "id": "33cb0f5b",
   "metadata": {},
   "source": [
    "## (b) (0.5 pt)\n",
    "What are the forward and backward errors if we approximate $\\cos(x)$ by the first **two** nonzero terms in the Taylor series at $x = 0.2$, $x = 1.0$ and $x = 2.0$?"
   ]
  },
  {
   "cell_type": "markdown",
   "id": "0d3fa24a-f192-46b2-9c18-14d616a98d58",
   "metadata": {},
   "source": [
    "Write your answer, using $\\LaTeX$, in this box."
   ]
  },
  {
   "cell_type": "markdown",
   "id": "a0baf087-9cd9-45a0-8a33-681ae3045f50",
   "metadata": {},
   "source": [
    "## (c) (0.5 pt)\n",
    "What are the forward and backward errors if we approximate $\\cos(x)$ by the first **three** nonzero terms in the Taylor series at $x = 0.2$, $x = 1.0$ and $x = 2.0$?"
   ]
  },
  {
   "cell_type": "markdown",
   "id": "61b5b522-c8be-4f03-a075-b6f599bd3144",
   "metadata": {},
   "source": [
    "Write your answer, using $\\LaTeX$, in this box."
   ]
  },
  {
   "cell_type": "markdown",
   "id": "78d7f534-4adf-48c9-b5f4-017aa584b63c",
   "metadata": {},
   "source": [
    "## (d) (1 pt)\n",
    "Compute the relative condition of $x \\mapsto \\cos(x)$ at $x = 0.2$, $x=1.0$ and $x=2.0$."
   ]
  },
  {
   "cell_type": "markdown",
   "id": "3a6d5310-3b58-47c7-bb62-edc57c9e9a0d",
   "metadata": {},
   "source": [
    "Write your answer, using $\\LaTeX$, in this box."
   ]
  },
  {
   "cell_type": "markdown",
   "id": "34100ca4-ae30-4bd4-8401-c9c4d5ae5deb",
   "metadata": {},
   "source": [
    "# Exercise 2"
   ]
  },
  {
   "cell_type": "markdown",
   "id": "b61c19b8-0c04-468e-8ef4-6132d751ed34",
   "metadata": {},
   "source": [
    "This exercise is about computing the sum of a set of $n$ random numbers. You are asked to implement different ways to compute the sum. To be able to compare rounding errors for the different methods, all sums have to be executed in single precision (some hints are above), and implemented by yourself, unless specifically mentioned. The result of each sum can then be compared with a reference implementation that employs the standard double precision format.\n",
    "\n",
    "Vary $n$ by choosing different powers of 10 at least up to, say, $10^7$."
   ]
  },
  {
   "cell_type": "markdown",
   "id": "2713e3f6-1167-46f0-92e6-dde435571d3a",
   "metadata": {},
   "source": [
    "## (a)\n",
    "Create a function that returns an array of $n$ single precision random numbers (here denoted by $x_1$, $i=1, \\ldots, n$), uniformly distributed in the interval $[0,1]$. You may use a suitable function from `numpy.random`.\n",
    "\n",
    "Create a function to sum the numbers using double precision computations in the order they are generated. "
   ]
  },
  {
   "cell_type": "code",
   "execution_count": 9,
   "id": "c61bc7c5-a27b-40c8-8c0f-01ce53a37935",
   "metadata": {},
   "outputs": [],
   "source": [
    "# your code here"
   ]
  },
  {
   "cell_type": "markdown",
   "id": "1eddbbda-bd42-4e55-b6b0-26fe09f253c9",
   "metadata": {},
   "source": [
    "## (b) (a+b together 2 pts)\n",
    "Create a function to sum the numbers in the order in which they were generated, this time using single-precision computations. Visualize the errors as a function of $n$ using a log-log plot."
   ]
  },
  {
   "cell_type": "code",
   "execution_count": 10,
   "id": "a7f71f02-c780-409d-8f3b-5839cc0e78f4",
   "metadata": {},
   "outputs": [],
   "source": [
    "# your code here"
   ]
  },
  {
   "cell_type": "markdown",
   "id": "f7f29cac-5801-438f-ac20-3f9409a91166",
   "metadata": {
    "tags": []
   },
   "source": [
    "## (c) (1.5 pts)\n",
    "Use the following compensated summation algorithm (due to Kahan), again using only single precision, to sum the numbers in the order in which they were generated:\n",
    "\n",
    "<img src=\"Kahan_alg.png\"\n",
    "     width=200>\n",
    " \n",
    "(algorithm at https://canvas.uva.nl/files/7499123/download?download_frd=1)\n",
    "\n",
    "Plot the error as a function of $n$."
   ]
  },
  {
   "cell_type": "code",
   "execution_count": 11,
   "id": "b344f9b5-8943-4b22-916a-9498372f1d2b",
   "metadata": {},
   "outputs": [],
   "source": [
    "# your code here"
   ]
  },
  {
   "cell_type": "markdown",
   "id": "a4f4c76d-f0b2-4b2a-918f-221d06394a5c",
   "metadata": {},
   "source": [
    "## (d) (1.5 pts)\n",
    "Sum the numbers in increasing order of magnitude and plot the error. Sum the numbers in decreasing order of magnitude and plot the error. You may use a `sort` function from NumPy or some other package. (You don't need to use the Kahan sums here.)"
   ]
  },
  {
   "cell_type": "code",
   "execution_count": 12,
   "id": "355adcec-8873-407b-8a1d-affe5d772209",
   "metadata": {},
   "outputs": [],
   "source": [
    "# your code here"
   ]
  },
  {
   "cell_type": "markdown",
   "id": "8dff90dd-cdb2-4e1f-9b09-ea69b5c8e5af",
   "metadata": {},
   "source": [
    "## (e) (2 pts)\n",
    "How do the methods rank in terms of accuracy? Can you explain the differences? Can you explain why the method of Kahan works? \n",
    "N.B.1 be precise in your explanations. Try to explain the size of any errors that are not incurred as well as of errors that are encurred.\n",
    "N.B.2 you are required to formulate an answer in text. You may also add computations if you feel this helps in the explanations."
   ]
  },
  {
   "cell_type": "markdown",
   "id": "f86cb51a-4daa-4967-81f6-42b6760c80f5",
   "metadata": {},
   "source": [
    "Write your answer, using $\\LaTeX$, in this box."
   ]
  }
 ],
 "metadata": {
  "kernelspec": {
   "display_name": "Python 3.10.2 64-bit",
   "language": "python",
   "name": "python3"
  },
  "language_info": {
   "codemirror_mode": {
    "name": "ipython",
    "version": 3
   },
   "file_extension": ".py",
   "mimetype": "text/x-python",
   "name": "python",
   "nbconvert_exporter": "python",
   "pygments_lexer": "ipython3",
   "version": "3.10.2"
  },
  "vscode": {
   "interpreter": {
    "hash": "949777d72b0d2535278d3dc13498b2535136f6dfe0678499012e853ee9abcab1"
   }
  }
 },
 "nbformat": 4,
 "nbformat_minor": 5
}
